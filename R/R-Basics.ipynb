{
 "cells": [
  {
   "cell_type": "markdown",
   "metadata": {},
   "source": [
    "# R Basics"
   ]
  },
  {
   "cell_type": "markdown",
   "metadata": {},
   "source": [
    "This is a note for the basics of R, an awesome language for data analysis. Here are some sample data I am going to use:\n",
    "\n",
    "* stateData.csv: It contains information of all states in US."
   ]
  },
  {
   "cell_type": "markdown",
   "metadata": {},
   "source": [
    "## Table of Content\n",
    "\n",
    "* [Working Directory](# working-directory)"
   ]
  },
  {
   "cell_type": "markdown",
   "metadata": {},
   "source": [
    "## Working Directory"
   ]
  },
  {
   "cell_type": "markdown",
   "metadata": {},
   "source": [
    "Before working on any projects, you may want to set up a correct working directory. It is very simple to check the current working directory and change it."
   ]
  },
  {
   "cell_type": "code",
   "execution_count": 1,
   "metadata": {},
   "outputs": [
    {
     "data": {
      "text/html": [
       "'/Users/guanrongfu/r-practice/lesson2'"
      ],
      "text/latex": [
       "'/Users/guanrongfu/r-practice/lesson2'"
      ],
      "text/markdown": [
       "'/Users/guanrongfu/r-practice/lesson2'"
      ],
      "text/plain": [
       "[1] \"/Users/guanrongfu/r-practice/lesson2\""
      ]
     },
     "metadata": {},
     "output_type": "display_data"
    }
   ],
   "source": [
    "getwd()"
   ]
  },
  {
   "cell_type": "code",
   "execution_count": 3,
   "metadata": {},
   "outputs": [
    {
     "data": {
      "text/html": [
       "'/Users/guanrongfu/r-practice/lesson3'"
      ],
      "text/latex": [
       "'/Users/guanrongfu/r-practice/lesson3'"
      ],
      "text/markdown": [
       "'/Users/guanrongfu/r-practice/lesson3'"
      ],
      "text/plain": [
       "[1] \"/Users/guanrongfu/r-practice/lesson3\""
      ]
     },
     "metadata": {},
     "output_type": "display_data"
    }
   ],
   "source": [
    "setwd('~/r-practice/lesson3')\n",
    "getwd()"
   ]
  },
  {
   "cell_type": "markdown",
   "metadata": {},
   "source": [
    "## DataFrame"
   ]
  },
  {
   "cell_type": "markdown",
   "metadata": {},
   "source": [
    "DataFrame is a data format in R. It has rows and columns, just like Excel files. You can easily get dataframe by reading a .csv file into R. I am going to use 'stateData.csv' file for the following notes."
   ]
  },
  {
   "cell_type": "code",
   "execution_count": 5,
   "metadata": {
    "collapsed": true
   },
   "outputs": [],
   "source": [
    "state_info = read.csv('stateData.csv')"
   ]
  },
  {
   "cell_type": "code",
   "execution_count": 7,
   "metadata": {},
   "outputs": [
    {
     "data": {
      "text/html": [
       "<table>\n",
       "<thead><tr><th scope=col>X</th><th scope=col>state.abb</th><th scope=col>state.area</th><th scope=col>state.region</th><th scope=col>population</th><th scope=col>income</th><th scope=col>illiteracy</th><th scope=col>life.exp</th><th scope=col>murder</th><th scope=col>highSchoolGrad</th><th scope=col>frost</th><th scope=col>area</th></tr></thead>\n",
       "<tbody>\n",
       "\t<tr><td>Alabama    </td><td>AL         </td><td> 51609     </td><td>2          </td><td> 3615      </td><td>3624       </td><td>2.1        </td><td>69.05      </td><td>15.1       </td><td>41.3       </td><td> 20        </td><td> 50708     </td></tr>\n",
       "\t<tr><td>Alaska     </td><td>AK         </td><td>589757     </td><td>4          </td><td>  365      </td><td>6315       </td><td>1.5        </td><td>69.31      </td><td>11.3       </td><td>66.7       </td><td>152        </td><td>566432     </td></tr>\n",
       "\t<tr><td>Arizona    </td><td>AZ         </td><td>113909     </td><td>4          </td><td> 2212      </td><td>4530       </td><td>1.8        </td><td>70.55      </td><td> 7.8       </td><td>58.1       </td><td> 15        </td><td>113417     </td></tr>\n",
       "\t<tr><td>Arkansas   </td><td>AR         </td><td> 53104     </td><td>2          </td><td> 2110      </td><td>3378       </td><td>1.9        </td><td>70.66      </td><td>10.1       </td><td>39.9       </td><td> 65        </td><td> 51945     </td></tr>\n",
       "\t<tr><td>California </td><td>CA         </td><td>158693     </td><td>4          </td><td>21198      </td><td>5114       </td><td>1.1        </td><td>71.71      </td><td>10.3       </td><td>62.6       </td><td> 20        </td><td>156361     </td></tr>\n",
       "\t<tr><td>Colorado   </td><td>CO         </td><td>104247     </td><td>4          </td><td> 2541      </td><td>4884       </td><td>0.7        </td><td>72.06      </td><td> 6.8       </td><td>63.9       </td><td>166        </td><td>103766     </td></tr>\n",
       "\t<tr><td>Connecticut</td><td>CT         </td><td>  5009     </td><td>1          </td><td> 3100      </td><td>5348       </td><td>1.1        </td><td>72.48      </td><td> 3.1       </td><td>56.0       </td><td>139        </td><td>  4862     </td></tr>\n",
       "\t<tr><td>Delaware   </td><td>DE         </td><td>  2057     </td><td>2          </td><td>  579      </td><td>4809       </td><td>0.9        </td><td>70.06      </td><td> 6.2       </td><td>54.6       </td><td>103        </td><td>  1982     </td></tr>\n",
       "\t<tr><td>Florida    </td><td>FL         </td><td> 58560     </td><td>2          </td><td> 8277      </td><td>4815       </td><td>1.3        </td><td>70.66      </td><td>10.7       </td><td>52.6       </td><td> 11        </td><td> 54090     </td></tr>\n",
       "\t<tr><td>Georgia    </td><td>GA         </td><td> 58876     </td><td>2          </td><td> 4931      </td><td>4091       </td><td>2.0        </td><td>68.54      </td><td>13.9       </td><td>40.6       </td><td> 60        </td><td> 58073     </td></tr>\n",
       "</tbody>\n",
       "</table>\n"
      ],
      "text/latex": [
       "\\begin{tabular}{r|llllllllllll}\n",
       " X & state.abb & state.area & state.region & population & income & illiteracy & life.exp & murder & highSchoolGrad & frost & area\\\\\n",
       "\\hline\n",
       "\t Alabama     & AL          &  51609      & 2           &  3615       & 3624        & 2.1         & 69.05       & 15.1        & 41.3        &  20         &  50708     \\\\\n",
       "\t Alaska      & AK          & 589757      & 4           &   365       & 6315        & 1.5         & 69.31       & 11.3        & 66.7        & 152         & 566432     \\\\\n",
       "\t Arizona     & AZ          & 113909      & 4           &  2212       & 4530        & 1.8         & 70.55       &  7.8        & 58.1        &  15         & 113417     \\\\\n",
       "\t Arkansas    & AR          &  53104      & 2           &  2110       & 3378        & 1.9         & 70.66       & 10.1        & 39.9        &  65         &  51945     \\\\\n",
       "\t California  & CA          & 158693      & 4           & 21198       & 5114        & 1.1         & 71.71       & 10.3        & 62.6        &  20         & 156361     \\\\\n",
       "\t Colorado    & CO          & 104247      & 4           &  2541       & 4884        & 0.7         & 72.06       &  6.8        & 63.9        & 166         & 103766     \\\\\n",
       "\t Connecticut & CT          &   5009      & 1           &  3100       & 5348        & 1.1         & 72.48       &  3.1        & 56.0        & 139         &   4862     \\\\\n",
       "\t Delaware    & DE          &   2057      & 2           &   579       & 4809        & 0.9         & 70.06       &  6.2        & 54.6        & 103         &   1982     \\\\\n",
       "\t Florida     & FL          &  58560      & 2           &  8277       & 4815        & 1.3         & 70.66       & 10.7        & 52.6        &  11         &  54090     \\\\\n",
       "\t Georgia     & GA          &  58876      & 2           &  4931       & 4091        & 2.0         & 68.54       & 13.9        & 40.6        &  60         &  58073     \\\\\n",
       "\\end{tabular}\n"
      ],
      "text/markdown": [
       "\n",
       "X | state.abb | state.area | state.region | population | income | illiteracy | life.exp | murder | highSchoolGrad | frost | area | \n",
       "|---|---|---|---|---|---|---|---|---|---|\n",
       "| Alabama     | AL          |  51609      | 2           |  3615       | 3624        | 2.1         | 69.05       | 15.1        | 41.3        |  20         |  50708      | \n",
       "| Alaska      | AK          | 589757      | 4           |   365       | 6315        | 1.5         | 69.31       | 11.3        | 66.7        | 152         | 566432      | \n",
       "| Arizona     | AZ          | 113909      | 4           |  2212       | 4530        | 1.8         | 70.55       |  7.8        | 58.1        |  15         | 113417      | \n",
       "| Arkansas    | AR          |  53104      | 2           |  2110       | 3378        | 1.9         | 70.66       | 10.1        | 39.9        |  65         |  51945      | \n",
       "| California  | CA          | 158693      | 4           | 21198       | 5114        | 1.1         | 71.71       | 10.3        | 62.6        |  20         | 156361      | \n",
       "| Colorado    | CO          | 104247      | 4           |  2541       | 4884        | 0.7         | 72.06       |  6.8        | 63.9        | 166         | 103766      | \n",
       "| Connecticut | CT          |   5009      | 1           |  3100       | 5348        | 1.1         | 72.48       |  3.1        | 56.0        | 139         |   4862      | \n",
       "| Delaware    | DE          |   2057      | 2           |   579       | 4809        | 0.9         | 70.06       |  6.2        | 54.6        | 103         |   1982      | \n",
       "| Florida     | FL          |  58560      | 2           |  8277       | 4815        | 1.3         | 70.66       | 10.7        | 52.6        |  11         |  54090      | \n",
       "| Georgia     | GA          |  58876      | 2           |  4931       | 4091        | 2.0         | 68.54       | 13.9        | 40.6        |  60         |  58073      | \n",
       "\n",
       "\n"
      ],
      "text/plain": [
       "   X           state.abb state.area state.region population income illiteracy\n",
       "1  Alabama     AL         51609     2             3615      3624   2.1       \n",
       "2  Alaska      AK        589757     4              365      6315   1.5       \n",
       "3  Arizona     AZ        113909     4             2212      4530   1.8       \n",
       "4  Arkansas    AR         53104     2             2110      3378   1.9       \n",
       "5  California  CA        158693     4            21198      5114   1.1       \n",
       "6  Colorado    CO        104247     4             2541      4884   0.7       \n",
       "7  Connecticut CT          5009     1             3100      5348   1.1       \n",
       "8  Delaware    DE          2057     2              579      4809   0.9       \n",
       "9  Florida     FL         58560     2             8277      4815   1.3       \n",
       "10 Georgia     GA         58876     2             4931      4091   2.0       \n",
       "   life.exp murder highSchoolGrad frost area  \n",
       "1  69.05    15.1   41.3            20    50708\n",
       "2  69.31    11.3   66.7           152   566432\n",
       "3  70.55     7.8   58.1            15   113417\n",
       "4  70.66    10.1   39.9            65    51945\n",
       "5  71.71    10.3   62.6            20   156361\n",
       "6  72.06     6.8   63.9           166   103766\n",
       "7  72.48     3.1   56.0           139     4862\n",
       "8  70.06     6.2   54.6           103     1982\n",
       "9  70.66    10.7   52.6            11    54090\n",
       "10 68.54    13.9   40.6            60    58073"
      ]
     },
     "metadata": {},
     "output_type": "display_data"
    }
   ],
   "source": [
    "head(state_info, 10) # Default is 6"
   ]
  },
  {
   "cell_type": "code",
   "execution_count": 8,
   "metadata": {},
   "outputs": [
    {
     "data": {
      "text/html": [
       "<table>\n",
       "<thead><tr><th></th><th scope=col>X</th><th scope=col>state.abb</th><th scope=col>state.area</th><th scope=col>state.region</th><th scope=col>population</th><th scope=col>income</th><th scope=col>illiteracy</th><th scope=col>life.exp</th><th scope=col>murder</th><th scope=col>highSchoolGrad</th><th scope=col>frost</th><th scope=col>area</th></tr></thead>\n",
       "<tbody>\n",
       "\t<tr><th scope=row>45</th><td>Vermont      </td><td>VT           </td><td> 9609        </td><td>1            </td><td> 472         </td><td>3907         </td><td>0.6          </td><td>71.64        </td><td>5.5          </td><td>57.1         </td><td>168          </td><td> 9267        </td></tr>\n",
       "\t<tr><th scope=row>46</th><td>Virginia     </td><td>VA           </td><td>40815        </td><td>2            </td><td>4981         </td><td>4701         </td><td>1.4          </td><td>70.08        </td><td>9.5          </td><td>47.8         </td><td> 85          </td><td>39780        </td></tr>\n",
       "\t<tr><th scope=row>47</th><td>Washington   </td><td>WA           </td><td>68192        </td><td>4            </td><td>3559         </td><td>4864         </td><td>0.6          </td><td>71.72        </td><td>4.3          </td><td>63.5         </td><td> 32          </td><td>66570        </td></tr>\n",
       "\t<tr><th scope=row>48</th><td>West Virginia</td><td>WV           </td><td>24181        </td><td>2            </td><td>1799         </td><td>3617         </td><td>1.4          </td><td>69.48        </td><td>6.7          </td><td>41.6         </td><td>100          </td><td>24070        </td></tr>\n",
       "\t<tr><th scope=row>49</th><td>Wisconsin    </td><td>WI           </td><td>56154        </td><td>3            </td><td>4589         </td><td>4468         </td><td>0.7          </td><td>72.48        </td><td>3.0          </td><td>54.5         </td><td>149          </td><td>54464        </td></tr>\n",
       "\t<tr><th scope=row>50</th><td>Wyoming      </td><td>WY           </td><td>97914        </td><td>4            </td><td> 376         </td><td>4566         </td><td>0.6          </td><td>70.29        </td><td>6.9          </td><td>62.9         </td><td>173          </td><td>97203        </td></tr>\n",
       "</tbody>\n",
       "</table>\n"
      ],
      "text/latex": [
       "\\begin{tabular}{r|llllllllllll}\n",
       "  & X & state.abb & state.area & state.region & population & income & illiteracy & life.exp & murder & highSchoolGrad & frost & area\\\\\n",
       "\\hline\n",
       "\t45 & Vermont       & VT            &  9609         & 1             &  472          & 3907          & 0.6           & 71.64         & 5.5           & 57.1          & 168           &  9267        \\\\\n",
       "\t46 & Virginia      & VA            & 40815         & 2             & 4981          & 4701          & 1.4           & 70.08         & 9.5           & 47.8          &  85           & 39780        \\\\\n",
       "\t47 & Washington    & WA            & 68192         & 4             & 3559          & 4864          & 0.6           & 71.72         & 4.3           & 63.5          &  32           & 66570        \\\\\n",
       "\t48 & West Virginia & WV            & 24181         & 2             & 1799          & 3617          & 1.4           & 69.48         & 6.7           & 41.6          & 100           & 24070        \\\\\n",
       "\t49 & Wisconsin     & WI            & 56154         & 3             & 4589          & 4468          & 0.7           & 72.48         & 3.0           & 54.5          & 149           & 54464        \\\\\n",
       "\t50 & Wyoming       & WY            & 97914         & 4             &  376          & 4566          & 0.6           & 70.29         & 6.9           & 62.9          & 173           & 97203        \\\\\n",
       "\\end{tabular}\n"
      ],
      "text/markdown": [
       "\n",
       "| <!--/--> | X | state.abb | state.area | state.region | population | income | illiteracy | life.exp | murder | highSchoolGrad | frost | area | \n",
       "|---|---|---|---|---|---|\n",
       "| 45 | Vermont       | VT            |  9609         | 1             |  472          | 3907          | 0.6           | 71.64         | 5.5           | 57.1          | 168           |  9267         | \n",
       "| 46 | Virginia      | VA            | 40815         | 2             | 4981          | 4701          | 1.4           | 70.08         | 9.5           | 47.8          |  85           | 39780         | \n",
       "| 47 | Washington    | WA            | 68192         | 4             | 3559          | 4864          | 0.6           | 71.72         | 4.3           | 63.5          |  32           | 66570         | \n",
       "| 48 | West Virginia | WV            | 24181         | 2             | 1799          | 3617          | 1.4           | 69.48         | 6.7           | 41.6          | 100           | 24070         | \n",
       "| 49 | Wisconsin     | WI            | 56154         | 3             | 4589          | 4468          | 0.7           | 72.48         | 3.0           | 54.5          | 149           | 54464         | \n",
       "| 50 | Wyoming       | WY            | 97914         | 4             |  376          | 4566          | 0.6           | 70.29         | 6.9           | 62.9          | 173           | 97203         | \n",
       "\n",
       "\n"
      ],
      "text/plain": [
       "   X             state.abb state.area state.region population income illiteracy\n",
       "45 Vermont       VT         9609      1             472       3907   0.6       \n",
       "46 Virginia      VA        40815      2            4981       4701   1.4       \n",
       "47 Washington    WA        68192      4            3559       4864   0.6       \n",
       "48 West Virginia WV        24181      2            1799       3617   1.4       \n",
       "49 Wisconsin     WI        56154      3            4589       4468   0.7       \n",
       "50 Wyoming       WY        97914      4             376       4566   0.6       \n",
       "   life.exp murder highSchoolGrad frost area \n",
       "45 71.64    5.5    57.1           168    9267\n",
       "46 70.08    9.5    47.8            85   39780\n",
       "47 71.72    4.3    63.5            32   66570\n",
       "48 69.48    6.7    41.6           100   24070\n",
       "49 72.48    3.0    54.5           149   54464\n",
       "50 70.29    6.9    62.9           173   97203"
      ]
     },
     "metadata": {},
     "output_type": "display_data"
    }
   ],
   "source": [
    "tail(state_info, )"
   ]
  },
  {
   "cell_type": "code",
   "execution_count": 9,
   "metadata": {},
   "outputs": [
    {
     "name": "stdout",
     "output_type": "stream",
     "text": [
      "'data.frame':\t50 obs. of  12 variables:\n",
      " $ X             : Factor w/ 50 levels \"Alabama\",\"Alaska\",..: 1 2 3 4 5 6 7 8 9 10 ...\n",
      " $ state.abb     : Factor w/ 50 levels \"AK\",\"AL\",\"AR\",..: 2 1 4 3 5 6 7 8 9 10 ...\n",
      " $ state.area    : int  51609 589757 113909 53104 158693 104247 5009 2057 58560 58876 ...\n",
      " $ state.region  : int  2 4 4 2 4 4 1 2 2 2 ...\n",
      " $ population    : int  3615 365 2212 2110 21198 2541 3100 579 8277 4931 ...\n",
      " $ income        : int  3624 6315 4530 3378 5114 4884 5348 4809 4815 4091 ...\n",
      " $ illiteracy    : num  2.1 1.5 1.8 1.9 1.1 0.7 1.1 0.9 1.3 2 ...\n",
      " $ life.exp      : num  69 69.3 70.5 70.7 71.7 ...\n",
      " $ murder        : num  15.1 11.3 7.8 10.1 10.3 6.8 3.1 6.2 10.7 13.9 ...\n",
      " $ highSchoolGrad: num  41.3 66.7 58.1 39.9 62.6 63.9 56 54.6 52.6 40.6 ...\n",
      " $ frost         : int  20 152 15 65 20 166 139 103 11 60 ...\n",
      " $ area          : int  50708 566432 113417 51945 156361 103766 4862 1982 54090 58073 ...\n"
     ]
    }
   ],
   "source": [
    "str(state_info)"
   ]
  },
  {
   "cell_type": "code",
   "execution_count": null,
   "metadata": {
    "collapsed": true
   },
   "outputs": [],
   "source": []
  }
 ],
 "metadata": {
  "kernelspec": {
   "display_name": "R",
   "language": "R",
   "name": "ir"
  },
  "language_info": {
   "codemirror_mode": "r",
   "file_extension": ".r",
   "mimetype": "text/x-r-source",
   "name": "R",
   "pygments_lexer": "r",
   "version": "3.4.1"
  }
 },
 "nbformat": 4,
 "nbformat_minor": 2
}
