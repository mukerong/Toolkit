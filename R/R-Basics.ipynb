{
 "cells": [
  {
   "cell_type": "markdown",
   "metadata": {},
   "source": [
    "# R Basics"
   ]
  },
  {
   "cell_type": "markdown",
   "metadata": {},
   "source": [
    "This is a note for the basics of R, an awesome language for data analysis. Here are some sample data I am going to use:\n",
    "\n",
    "* stateData.csv: It contains information of all states in US.\n",
    "* reddit.csv: It contains the survey results from reddit.com"
   ]
  },
  {
   "cell_type": "markdown",
   "metadata": {},
   "source": [
    "## Table of Content\n",
    "\n",
    "* [R Markdown](#r-markdown)\n",
    "* [Working Directory](#working-directory)\n",
    "* [Vector](#vector)\n",
    "* [DataFrame](#dataframe)\n",
    "* [Statistical Calculation](#statistical-calculation)\n",
    "\n",
    "---"
   ]
  },
  {
   "cell_type": "markdown",
   "metadata": {},
   "source": [
    "<a id = 'r-markdown'></a>\n",
    "## R Markdown"
   ]
  },
  {
   "cell_type": "markdown",
   "metadata": {},
   "source": [
    "R markdown is a very effective way to documente what you have wrote and share with others. The syntax is very similar to normal markdown. In RStudio, you can export .Rmd file into .html file through `KNIT HTML` button. You need to install and load `knitr` package first.\n",
    "\n",
    "```{r}\n",
    "install.packages('knitr', dependencies = T)\n",
    "library(knitr)\n",
    "```\n",
    "\n",
    "References:\n",
    "\n",
    "* [R Markdown Reference Guide](https://www.rstudio.com/wp-content/uploads/2015/03/rmarkdown-reference.pdf)\n",
    "* [R Markdown Cheetsheet](https://www.rstudio.com/wp-content/uploads/2016/03/rmarkdown-cheatsheet-2.0.pdf)\n",
    "---"
   ]
  },
  {
   "cell_type": "markdown",
   "metadata": {},
   "source": [
    "<a id='working-directory'></a>\n",
    "## Working Directory"
   ]
  },
  {
   "cell_type": "markdown",
   "metadata": {},
   "source": [
    "Before working on any projects, you may want to set up a correct working directory. It is very simple to check the current working directory and change it."
   ]
  },
  {
   "cell_type": "code",
   "execution_count": 1,
   "metadata": {},
   "outputs": [
    {
     "data": {
      "text/html": [
       "'/Users/guanrongfu/GitHub/Toolkit/R'"
      ],
      "text/latex": [
       "'/Users/guanrongfu/GitHub/Toolkit/R'"
      ],
      "text/markdown": [
       "'/Users/guanrongfu/GitHub/Toolkit/R'"
      ],
      "text/plain": [
       "[1] \"/Users/guanrongfu/GitHub/Toolkit/R\""
      ]
     },
     "metadata": {},
     "output_type": "display_data"
    }
   ],
   "source": [
    "getwd()"
   ]
  },
  {
   "cell_type": "code",
   "execution_count": 2,
   "metadata": {},
   "outputs": [
    {
     "data": {
      "text/html": [
       "'/Users/guanrongfu/GitHub/Toolkit'"
      ],
      "text/latex": [
       "'/Users/guanrongfu/GitHub/Toolkit'"
      ],
      "text/markdown": [
       "'/Users/guanrongfu/GitHub/Toolkit'"
      ],
      "text/plain": [
       "[1] \"/Users/guanrongfu/GitHub/Toolkit\""
      ]
     },
     "metadata": {},
     "output_type": "display_data"
    }
   ],
   "source": [
    "setwd('..')\n",
    "getwd()"
   ]
  },
  {
   "cell_type": "markdown",
   "metadata": {},
   "source": [
    "---"
   ]
  },
  {
   "cell_type": "markdown",
   "metadata": {},
   "source": [
    "<a id = 'vector'></a>\n",
    "## Vector"
   ]
  },
  {
   "cell_type": "markdown",
   "metadata": {},
   "source": [
    "Vector is one of the data types in R. It looks like Python list, but it must contain the same type of data: character (string), logical (True or False) or numeric.\n",
    "\n",
    "`c()` is a generic function that combines arguments to form a vector."
   ]
  },
  {
   "cell_type": "code",
   "execution_count": 3,
   "metadata": {},
   "outputs": [
    {
     "data": {
      "text/html": [
       "<ol class=list-inline>\n",
       "\t<li>1</li>\n",
       "\t<li>2</li>\n",
       "\t<li>3</li>\n",
       "\t<li>4</li>\n",
       "\t<li>5</li>\n",
       "\t<li>6</li>\n",
       "\t<li>7</li>\n",
       "\t<li>8</li>\n",
       "\t<li>9</li>\n",
       "\t<li>10</li>\n",
       "</ol>\n"
      ],
      "text/latex": [
       "\\begin{enumerate*}\n",
       "\\item 1\n",
       "\\item 2\n",
       "\\item 3\n",
       "\\item 4\n",
       "\\item 5\n",
       "\\item 6\n",
       "\\item 7\n",
       "\\item 8\n",
       "\\item 9\n",
       "\\item 10\n",
       "\\end{enumerate*}\n"
      ],
      "text/markdown": [
       "1. 1\n",
       "2. 2\n",
       "3. 3\n",
       "4. 4\n",
       "5. 5\n",
       "6. 6\n",
       "7. 7\n",
       "8. 8\n",
       "9. 9\n",
       "10. 10\n",
       "\n",
       "\n"
      ],
      "text/plain": [
       " [1]  1  2  3  4  5  6  7  8  9 10"
      ]
     },
     "metadata": {},
     "output_type": "display_data"
    }
   ],
   "source": [
    "number <- c(1:10)\n",
    "number"
   ]
  },
  {
   "cell_type": "markdown",
   "metadata": {},
   "source": [
    "You can add value to a vector as well."
   ]
  },
  {
   "cell_type": "code",
   "execution_count": 4,
   "metadata": {},
   "outputs": [
    {
     "data": {
      "text/html": [
       "<ol class=list-inline>\n",
       "\t<li>1</li>\n",
       "\t<li>2</li>\n",
       "\t<li>3</li>\n",
       "\t<li>4</li>\n",
       "\t<li>5</li>\n",
       "\t<li>6</li>\n",
       "\t<li>7</li>\n",
       "\t<li>8</li>\n",
       "\t<li>9</li>\n",
       "\t<li>10</li>\n",
       "\t<li>11</li>\n",
       "\t<li>12</li>\n",
       "\t<li>13</li>\n",
       "\t<li>14</li>\n",
       "\t<li>15</li>\n",
       "\t<li>16</li>\n",
       "\t<li>17</li>\n",
       "\t<li>18</li>\n",
       "\t<li>19</li>\n",
       "\t<li>20</li>\n",
       "</ol>\n"
      ],
      "text/latex": [
       "\\begin{enumerate*}\n",
       "\\item 1\n",
       "\\item 2\n",
       "\\item 3\n",
       "\\item 4\n",
       "\\item 5\n",
       "\\item 6\n",
       "\\item 7\n",
       "\\item 8\n",
       "\\item 9\n",
       "\\item 10\n",
       "\\item 11\n",
       "\\item 12\n",
       "\\item 13\n",
       "\\item 14\n",
       "\\item 15\n",
       "\\item 16\n",
       "\\item 17\n",
       "\\item 18\n",
       "\\item 19\n",
       "\\item 20\n",
       "\\end{enumerate*}\n"
      ],
      "text/markdown": [
       "1. 1\n",
       "2. 2\n",
       "3. 3\n",
       "4. 4\n",
       "5. 5\n",
       "6. 6\n",
       "7. 7\n",
       "8. 8\n",
       "9. 9\n",
       "10. 10\n",
       "11. 11\n",
       "12. 12\n",
       "13. 13\n",
       "14. 14\n",
       "15. 15\n",
       "16. 16\n",
       "17. 17\n",
       "18. 18\n",
       "19. 19\n",
       "20. 20\n",
       "\n",
       "\n"
      ],
      "text/plain": [
       " [1]  1  2  3  4  5  6  7  8  9 10 11 12 13 14 15 16 17 18 19 20"
      ]
     },
     "metadata": {},
     "output_type": "display_data"
    }
   ],
   "source": [
    "number <- c(number, 11:20)\n",
    "number"
   ]
  },
  {
   "cell_type": "markdown",
   "metadata": {},
   "source": [
    "You can select the value in a vector you want based on some boolean calculation, similar to Python Pandas Series."
   ]
  },
  {
   "cell_type": "code",
   "execution_count": 5,
   "metadata": {
    "collapsed": true
   },
   "outputs": [],
   "source": [
    "name <- c('Amanda', 'Bob', 'Chris')"
   ]
  },
  {
   "cell_type": "code",
   "execution_count": 6,
   "metadata": {},
   "outputs": [
    {
     "data": {
      "text/html": [
       "<ol class=list-inline>\n",
       "\t<li>6</li>\n",
       "\t<li>3</li>\n",
       "\t<li>5</li>\n",
       "</ol>\n"
      ],
      "text/latex": [
       "\\begin{enumerate*}\n",
       "\\item 6\n",
       "\\item 3\n",
       "\\item 5\n",
       "\\end{enumerate*}\n"
      ],
      "text/markdown": [
       "1. 6\n",
       "2. 3\n",
       "3. 5\n",
       "\n",
       "\n"
      ],
      "text/plain": [
       "[1] 6 3 5"
      ]
     },
     "metadata": {},
     "output_type": "display_data"
    }
   ],
   "source": [
    "name_length = nchar(name)\n",
    "name_length"
   ]
  },
  {
   "cell_type": "code",
   "execution_count": 7,
   "metadata": {},
   "outputs": [
    {
     "data": {
      "text/html": [
       "'Bob'"
      ],
      "text/latex": [
       "'Bob'"
      ],
      "text/markdown": [
       "'Bob'"
      ],
      "text/plain": [
       "[1] \"Bob\""
      ]
     },
     "metadata": {},
     "output_type": "display_data"
    }
   ],
   "source": [
    "name[name_length == 3]"
   ]
  },
  {
   "cell_type": "markdown",
   "metadata": {},
   "source": [
    "You need to be careful that you don't bring in too much data into R at once since R will hold all the data in working memory. You can delete some variables. "
   ]
  },
  {
   "cell_type": "code",
   "execution_count": 8,
   "metadata": {},
   "outputs": [],
   "source": [
    "rm(name_length)"
   ]
  },
  {
   "cell_type": "markdown",
   "metadata": {},
   "source": [
    "---"
   ]
  },
  {
   "cell_type": "markdown",
   "metadata": {},
   "source": [
    "<a id = 'matrices'></a>\n",
    "## Matrices"
   ]
  },
  {
   "cell_type": "markdown",
   "metadata": {},
   "source": [
    "Matrices is like a numpy two-dimensional array. All columns in a matrix must have the same mode (numberic, character, etc.) and the same length. The general format is:\n",
    "\n",
    "my_matrix <- matrix(vector, nrow=r, ncol=c, byrow=FALSE, dimnames=list(char_vector_rownames, char_vector_colnames))\n",
    "\n",
    "`byrow=FALSE` is the default choice, meaning the matrix should be filled by columns. `dimnames` provides optional labels for the columns and rows."
   ]
  },
  {
   "cell_type": "code",
   "execution_count": 9,
   "metadata": {},
   "outputs": [
    {
     "data": {
      "text/html": [
       "<table>\n",
       "<tbody>\n",
       "\t<tr><td>1 </td><td> 6</td><td>11</td><td>16</td></tr>\n",
       "\t<tr><td>2 </td><td> 7</td><td>12</td><td>17</td></tr>\n",
       "\t<tr><td>3 </td><td> 8</td><td>13</td><td>18</td></tr>\n",
       "\t<tr><td>4 </td><td> 9</td><td>14</td><td>19</td></tr>\n",
       "\t<tr><td>5 </td><td>10</td><td>15</td><td>20</td></tr>\n",
       "</tbody>\n",
       "</table>\n"
      ],
      "text/latex": [
       "\\begin{tabular}{llll}\n",
       "\t 1  &  6 & 11 & 16\\\\\n",
       "\t 2  &  7 & 12 & 17\\\\\n",
       "\t 3  &  8 & 13 & 18\\\\\n",
       "\t 4  &  9 & 14 & 19\\\\\n",
       "\t 5  & 10 & 15 & 20\\\\\n",
       "\\end{tabular}\n"
      ],
      "text/markdown": [
       "\n",
       "| 1  |  6 | 11 | 16 | \n",
       "| 2  |  7 | 12 | 17 | \n",
       "| 3  |  8 | 13 | 18 | \n",
       "| 4  |  9 | 14 | 19 | \n",
       "| 5  | 10 | 15 | 20 | \n",
       "\n",
       "\n"
      ],
      "text/plain": [
       "     [,1] [,2] [,3] [,4]\n",
       "[1,] 1     6   11   16  \n",
       "[2,] 2     7   12   17  \n",
       "[3,] 3     8   13   18  \n",
       "[4,] 4     9   14   19  \n",
       "[5,] 5    10   15   20  "
      ]
     },
     "metadata": {},
     "output_type": "display_data"
    }
   ],
   "source": [
    "y <- matrix(1:20, nrow=5, ncol=4)\n",
    "y"
   ]
  },
  {
   "cell_type": "code",
   "execution_count": 10,
   "metadata": {},
   "outputs": [
    {
     "data": {
      "text/html": [
       "<table>\n",
       "<thead><tr><th></th><th scope=col>C1</th><th scope=col>C2</th></tr></thead>\n",
       "<tbody>\n",
       "\t<tr><th scope=row>R1</th><td> 1</td><td>26</td></tr>\n",
       "\t<tr><th scope=row>R2</th><td>24</td><td>68</td></tr>\n",
       "</tbody>\n",
       "</table>\n"
      ],
      "text/latex": [
       "\\begin{tabular}{r|ll}\n",
       "  & C1 & C2\\\\\n",
       "\\hline\n",
       "\tR1 &  1 & 26\\\\\n",
       "\tR2 & 24 & 68\\\\\n",
       "\\end{tabular}\n"
      ],
      "text/markdown": [
       "\n",
       "| <!--/--> | C1 | C2 | \n",
       "|---|---|\n",
       "| R1 |  1 | 26 | \n",
       "| R2 | 24 | 68 | \n",
       "\n",
       "\n"
      ],
      "text/plain": [
       "   C1 C2\n",
       "R1  1 26\n",
       "R2 24 68"
      ]
     },
     "metadata": {},
     "output_type": "display_data"
    }
   ],
   "source": [
    "cells <- c(1, 26, 24, 68)\n",
    "rnames <- c('R1', 'R2')\n",
    "cnames <- c('C1', 'C2')\n",
    "new_matrix <- matrix(cells, nrow=2, ncol=2, byrow=TRUE, dimnames=list(rnames, cnames))\n",
    "new_matrix"
   ]
  },
  {
   "cell_type": "markdown",
   "metadata": {},
   "source": [
    "Similar to numpy, you can use index to find the elements you are looking for. Just remember R is **NOT** zero indexing. The index starts from **1**."
   ]
  },
  {
   "cell_type": "code",
   "execution_count": 11,
   "metadata": {},
   "outputs": [
    {
     "data": {
      "text/html": [
       "<ol class=list-inline>\n",
       "\t<li>16</li>\n",
       "\t<li>17</li>\n",
       "\t<li>18</li>\n",
       "\t<li>19</li>\n",
       "\t<li>20</li>\n",
       "</ol>\n"
      ],
      "text/latex": [
       "\\begin{enumerate*}\n",
       "\\item 16\n",
       "\\item 17\n",
       "\\item 18\n",
       "\\item 19\n",
       "\\item 20\n",
       "\\end{enumerate*}\n"
      ],
      "text/markdown": [
       "1. 16\n",
       "2. 17\n",
       "3. 18\n",
       "4. 19\n",
       "5. 20\n",
       "\n",
       "\n"
      ],
      "text/plain": [
       "[1] 16 17 18 19 20"
      ]
     },
     "metadata": {},
     "output_type": "display_data"
    }
   ],
   "source": [
    "y[, 4]"
   ]
  },
  {
   "cell_type": "code",
   "execution_count": 12,
   "metadata": {},
   "outputs": [
    {
     "data": {
      "text/html": [
       "<ol class=list-inline>\n",
       "\t<li>1</li>\n",
       "\t<li>6</li>\n",
       "\t<li>11</li>\n",
       "\t<li>16</li>\n",
       "</ol>\n"
      ],
      "text/latex": [
       "\\begin{enumerate*}\n",
       "\\item 1\n",
       "\\item 6\n",
       "\\item 11\n",
       "\\item 16\n",
       "\\end{enumerate*}\n"
      ],
      "text/markdown": [
       "1. 1\n",
       "2. 6\n",
       "3. 11\n",
       "4. 16\n",
       "\n",
       "\n"
      ],
      "text/plain": [
       "[1]  1  6 11 16"
      ]
     },
     "metadata": {},
     "output_type": "display_data"
    }
   ],
   "source": [
    "y[1, ]"
   ]
  },
  {
   "cell_type": "code",
   "execution_count": 13,
   "metadata": {},
   "outputs": [
    {
     "data": {
      "text/html": [
       "<table>\n",
       "<tbody>\n",
       "\t<tr><td>6 </td><td>11</td></tr>\n",
       "\t<tr><td>7 </td><td>12</td></tr>\n",
       "</tbody>\n",
       "</table>\n"
      ],
      "text/latex": [
       "\\begin{tabular}{ll}\n",
       "\t 6  & 11\\\\\n",
       "\t 7  & 12\\\\\n",
       "\\end{tabular}\n"
      ],
      "text/markdown": [
       "\n",
       "| 6  | 11 | \n",
       "| 7  | 12 | \n",
       "\n",
       "\n"
      ],
      "text/plain": [
       "     [,1] [,2]\n",
       "[1,] 6    11  \n",
       "[2,] 7    12  "
      ]
     },
     "metadata": {},
     "output_type": "display_data"
    }
   ],
   "source": [
    "y[1:2, 2:3]"
   ]
  },
  {
   "cell_type": "markdown",
   "metadata": {},
   "source": [
    "---"
   ]
  },
  {
   "cell_type": "markdown",
   "metadata": {},
   "source": [
    "<a id = 'arrays'></a>\n",
    "## Arrays"
   ]
  },
  {
   "cell_type": "markdown",
   "metadata": {},
   "source": [
    "Arrays are similar to matrices but can have more than two dimenstions."
   ]
  },
  {
   "cell_type": "markdown",
   "metadata": {},
   "source": [
    "---"
   ]
  },
  {
   "cell_type": "markdown",
   "metadata": {},
   "source": [
    "<a id = 'dataframe'></a>\n",
    "## Data Frame"
   ]
  },
  {
   "cell_type": "markdown",
   "metadata": {},
   "source": [
    "Data Frame is another data format in R. It has rows and columns, just like Excel files. It is more general than a matrix, you can have different data types (numeric, character, etc.) in different columns."
   ]
  },
  {
   "cell_type": "code",
   "execution_count": 14,
   "metadata": {},
   "outputs": [
    {
     "data": {
      "text/html": [
       "<table>\n",
       "<thead><tr><th scope=col>ID</th><th scope=col>Color</th><th scope=col>Passed</th></tr></thead>\n",
       "<tbody>\n",
       "\t<tr><td>1    </td><td>red  </td><td> TRUE</td></tr>\n",
       "\t<tr><td>2    </td><td>white</td><td> TRUE</td></tr>\n",
       "\t<tr><td>3    </td><td>red  </td><td> TRUE</td></tr>\n",
       "\t<tr><td>4    </td><td>NA   </td><td>FALSE</td></tr>\n",
       "</tbody>\n",
       "</table>\n"
      ],
      "text/latex": [
       "\\begin{tabular}{r|lll}\n",
       " ID & Color & Passed\\\\\n",
       "\\hline\n",
       "\t 1     & red   &  TRUE\\\\\n",
       "\t 2     & white &  TRUE\\\\\n",
       "\t 3     & red   &  TRUE\\\\\n",
       "\t 4     & NA    & FALSE\\\\\n",
       "\\end{tabular}\n"
      ],
      "text/markdown": [
       "\n",
       "ID | Color | Passed | \n",
       "|---|---|---|---|\n",
       "| 1     | red   |  TRUE | \n",
       "| 2     | white |  TRUE | \n",
       "| 3     | red   |  TRUE | \n",
       "| 4     | NA    | FALSE | \n",
       "\n",
       "\n"
      ],
      "text/plain": [
       "  ID Color Passed\n",
       "1 1  red    TRUE \n",
       "2 2  white  TRUE \n",
       "3 3  red    TRUE \n",
       "4 4  NA    FALSE "
      ]
     },
     "metadata": {},
     "output_type": "display_data"
    }
   ],
   "source": [
    "d <- c(1, 2, 3, 4)\n",
    "e <- c('red', 'white', 'red', NA)\n",
    "f <- c(TRUE, TRUE, TRUE, FALSE)\n",
    "mydata <- data.frame(d, e, f)\n",
    "names(mydata) <- c('ID', 'Color', 'Passed')\n",
    "mydata"
   ]
  },
  {
   "cell_type": "markdown",
   "metadata": {},
   "source": [
    "Similar to Matrices, you can access the elements through indexing"
   ]
  },
  {
   "cell_type": "code",
   "execution_count": 15,
   "metadata": {},
   "outputs": [
    {
     "data": {
      "text/html": [
       "<table>\n",
       "<thead><tr><th scope=col>ID</th><th scope=col>Color</th></tr></thead>\n",
       "<tbody>\n",
       "\t<tr><td>1    </td><td>red  </td></tr>\n",
       "\t<tr><td>2    </td><td>white</td></tr>\n",
       "\t<tr><td>3    </td><td>red  </td></tr>\n",
       "\t<tr><td>4    </td><td>NA   </td></tr>\n",
       "</tbody>\n",
       "</table>\n"
      ],
      "text/latex": [
       "\\begin{tabular}{r|ll}\n",
       " ID & Color\\\\\n",
       "\\hline\n",
       "\t 1     & red  \\\\\n",
       "\t 2     & white\\\\\n",
       "\t 3     & red  \\\\\n",
       "\t 4     & NA   \\\\\n",
       "\\end{tabular}\n"
      ],
      "text/markdown": [
       "\n",
       "ID | Color | \n",
       "|---|---|---|---|\n",
       "| 1     | red   | \n",
       "| 2     | white | \n",
       "| 3     | red   | \n",
       "| 4     | NA    | \n",
       "\n",
       "\n"
      ],
      "text/plain": [
       "  ID Color\n",
       "1 1  red  \n",
       "2 2  white\n",
       "3 3  red  \n",
       "4 4  NA   "
      ]
     },
     "metadata": {},
     "output_type": "display_data"
    }
   ],
   "source": [
    "mydata[1:2]"
   ]
  },
  {
   "cell_type": "code",
   "execution_count": 16,
   "metadata": {},
   "outputs": [
    {
     "data": {
      "text/html": [
       "<table>\n",
       "<thead><tr><th scope=col>ID</th><th scope=col>Passed</th></tr></thead>\n",
       "<tbody>\n",
       "\t<tr><td>1    </td><td> TRUE</td></tr>\n",
       "\t<tr><td>2    </td><td> TRUE</td></tr>\n",
       "\t<tr><td>3    </td><td> TRUE</td></tr>\n",
       "\t<tr><td>4    </td><td>FALSE</td></tr>\n",
       "</tbody>\n",
       "</table>\n"
      ],
      "text/latex": [
       "\\begin{tabular}{r|ll}\n",
       " ID & Passed\\\\\n",
       "\\hline\n",
       "\t 1     &  TRUE\\\\\n",
       "\t 2     &  TRUE\\\\\n",
       "\t 3     &  TRUE\\\\\n",
       "\t 4     & FALSE\\\\\n",
       "\\end{tabular}\n"
      ],
      "text/markdown": [
       "\n",
       "ID | Passed | \n",
       "|---|---|---|---|\n",
       "| 1     |  TRUE | \n",
       "| 2     |  TRUE | \n",
       "| 3     |  TRUE | \n",
       "| 4     | FALSE | \n",
       "\n",
       "\n"
      ],
      "text/plain": [
       "  ID Passed\n",
       "1 1   TRUE \n",
       "2 2   TRUE \n",
       "3 3   TRUE \n",
       "4 4  FALSE "
      ]
     },
     "metadata": {},
     "output_type": "display_data"
    }
   ],
   "source": [
    "mydata[c('ID', 'Passed')]"
   ]
  },
  {
   "cell_type": "code",
   "execution_count": 17,
   "metadata": {},
   "outputs": [
    {
     "data": {
      "text/html": [
       "<ol class=list-inline>\n",
       "\t<li>red</li>\n",
       "\t<li>white</li>\n",
       "\t<li>red</li>\n",
       "\t<li>NA</li>\n",
       "</ol>\n"
      ],
      "text/latex": [
       "\\begin{enumerate*}\n",
       "\\item red\n",
       "\\item white\n",
       "\\item red\n",
       "\\item NA\n",
       "\\end{enumerate*}\n"
      ],
      "text/markdown": [
       "1. red\n",
       "2. white\n",
       "3. red\n",
       "4. NA\n",
       "\n",
       "\n"
      ],
      "text/plain": [
       "[1] red   white red   <NA> \n",
       "Levels: red white"
      ]
     },
     "metadata": {},
     "output_type": "display_data"
    }
   ],
   "source": [
    "mydata$Color"
   ]
  },
  {
   "cell_type": "markdown",
   "metadata": {},
   "source": [
    "You can easily get data frame by reading a .csv file into R. I am going to use 'stateData.csv' file for the following notes."
   ]
  },
  {
   "cell_type": "code",
   "execution_count": 6,
   "metadata": {
    "collapsed": true
   },
   "outputs": [],
   "source": [
    "state_info <- read.csv('stateData.csv')"
   ]
  },
  {
   "cell_type": "markdown",
   "metadata": {},
   "source": [
    "### Overview of DataFrame"
   ]
  },
  {
   "cell_type": "code",
   "execution_count": 7,
   "metadata": {
    "scrolled": true
   },
   "outputs": [
    {
     "data": {
      "text/html": [
       "<table>\n",
       "<thead><tr><th scope=col>X</th><th scope=col>state.abb</th><th scope=col>state.area</th><th scope=col>state.region</th><th scope=col>population</th><th scope=col>income</th><th scope=col>illiteracy</th><th scope=col>life.exp</th><th scope=col>murder</th><th scope=col>highSchoolGrad</th><th scope=col>frost</th><th scope=col>area</th></tr></thead>\n",
       "<tbody>\n",
       "\t<tr><td>Alabama       </td><td>AL            </td><td> 51609        </td><td>2             </td><td> 3615         </td><td>3624          </td><td>2.1           </td><td>69.05         </td><td>15.1          </td><td>41.3          </td><td> 20           </td><td> 50708        </td></tr>\n",
       "\t<tr><td>Alaska        </td><td>AK            </td><td>589757        </td><td>4             </td><td>  365         </td><td>6315          </td><td>1.5           </td><td>69.31         </td><td>11.3          </td><td>66.7          </td><td>152           </td><td>566432        </td></tr>\n",
       "\t<tr><td>Arizona       </td><td>AZ            </td><td>113909        </td><td>4             </td><td> 2212         </td><td>4530          </td><td>1.8           </td><td>70.55         </td><td> 7.8          </td><td>58.1          </td><td> 15           </td><td>113417        </td></tr>\n",
       "\t<tr><td>Arkansas      </td><td>AR            </td><td> 53104        </td><td>2             </td><td> 2110         </td><td>3378          </td><td>1.9           </td><td>70.66         </td><td>10.1          </td><td>39.9          </td><td> 65           </td><td> 51945        </td></tr>\n",
       "\t<tr><td>California    </td><td>CA            </td><td>158693        </td><td>4             </td><td>21198         </td><td>5114          </td><td>1.1           </td><td>71.71         </td><td>10.3          </td><td>62.6          </td><td> 20           </td><td>156361        </td></tr>\n",
       "\t<tr><td>Colorado      </td><td>CO            </td><td>104247        </td><td>4             </td><td> 2541         </td><td>4884          </td><td>0.7           </td><td>72.06         </td><td> 6.8          </td><td>63.9          </td><td>166           </td><td>103766        </td></tr>\n",
       "\t<tr><td>Connecticut   </td><td>CT            </td><td>  5009        </td><td>1             </td><td> 3100         </td><td>5348          </td><td>1.1           </td><td>72.48         </td><td> 3.1          </td><td>56.0          </td><td>139           </td><td>  4862        </td></tr>\n",
       "\t<tr><td>Delaware      </td><td>DE            </td><td>  2057        </td><td>2             </td><td>  579         </td><td>4809          </td><td>0.9           </td><td>70.06         </td><td> 6.2          </td><td>54.6          </td><td>103           </td><td>  1982        </td></tr>\n",
       "\t<tr><td>Florida       </td><td>FL            </td><td> 58560        </td><td>2             </td><td> 8277         </td><td>4815          </td><td>1.3           </td><td>70.66         </td><td>10.7          </td><td>52.6          </td><td> 11           </td><td> 54090        </td></tr>\n",
       "\t<tr><td>Georgia       </td><td>GA            </td><td> 58876        </td><td>2             </td><td> 4931         </td><td>4091          </td><td>2.0           </td><td>68.54         </td><td>13.9          </td><td>40.6          </td><td> 60           </td><td> 58073        </td></tr>\n",
       "\t<tr><td>Hawaii        </td><td>HI            </td><td>  6450        </td><td>4             </td><td>  868         </td><td>4963          </td><td>1.9           </td><td>73.60         </td><td> 6.2          </td><td>61.9          </td><td>  0           </td><td>  6425        </td></tr>\n",
       "\t<tr><td>Idaho         </td><td>ID            </td><td> 83557        </td><td>4             </td><td>  813         </td><td>4119          </td><td>0.6           </td><td>71.87         </td><td> 5.3          </td><td>59.5          </td><td>126           </td><td> 82677        </td></tr>\n",
       "\t<tr><td>Illinois      </td><td>IL            </td><td> 56400        </td><td>3             </td><td>11197         </td><td>5107          </td><td>0.9           </td><td>70.14         </td><td>10.3          </td><td>52.6          </td><td>127           </td><td> 55748        </td></tr>\n",
       "\t<tr><td>Indiana       </td><td>IN            </td><td> 36291        </td><td>3             </td><td> 5313         </td><td>4458          </td><td>0.7           </td><td>70.88         </td><td> 7.1          </td><td>52.9          </td><td>122           </td><td> 36097        </td></tr>\n",
       "\t<tr><td>Iowa          </td><td>IA            </td><td> 56290        </td><td>3             </td><td> 2861         </td><td>4628          </td><td>0.5           </td><td>72.56         </td><td> 2.3          </td><td>59.0          </td><td>140           </td><td> 55941        </td></tr>\n",
       "\t<tr><td>Kansas        </td><td>KS            </td><td> 82264        </td><td>3             </td><td> 2280         </td><td>4669          </td><td>0.6           </td><td>72.58         </td><td> 4.5          </td><td>59.9          </td><td>114           </td><td> 81787        </td></tr>\n",
       "\t<tr><td>Kentucky      </td><td>KY            </td><td> 40395        </td><td>2             </td><td> 3387         </td><td>3712          </td><td>1.6           </td><td>70.10         </td><td>10.6          </td><td>38.5          </td><td> 95           </td><td> 39650        </td></tr>\n",
       "\t<tr><td>Louisiana     </td><td>LA            </td><td> 48523        </td><td>2             </td><td> 3806         </td><td>3545          </td><td>2.8           </td><td>68.76         </td><td>13.2          </td><td>42.2          </td><td> 12           </td><td> 44930        </td></tr>\n",
       "\t<tr><td>Maine         </td><td>ME            </td><td> 33215        </td><td>1             </td><td> 1058         </td><td>3694          </td><td>0.7           </td><td>70.39         </td><td> 2.7          </td><td>54.7          </td><td>161           </td><td> 30920        </td></tr>\n",
       "\t<tr><td>Maryland      </td><td>MD            </td><td> 10577        </td><td>2             </td><td> 4122         </td><td>5299          </td><td>0.9           </td><td>70.22         </td><td> 8.5          </td><td>52.3          </td><td>101           </td><td>  9891        </td></tr>\n",
       "\t<tr><td>Massachusetts </td><td>MA            </td><td>  8257        </td><td>1             </td><td> 5814         </td><td>4755          </td><td>1.1           </td><td>71.83         </td><td> 3.3          </td><td>58.5          </td><td>103           </td><td>  7826        </td></tr>\n",
       "\t<tr><td>Michigan      </td><td>MI            </td><td> 58216        </td><td>3             </td><td> 9111         </td><td>4751          </td><td>0.9           </td><td>70.63         </td><td>11.1          </td><td>52.8          </td><td>125           </td><td> 56817        </td></tr>\n",
       "\t<tr><td>Minnesota     </td><td>MN            </td><td> 84068        </td><td>3             </td><td> 3921         </td><td>4675          </td><td>0.6           </td><td>72.96         </td><td> 2.3          </td><td>57.6          </td><td>160           </td><td> 79289        </td></tr>\n",
       "\t<tr><td>Mississippi   </td><td>MS            </td><td> 47716        </td><td>2             </td><td> 2341         </td><td>3098          </td><td>2.4           </td><td>68.09         </td><td>12.5          </td><td>41.0          </td><td> 50           </td><td> 47296        </td></tr>\n",
       "\t<tr><td>Missouri      </td><td>MO            </td><td> 69686        </td><td>3             </td><td> 4767         </td><td>4254          </td><td>0.8           </td><td>70.69         </td><td> 9.3          </td><td>48.8          </td><td>108           </td><td> 68995        </td></tr>\n",
       "\t<tr><td>Montana       </td><td>MT            </td><td>147138        </td><td>4             </td><td>  746         </td><td>4347          </td><td>0.6           </td><td>70.56         </td><td> 5.0          </td><td>59.2          </td><td>155           </td><td>145587        </td></tr>\n",
       "\t<tr><td>Nebraska      </td><td>NE            </td><td> 77227        </td><td>3             </td><td> 1544         </td><td>4508          </td><td>0.6           </td><td>72.60         </td><td> 2.9          </td><td>59.3          </td><td>139           </td><td> 76483        </td></tr>\n",
       "\t<tr><td>Nevada        </td><td>NV            </td><td>110540        </td><td>4             </td><td>  590         </td><td>5149          </td><td>0.5           </td><td>69.03         </td><td>11.5          </td><td>65.2          </td><td>188           </td><td>109889        </td></tr>\n",
       "\t<tr><td>New Hampshire </td><td>NH            </td><td>  9304        </td><td>1             </td><td>  812         </td><td>4281          </td><td>0.7           </td><td>71.23         </td><td> 3.3          </td><td>57.6          </td><td>174           </td><td>  9027        </td></tr>\n",
       "\t<tr><td>New Jersey    </td><td>NJ            </td><td>  7836        </td><td>1             </td><td> 7333         </td><td>5237          </td><td>1.1           </td><td>70.93         </td><td> 5.2          </td><td>52.5          </td><td>115           </td><td>  7521        </td></tr>\n",
       "\t<tr><td>New Mexico    </td><td>NM            </td><td>121666        </td><td>4             </td><td> 1144         </td><td>3601          </td><td>2.2           </td><td>70.32         </td><td> 9.7          </td><td>55.2          </td><td>120           </td><td>121412        </td></tr>\n",
       "\t<tr><td>New York      </td><td>NY            </td><td> 49576        </td><td>1             </td><td>18076         </td><td>4903          </td><td>1.4           </td><td>70.55         </td><td>10.9          </td><td>52.7          </td><td> 82           </td><td> 47831        </td></tr>\n",
       "\t<tr><td>North Carolina</td><td>NC            </td><td> 52586        </td><td>2             </td><td> 5441         </td><td>3875          </td><td>1.8           </td><td>69.21         </td><td>11.1          </td><td>38.5          </td><td> 80           </td><td> 48798        </td></tr>\n",
       "\t<tr><td>North Dakota  </td><td>ND            </td><td> 70665        </td><td>3             </td><td>  637         </td><td>5087          </td><td>0.8           </td><td>72.78         </td><td> 1.4          </td><td>50.3          </td><td>186           </td><td> 69273        </td></tr>\n",
       "\t<tr><td>Ohio          </td><td>OH            </td><td> 41222        </td><td>3             </td><td>10735         </td><td>4561          </td><td>0.8           </td><td>70.82         </td><td> 7.4          </td><td>53.2          </td><td>124           </td><td> 40975        </td></tr>\n",
       "\t<tr><td>Oklahoma      </td><td>OK            </td><td> 69919        </td><td>2             </td><td> 2715         </td><td>3983          </td><td>1.1           </td><td>71.42         </td><td> 6.4          </td><td>51.6          </td><td> 82           </td><td> 68782        </td></tr>\n",
       "\t<tr><td>Oregon        </td><td>OR            </td><td> 96981        </td><td>4             </td><td> 2284         </td><td>4660          </td><td>0.6           </td><td>72.13         </td><td> 4.2          </td><td>60.0          </td><td> 44           </td><td> 96184        </td></tr>\n",
       "\t<tr><td>Pennsylvania  </td><td>PA            </td><td> 45333        </td><td>1             </td><td>11860         </td><td>4449          </td><td>1.0           </td><td>70.43         </td><td> 6.1          </td><td>50.2          </td><td>126           </td><td> 44966        </td></tr>\n",
       "\t<tr><td>Rhode Island  </td><td>RI            </td><td>  1214        </td><td>1             </td><td>  931         </td><td>4558          </td><td>1.3           </td><td>71.90         </td><td> 2.4          </td><td>46.4          </td><td>127           </td><td>  1049        </td></tr>\n",
       "\t<tr><td>South Carolina</td><td>SC            </td><td> 31055        </td><td>2             </td><td> 2816         </td><td>3635          </td><td>2.3           </td><td>67.96         </td><td>11.6          </td><td>37.8          </td><td> 65           </td><td> 30225        </td></tr>\n",
       "\t<tr><td>South Dakota  </td><td>SD            </td><td> 77047        </td><td>3             </td><td>  681         </td><td>4167          </td><td>0.5           </td><td>72.08         </td><td> 1.7          </td><td>53.3          </td><td>172           </td><td> 75955        </td></tr>\n",
       "\t<tr><td>Tennessee     </td><td>TN            </td><td> 42244        </td><td>2             </td><td> 4173         </td><td>3821          </td><td>1.7           </td><td>70.11         </td><td>11.0          </td><td>41.8          </td><td> 70           </td><td> 41328        </td></tr>\n",
       "\t<tr><td>Texas         </td><td>TX            </td><td>267339        </td><td>2             </td><td>12237         </td><td>4188          </td><td>2.2           </td><td>70.90         </td><td>12.2          </td><td>47.4          </td><td> 35           </td><td>262134        </td></tr>\n",
       "\t<tr><td>Utah          </td><td>UT            </td><td> 84916        </td><td>4             </td><td> 1203         </td><td>4022          </td><td>0.6           </td><td>72.90         </td><td> 4.5          </td><td>67.3          </td><td>137           </td><td> 82096        </td></tr>\n",
       "\t<tr><td>Vermont       </td><td>VT            </td><td>  9609        </td><td>1             </td><td>  472         </td><td>3907          </td><td>0.6           </td><td>71.64         </td><td> 5.5          </td><td>57.1          </td><td>168           </td><td>  9267        </td></tr>\n",
       "\t<tr><td>Virginia      </td><td>VA            </td><td> 40815        </td><td>2             </td><td> 4981         </td><td>4701          </td><td>1.4           </td><td>70.08         </td><td> 9.5          </td><td>47.8          </td><td> 85           </td><td> 39780        </td></tr>\n",
       "\t<tr><td>Washington    </td><td>WA            </td><td> 68192        </td><td>4             </td><td> 3559         </td><td>4864          </td><td>0.6           </td><td>71.72         </td><td> 4.3          </td><td>63.5          </td><td> 32           </td><td> 66570        </td></tr>\n",
       "\t<tr><td>West Virginia </td><td>WV            </td><td> 24181        </td><td>2             </td><td> 1799         </td><td>3617          </td><td>1.4           </td><td>69.48         </td><td> 6.7          </td><td>41.6          </td><td>100           </td><td> 24070        </td></tr>\n",
       "\t<tr><td>Wisconsin     </td><td>WI            </td><td> 56154        </td><td>3             </td><td> 4589         </td><td>4468          </td><td>0.7           </td><td>72.48         </td><td> 3.0          </td><td>54.5          </td><td>149           </td><td> 54464        </td></tr>\n",
       "\t<tr><td>Wyoming       </td><td>WY            </td><td> 97914        </td><td>4             </td><td>  376         </td><td>4566          </td><td>0.6           </td><td>70.29         </td><td> 6.9          </td><td>62.9          </td><td>173           </td><td> 97203        </td></tr>\n",
       "</tbody>\n",
       "</table>\n"
      ],
      "text/latex": [
       "\\begin{tabular}{r|llllllllllll}\n",
       " X & state.abb & state.area & state.region & population & income & illiteracy & life.exp & murder & highSchoolGrad & frost & area\\\\\n",
       "\\hline\n",
       "\t Alabama        & AL             &  51609         & 2              &  3615          & 3624           & 2.1            & 69.05          & 15.1           & 41.3           &  20            &  50708        \\\\\n",
       "\t Alaska         & AK             & 589757         & 4              &   365          & 6315           & 1.5            & 69.31          & 11.3           & 66.7           & 152            & 566432        \\\\\n",
       "\t Arizona        & AZ             & 113909         & 4              &  2212          & 4530           & 1.8            & 70.55          &  7.8           & 58.1           &  15            & 113417        \\\\\n",
       "\t Arkansas       & AR             &  53104         & 2              &  2110          & 3378           & 1.9            & 70.66          & 10.1           & 39.9           &  65            &  51945        \\\\\n",
       "\t California     & CA             & 158693         & 4              & 21198          & 5114           & 1.1            & 71.71          & 10.3           & 62.6           &  20            & 156361        \\\\\n",
       "\t Colorado       & CO             & 104247         & 4              &  2541          & 4884           & 0.7            & 72.06          &  6.8           & 63.9           & 166            & 103766        \\\\\n",
       "\t Connecticut    & CT             &   5009         & 1              &  3100          & 5348           & 1.1            & 72.48          &  3.1           & 56.0           & 139            &   4862        \\\\\n",
       "\t Delaware       & DE             &   2057         & 2              &   579          & 4809           & 0.9            & 70.06          &  6.2           & 54.6           & 103            &   1982        \\\\\n",
       "\t Florida        & FL             &  58560         & 2              &  8277          & 4815           & 1.3            & 70.66          & 10.7           & 52.6           &  11            &  54090        \\\\\n",
       "\t Georgia        & GA             &  58876         & 2              &  4931          & 4091           & 2.0            & 68.54          & 13.9           & 40.6           &  60            &  58073        \\\\\n",
       "\t Hawaii         & HI             &   6450         & 4              &   868          & 4963           & 1.9            & 73.60          &  6.2           & 61.9           &   0            &   6425        \\\\\n",
       "\t Idaho          & ID             &  83557         & 4              &   813          & 4119           & 0.6            & 71.87          &  5.3           & 59.5           & 126            &  82677        \\\\\n",
       "\t Illinois       & IL             &  56400         & 3              & 11197          & 5107           & 0.9            & 70.14          & 10.3           & 52.6           & 127            &  55748        \\\\\n",
       "\t Indiana        & IN             &  36291         & 3              &  5313          & 4458           & 0.7            & 70.88          &  7.1           & 52.9           & 122            &  36097        \\\\\n",
       "\t Iowa           & IA             &  56290         & 3              &  2861          & 4628           & 0.5            & 72.56          &  2.3           & 59.0           & 140            &  55941        \\\\\n",
       "\t Kansas         & KS             &  82264         & 3              &  2280          & 4669           & 0.6            & 72.58          &  4.5           & 59.9           & 114            &  81787        \\\\\n",
       "\t Kentucky       & KY             &  40395         & 2              &  3387          & 3712           & 1.6            & 70.10          & 10.6           & 38.5           &  95            &  39650        \\\\\n",
       "\t Louisiana      & LA             &  48523         & 2              &  3806          & 3545           & 2.8            & 68.76          & 13.2           & 42.2           &  12            &  44930        \\\\\n",
       "\t Maine          & ME             &  33215         & 1              &  1058          & 3694           & 0.7            & 70.39          &  2.7           & 54.7           & 161            &  30920        \\\\\n",
       "\t Maryland       & MD             &  10577         & 2              &  4122          & 5299           & 0.9            & 70.22          &  8.5           & 52.3           & 101            &   9891        \\\\\n",
       "\t Massachusetts  & MA             &   8257         & 1              &  5814          & 4755           & 1.1            & 71.83          &  3.3           & 58.5           & 103            &   7826        \\\\\n",
       "\t Michigan       & MI             &  58216         & 3              &  9111          & 4751           & 0.9            & 70.63          & 11.1           & 52.8           & 125            &  56817        \\\\\n",
       "\t Minnesota      & MN             &  84068         & 3              &  3921          & 4675           & 0.6            & 72.96          &  2.3           & 57.6           & 160            &  79289        \\\\\n",
       "\t Mississippi    & MS             &  47716         & 2              &  2341          & 3098           & 2.4            & 68.09          & 12.5           & 41.0           &  50            &  47296        \\\\\n",
       "\t Missouri       & MO             &  69686         & 3              &  4767          & 4254           & 0.8            & 70.69          &  9.3           & 48.8           & 108            &  68995        \\\\\n",
       "\t Montana        & MT             & 147138         & 4              &   746          & 4347           & 0.6            & 70.56          &  5.0           & 59.2           & 155            & 145587        \\\\\n",
       "\t Nebraska       & NE             &  77227         & 3              &  1544          & 4508           & 0.6            & 72.60          &  2.9           & 59.3           & 139            &  76483        \\\\\n",
       "\t Nevada         & NV             & 110540         & 4              &   590          & 5149           & 0.5            & 69.03          & 11.5           & 65.2           & 188            & 109889        \\\\\n",
       "\t New Hampshire  & NH             &   9304         & 1              &   812          & 4281           & 0.7            & 71.23          &  3.3           & 57.6           & 174            &   9027        \\\\\n",
       "\t New Jersey     & NJ             &   7836         & 1              &  7333          & 5237           & 1.1            & 70.93          &  5.2           & 52.5           & 115            &   7521        \\\\\n",
       "\t New Mexico     & NM             & 121666         & 4              &  1144          & 3601           & 2.2            & 70.32          &  9.7           & 55.2           & 120            & 121412        \\\\\n",
       "\t New York       & NY             &  49576         & 1              & 18076          & 4903           & 1.4            & 70.55          & 10.9           & 52.7           &  82            &  47831        \\\\\n",
       "\t North Carolina & NC             &  52586         & 2              &  5441          & 3875           & 1.8            & 69.21          & 11.1           & 38.5           &  80            &  48798        \\\\\n",
       "\t North Dakota   & ND             &  70665         & 3              &   637          & 5087           & 0.8            & 72.78          &  1.4           & 50.3           & 186            &  69273        \\\\\n",
       "\t Ohio           & OH             &  41222         & 3              & 10735          & 4561           & 0.8            & 70.82          &  7.4           & 53.2           & 124            &  40975        \\\\\n",
       "\t Oklahoma       & OK             &  69919         & 2              &  2715          & 3983           & 1.1            & 71.42          &  6.4           & 51.6           &  82            &  68782        \\\\\n",
       "\t Oregon         & OR             &  96981         & 4              &  2284          & 4660           & 0.6            & 72.13          &  4.2           & 60.0           &  44            &  96184        \\\\\n",
       "\t Pennsylvania   & PA             &  45333         & 1              & 11860          & 4449           & 1.0            & 70.43          &  6.1           & 50.2           & 126            &  44966        \\\\\n",
       "\t Rhode Island   & RI             &   1214         & 1              &   931          & 4558           & 1.3            & 71.90          &  2.4           & 46.4           & 127            &   1049        \\\\\n",
       "\t South Carolina & SC             &  31055         & 2              &  2816          & 3635           & 2.3            & 67.96          & 11.6           & 37.8           &  65            &  30225        \\\\\n",
       "\t South Dakota   & SD             &  77047         & 3              &   681          & 4167           & 0.5            & 72.08          &  1.7           & 53.3           & 172            &  75955        \\\\\n",
       "\t Tennessee      & TN             &  42244         & 2              &  4173          & 3821           & 1.7            & 70.11          & 11.0           & 41.8           &  70            &  41328        \\\\\n",
       "\t Texas          & TX             & 267339         & 2              & 12237          & 4188           & 2.2            & 70.90          & 12.2           & 47.4           &  35            & 262134        \\\\\n",
       "\t Utah           & UT             &  84916         & 4              &  1203          & 4022           & 0.6            & 72.90          &  4.5           & 67.3           & 137            &  82096        \\\\\n",
       "\t Vermont        & VT             &   9609         & 1              &   472          & 3907           & 0.6            & 71.64          &  5.5           & 57.1           & 168            &   9267        \\\\\n",
       "\t Virginia       & VA             &  40815         & 2              &  4981          & 4701           & 1.4            & 70.08          &  9.5           & 47.8           &  85            &  39780        \\\\\n",
       "\t Washington     & WA             &  68192         & 4              &  3559          & 4864           & 0.6            & 71.72          &  4.3           & 63.5           &  32            &  66570        \\\\\n",
       "\t West Virginia  & WV             &  24181         & 2              &  1799          & 3617           & 1.4            & 69.48          &  6.7           & 41.6           & 100            &  24070        \\\\\n",
       "\t Wisconsin      & WI             &  56154         & 3              &  4589          & 4468           & 0.7            & 72.48          &  3.0           & 54.5           & 149            &  54464        \\\\\n",
       "\t Wyoming        & WY             &  97914         & 4              &   376          & 4566           & 0.6            & 70.29          &  6.9           & 62.9           & 173            &  97203        \\\\\n",
       "\\end{tabular}\n"
      ],
      "text/markdown": [
       "\n",
       "X | state.abb | state.area | state.region | population | income | illiteracy | life.exp | murder | highSchoolGrad | frost | area | \n",
       "|---|---|---|---|---|---|---|---|---|---|---|---|---|---|---|---|---|---|---|---|---|---|---|---|---|---|---|---|---|---|---|---|---|---|---|---|---|---|---|---|---|---|---|---|---|---|---|---|---|---|\n",
       "| Alabama        | AL             |  51609         | 2              |  3615          | 3624           | 2.1            | 69.05          | 15.1           | 41.3           |  20            |  50708         | \n",
       "| Alaska         | AK             | 589757         | 4              |   365          | 6315           | 1.5            | 69.31          | 11.3           | 66.7           | 152            | 566432         | \n",
       "| Arizona        | AZ             | 113909         | 4              |  2212          | 4530           | 1.8            | 70.55          |  7.8           | 58.1           |  15            | 113417         | \n",
       "| Arkansas       | AR             |  53104         | 2              |  2110          | 3378           | 1.9            | 70.66          | 10.1           | 39.9           |  65            |  51945         | \n",
       "| California     | CA             | 158693         | 4              | 21198          | 5114           | 1.1            | 71.71          | 10.3           | 62.6           |  20            | 156361         | \n",
       "| Colorado       | CO             | 104247         | 4              |  2541          | 4884           | 0.7            | 72.06          |  6.8           | 63.9           | 166            | 103766         | \n",
       "| Connecticut    | CT             |   5009         | 1              |  3100          | 5348           | 1.1            | 72.48          |  3.1           | 56.0           | 139            |   4862         | \n",
       "| Delaware       | DE             |   2057         | 2              |   579          | 4809           | 0.9            | 70.06          |  6.2           | 54.6           | 103            |   1982         | \n",
       "| Florida        | FL             |  58560         | 2              |  8277          | 4815           | 1.3            | 70.66          | 10.7           | 52.6           |  11            |  54090         | \n",
       "| Georgia        | GA             |  58876         | 2              |  4931          | 4091           | 2.0            | 68.54          | 13.9           | 40.6           |  60            |  58073         | \n",
       "| Hawaii         | HI             |   6450         | 4              |   868          | 4963           | 1.9            | 73.60          |  6.2           | 61.9           |   0            |   6425         | \n",
       "| Idaho          | ID             |  83557         | 4              |   813          | 4119           | 0.6            | 71.87          |  5.3           | 59.5           | 126            |  82677         | \n",
       "| Illinois       | IL             |  56400         | 3              | 11197          | 5107           | 0.9            | 70.14          | 10.3           | 52.6           | 127            |  55748         | \n",
       "| Indiana        | IN             |  36291         | 3              |  5313          | 4458           | 0.7            | 70.88          |  7.1           | 52.9           | 122            |  36097         | \n",
       "| Iowa           | IA             |  56290         | 3              |  2861          | 4628           | 0.5            | 72.56          |  2.3           | 59.0           | 140            |  55941         | \n",
       "| Kansas         | KS             |  82264         | 3              |  2280          | 4669           | 0.6            | 72.58          |  4.5           | 59.9           | 114            |  81787         | \n",
       "| Kentucky       | KY             |  40395         | 2              |  3387          | 3712           | 1.6            | 70.10          | 10.6           | 38.5           |  95            |  39650         | \n",
       "| Louisiana      | LA             |  48523         | 2              |  3806          | 3545           | 2.8            | 68.76          | 13.2           | 42.2           |  12            |  44930         | \n",
       "| Maine          | ME             |  33215         | 1              |  1058          | 3694           | 0.7            | 70.39          |  2.7           | 54.7           | 161            |  30920         | \n",
       "| Maryland       | MD             |  10577         | 2              |  4122          | 5299           | 0.9            | 70.22          |  8.5           | 52.3           | 101            |   9891         | \n",
       "| Massachusetts  | MA             |   8257         | 1              |  5814          | 4755           | 1.1            | 71.83          |  3.3           | 58.5           | 103            |   7826         | \n",
       "| Michigan       | MI             |  58216         | 3              |  9111          | 4751           | 0.9            | 70.63          | 11.1           | 52.8           | 125            |  56817         | \n",
       "| Minnesota      | MN             |  84068         | 3              |  3921          | 4675           | 0.6            | 72.96          |  2.3           | 57.6           | 160            |  79289         | \n",
       "| Mississippi    | MS             |  47716         | 2              |  2341          | 3098           | 2.4            | 68.09          | 12.5           | 41.0           |  50            |  47296         | \n",
       "| Missouri       | MO             |  69686         | 3              |  4767          | 4254           | 0.8            | 70.69          |  9.3           | 48.8           | 108            |  68995         | \n",
       "| Montana        | MT             | 147138         | 4              |   746          | 4347           | 0.6            | 70.56          |  5.0           | 59.2           | 155            | 145587         | \n",
       "| Nebraska       | NE             |  77227         | 3              |  1544          | 4508           | 0.6            | 72.60          |  2.9           | 59.3           | 139            |  76483         | \n",
       "| Nevada         | NV             | 110540         | 4              |   590          | 5149           | 0.5            | 69.03          | 11.5           | 65.2           | 188            | 109889         | \n",
       "| New Hampshire  | NH             |   9304         | 1              |   812          | 4281           | 0.7            | 71.23          |  3.3           | 57.6           | 174            |   9027         | \n",
       "| New Jersey     | NJ             |   7836         | 1              |  7333          | 5237           | 1.1            | 70.93          |  5.2           | 52.5           | 115            |   7521         | \n",
       "| New Mexico     | NM             | 121666         | 4              |  1144          | 3601           | 2.2            | 70.32          |  9.7           | 55.2           | 120            | 121412         | \n",
       "| New York       | NY             |  49576         | 1              | 18076          | 4903           | 1.4            | 70.55          | 10.9           | 52.7           |  82            |  47831         | \n",
       "| North Carolina | NC             |  52586         | 2              |  5441          | 3875           | 1.8            | 69.21          | 11.1           | 38.5           |  80            |  48798         | \n",
       "| North Dakota   | ND             |  70665         | 3              |   637          | 5087           | 0.8            | 72.78          |  1.4           | 50.3           | 186            |  69273         | \n",
       "| Ohio           | OH             |  41222         | 3              | 10735          | 4561           | 0.8            | 70.82          |  7.4           | 53.2           | 124            |  40975         | \n",
       "| Oklahoma       | OK             |  69919         | 2              |  2715          | 3983           | 1.1            | 71.42          |  6.4           | 51.6           |  82            |  68782         | \n",
       "| Oregon         | OR             |  96981         | 4              |  2284          | 4660           | 0.6            | 72.13          |  4.2           | 60.0           |  44            |  96184         | \n",
       "| Pennsylvania   | PA             |  45333         | 1              | 11860          | 4449           | 1.0            | 70.43          |  6.1           | 50.2           | 126            |  44966         | \n",
       "| Rhode Island   | RI             |   1214         | 1              |   931          | 4558           | 1.3            | 71.90          |  2.4           | 46.4           | 127            |   1049         | \n",
       "| South Carolina | SC             |  31055         | 2              |  2816          | 3635           | 2.3            | 67.96          | 11.6           | 37.8           |  65            |  30225         | \n",
       "| South Dakota   | SD             |  77047         | 3              |   681          | 4167           | 0.5            | 72.08          |  1.7           | 53.3           | 172            |  75955         | \n",
       "| Tennessee      | TN             |  42244         | 2              |  4173          | 3821           | 1.7            | 70.11          | 11.0           | 41.8           |  70            |  41328         | \n",
       "| Texas          | TX             | 267339         | 2              | 12237          | 4188           | 2.2            | 70.90          | 12.2           | 47.4           |  35            | 262134         | \n",
       "| Utah           | UT             |  84916         | 4              |  1203          | 4022           | 0.6            | 72.90          |  4.5           | 67.3           | 137            |  82096         | \n",
       "| Vermont        | VT             |   9609         | 1              |   472          | 3907           | 0.6            | 71.64          |  5.5           | 57.1           | 168            |   9267         | \n",
       "| Virginia       | VA             |  40815         | 2              |  4981          | 4701           | 1.4            | 70.08          |  9.5           | 47.8           |  85            |  39780         | \n",
       "| Washington     | WA             |  68192         | 4              |  3559          | 4864           | 0.6            | 71.72          |  4.3           | 63.5           |  32            |  66570         | \n",
       "| West Virginia  | WV             |  24181         | 2              |  1799          | 3617           | 1.4            | 69.48          |  6.7           | 41.6           | 100            |  24070         | \n",
       "| Wisconsin      | WI             |  56154         | 3              |  4589          | 4468           | 0.7            | 72.48          |  3.0           | 54.5           | 149            |  54464         | \n",
       "| Wyoming        | WY             |  97914         | 4              |   376          | 4566           | 0.6            | 70.29          |  6.9           | 62.9           | 173            |  97203         | \n",
       "\n",
       "\n"
      ],
      "text/plain": [
       "   X              state.abb state.area state.region population income\n",
       "1  Alabama        AL         51609     2             3615      3624  \n",
       "2  Alaska         AK        589757     4              365      6315  \n",
       "3  Arizona        AZ        113909     4             2212      4530  \n",
       "4  Arkansas       AR         53104     2             2110      3378  \n",
       "5  California     CA        158693     4            21198      5114  \n",
       "6  Colorado       CO        104247     4             2541      4884  \n",
       "7  Connecticut    CT          5009     1             3100      5348  \n",
       "8  Delaware       DE          2057     2              579      4809  \n",
       "9  Florida        FL         58560     2             8277      4815  \n",
       "10 Georgia        GA         58876     2             4931      4091  \n",
       "11 Hawaii         HI          6450     4              868      4963  \n",
       "12 Idaho          ID         83557     4              813      4119  \n",
       "13 Illinois       IL         56400     3            11197      5107  \n",
       "14 Indiana        IN         36291     3             5313      4458  \n",
       "15 Iowa           IA         56290     3             2861      4628  \n",
       "16 Kansas         KS         82264     3             2280      4669  \n",
       "17 Kentucky       KY         40395     2             3387      3712  \n",
       "18 Louisiana      LA         48523     2             3806      3545  \n",
       "19 Maine          ME         33215     1             1058      3694  \n",
       "20 Maryland       MD         10577     2             4122      5299  \n",
       "21 Massachusetts  MA          8257     1             5814      4755  \n",
       "22 Michigan       MI         58216     3             9111      4751  \n",
       "23 Minnesota      MN         84068     3             3921      4675  \n",
       "24 Mississippi    MS         47716     2             2341      3098  \n",
       "25 Missouri       MO         69686     3             4767      4254  \n",
       "26 Montana        MT        147138     4              746      4347  \n",
       "27 Nebraska       NE         77227     3             1544      4508  \n",
       "28 Nevada         NV        110540     4              590      5149  \n",
       "29 New Hampshire  NH          9304     1              812      4281  \n",
       "30 New Jersey     NJ          7836     1             7333      5237  \n",
       "31 New Mexico     NM        121666     4             1144      3601  \n",
       "32 New York       NY         49576     1            18076      4903  \n",
       "33 North Carolina NC         52586     2             5441      3875  \n",
       "34 North Dakota   ND         70665     3              637      5087  \n",
       "35 Ohio           OH         41222     3            10735      4561  \n",
       "36 Oklahoma       OK         69919     2             2715      3983  \n",
       "37 Oregon         OR         96981     4             2284      4660  \n",
       "38 Pennsylvania   PA         45333     1            11860      4449  \n",
       "39 Rhode Island   RI          1214     1              931      4558  \n",
       "40 South Carolina SC         31055     2             2816      3635  \n",
       "41 South Dakota   SD         77047     3              681      4167  \n",
       "42 Tennessee      TN         42244     2             4173      3821  \n",
       "43 Texas          TX        267339     2            12237      4188  \n",
       "44 Utah           UT         84916     4             1203      4022  \n",
       "45 Vermont        VT          9609     1              472      3907  \n",
       "46 Virginia       VA         40815     2             4981      4701  \n",
       "47 Washington     WA         68192     4             3559      4864  \n",
       "48 West Virginia  WV         24181     2             1799      3617  \n",
       "49 Wisconsin      WI         56154     3             4589      4468  \n",
       "50 Wyoming        WY         97914     4              376      4566  \n",
       "   illiteracy life.exp murder highSchoolGrad frost area  \n",
       "1  2.1        69.05    15.1   41.3            20    50708\n",
       "2  1.5        69.31    11.3   66.7           152   566432\n",
       "3  1.8        70.55     7.8   58.1            15   113417\n",
       "4  1.9        70.66    10.1   39.9            65    51945\n",
       "5  1.1        71.71    10.3   62.6            20   156361\n",
       "6  0.7        72.06     6.8   63.9           166   103766\n",
       "7  1.1        72.48     3.1   56.0           139     4862\n",
       "8  0.9        70.06     6.2   54.6           103     1982\n",
       "9  1.3        70.66    10.7   52.6            11    54090\n",
       "10 2.0        68.54    13.9   40.6            60    58073\n",
       "11 1.9        73.60     6.2   61.9             0     6425\n",
       "12 0.6        71.87     5.3   59.5           126    82677\n",
       "13 0.9        70.14    10.3   52.6           127    55748\n",
       "14 0.7        70.88     7.1   52.9           122    36097\n",
       "15 0.5        72.56     2.3   59.0           140    55941\n",
       "16 0.6        72.58     4.5   59.9           114    81787\n",
       "17 1.6        70.10    10.6   38.5            95    39650\n",
       "18 2.8        68.76    13.2   42.2            12    44930\n",
       "19 0.7        70.39     2.7   54.7           161    30920\n",
       "20 0.9        70.22     8.5   52.3           101     9891\n",
       "21 1.1        71.83     3.3   58.5           103     7826\n",
       "22 0.9        70.63    11.1   52.8           125    56817\n",
       "23 0.6        72.96     2.3   57.6           160    79289\n",
       "24 2.4        68.09    12.5   41.0            50    47296\n",
       "25 0.8        70.69     9.3   48.8           108    68995\n",
       "26 0.6        70.56     5.0   59.2           155   145587\n",
       "27 0.6        72.60     2.9   59.3           139    76483\n",
       "28 0.5        69.03    11.5   65.2           188   109889\n",
       "29 0.7        71.23     3.3   57.6           174     9027\n",
       "30 1.1        70.93     5.2   52.5           115     7521\n",
       "31 2.2        70.32     9.7   55.2           120   121412\n",
       "32 1.4        70.55    10.9   52.7            82    47831\n",
       "33 1.8        69.21    11.1   38.5            80    48798\n",
       "34 0.8        72.78     1.4   50.3           186    69273\n",
       "35 0.8        70.82     7.4   53.2           124    40975\n",
       "36 1.1        71.42     6.4   51.6            82    68782\n",
       "37 0.6        72.13     4.2   60.0            44    96184\n",
       "38 1.0        70.43     6.1   50.2           126    44966\n",
       "39 1.3        71.90     2.4   46.4           127     1049\n",
       "40 2.3        67.96    11.6   37.8            65    30225\n",
       "41 0.5        72.08     1.7   53.3           172    75955\n",
       "42 1.7        70.11    11.0   41.8            70    41328\n",
       "43 2.2        70.90    12.2   47.4            35   262134\n",
       "44 0.6        72.90     4.5   67.3           137    82096\n",
       "45 0.6        71.64     5.5   57.1           168     9267\n",
       "46 1.4        70.08     9.5   47.8            85    39780\n",
       "47 0.6        71.72     4.3   63.5            32    66570\n",
       "48 1.4        69.48     6.7   41.6           100    24070\n",
       "49 0.7        72.48     3.0   54.5           149    54464\n",
       "50 0.6        70.29     6.9   62.9           173    97203"
      ]
     },
     "metadata": {},
     "output_type": "display_data"
    }
   ],
   "source": [
    "state_info"
   ]
  },
  {
   "cell_type": "code",
   "execution_count": 8,
   "metadata": {},
   "outputs": [
    {
     "data": {
      "text/html": [
       "<table>\n",
       "<thead><tr><th scope=col>X</th><th scope=col>state.abb</th><th scope=col>state.area</th><th scope=col>state.region</th><th scope=col>population</th><th scope=col>income</th><th scope=col>illiteracy</th><th scope=col>life.exp</th><th scope=col>murder</th><th scope=col>highSchoolGrad</th><th scope=col>frost</th><th scope=col>area</th></tr></thead>\n",
       "<tbody>\n",
       "\t<tr><td>Alabama    </td><td>AL         </td><td> 51609     </td><td>2          </td><td> 3615      </td><td>3624       </td><td>2.1        </td><td>69.05      </td><td>15.1       </td><td>41.3       </td><td> 20        </td><td> 50708     </td></tr>\n",
       "\t<tr><td>Alaska     </td><td>AK         </td><td>589757     </td><td>4          </td><td>  365      </td><td>6315       </td><td>1.5        </td><td>69.31      </td><td>11.3       </td><td>66.7       </td><td>152        </td><td>566432     </td></tr>\n",
       "\t<tr><td>Arizona    </td><td>AZ         </td><td>113909     </td><td>4          </td><td> 2212      </td><td>4530       </td><td>1.8        </td><td>70.55      </td><td> 7.8       </td><td>58.1       </td><td> 15        </td><td>113417     </td></tr>\n",
       "\t<tr><td>Arkansas   </td><td>AR         </td><td> 53104     </td><td>2          </td><td> 2110      </td><td>3378       </td><td>1.9        </td><td>70.66      </td><td>10.1       </td><td>39.9       </td><td> 65        </td><td> 51945     </td></tr>\n",
       "\t<tr><td>California </td><td>CA         </td><td>158693     </td><td>4          </td><td>21198      </td><td>5114       </td><td>1.1        </td><td>71.71      </td><td>10.3       </td><td>62.6       </td><td> 20        </td><td>156361     </td></tr>\n",
       "\t<tr><td>Colorado   </td><td>CO         </td><td>104247     </td><td>4          </td><td> 2541      </td><td>4884       </td><td>0.7        </td><td>72.06      </td><td> 6.8       </td><td>63.9       </td><td>166        </td><td>103766     </td></tr>\n",
       "\t<tr><td>Connecticut</td><td>CT         </td><td>  5009     </td><td>1          </td><td> 3100      </td><td>5348       </td><td>1.1        </td><td>72.48      </td><td> 3.1       </td><td>56.0       </td><td>139        </td><td>  4862     </td></tr>\n",
       "\t<tr><td>Delaware   </td><td>DE         </td><td>  2057     </td><td>2          </td><td>  579      </td><td>4809       </td><td>0.9        </td><td>70.06      </td><td> 6.2       </td><td>54.6       </td><td>103        </td><td>  1982     </td></tr>\n",
       "\t<tr><td>Florida    </td><td>FL         </td><td> 58560     </td><td>2          </td><td> 8277      </td><td>4815       </td><td>1.3        </td><td>70.66      </td><td>10.7       </td><td>52.6       </td><td> 11        </td><td> 54090     </td></tr>\n",
       "\t<tr><td>Georgia    </td><td>GA         </td><td> 58876     </td><td>2          </td><td> 4931      </td><td>4091       </td><td>2.0        </td><td>68.54      </td><td>13.9       </td><td>40.6       </td><td> 60        </td><td> 58073     </td></tr>\n",
       "</tbody>\n",
       "</table>\n"
      ],
      "text/latex": [
       "\\begin{tabular}{r|llllllllllll}\n",
       " X & state.abb & state.area & state.region & population & income & illiteracy & life.exp & murder & highSchoolGrad & frost & area\\\\\n",
       "\\hline\n",
       "\t Alabama     & AL          &  51609      & 2           &  3615       & 3624        & 2.1         & 69.05       & 15.1        & 41.3        &  20         &  50708     \\\\\n",
       "\t Alaska      & AK          & 589757      & 4           &   365       & 6315        & 1.5         & 69.31       & 11.3        & 66.7        & 152         & 566432     \\\\\n",
       "\t Arizona     & AZ          & 113909      & 4           &  2212       & 4530        & 1.8         & 70.55       &  7.8        & 58.1        &  15         & 113417     \\\\\n",
       "\t Arkansas    & AR          &  53104      & 2           &  2110       & 3378        & 1.9         & 70.66       & 10.1        & 39.9        &  65         &  51945     \\\\\n",
       "\t California  & CA          & 158693      & 4           & 21198       & 5114        & 1.1         & 71.71       & 10.3        & 62.6        &  20         & 156361     \\\\\n",
       "\t Colorado    & CO          & 104247      & 4           &  2541       & 4884        & 0.7         & 72.06       &  6.8        & 63.9        & 166         & 103766     \\\\\n",
       "\t Connecticut & CT          &   5009      & 1           &  3100       & 5348        & 1.1         & 72.48       &  3.1        & 56.0        & 139         &   4862     \\\\\n",
       "\t Delaware    & DE          &   2057      & 2           &   579       & 4809        & 0.9         & 70.06       &  6.2        & 54.6        & 103         &   1982     \\\\\n",
       "\t Florida     & FL          &  58560      & 2           &  8277       & 4815        & 1.3         & 70.66       & 10.7        & 52.6        &  11         &  54090     \\\\\n",
       "\t Georgia     & GA          &  58876      & 2           &  4931       & 4091        & 2.0         & 68.54       & 13.9        & 40.6        &  60         &  58073     \\\\\n",
       "\\end{tabular}\n"
      ],
      "text/markdown": [
       "\n",
       "X | state.abb | state.area | state.region | population | income | illiteracy | life.exp | murder | highSchoolGrad | frost | area | \n",
       "|---|---|---|---|---|---|---|---|---|---|\n",
       "| Alabama     | AL          |  51609      | 2           |  3615       | 3624        | 2.1         | 69.05       | 15.1        | 41.3        |  20         |  50708      | \n",
       "| Alaska      | AK          | 589757      | 4           |   365       | 6315        | 1.5         | 69.31       | 11.3        | 66.7        | 152         | 566432      | \n",
       "| Arizona     | AZ          | 113909      | 4           |  2212       | 4530        | 1.8         | 70.55       |  7.8        | 58.1        |  15         | 113417      | \n",
       "| Arkansas    | AR          |  53104      | 2           |  2110       | 3378        | 1.9         | 70.66       | 10.1        | 39.9        |  65         |  51945      | \n",
       "| California  | CA          | 158693      | 4           | 21198       | 5114        | 1.1         | 71.71       | 10.3        | 62.6        |  20         | 156361      | \n",
       "| Colorado    | CO          | 104247      | 4           |  2541       | 4884        | 0.7         | 72.06       |  6.8        | 63.9        | 166         | 103766      | \n",
       "| Connecticut | CT          |   5009      | 1           |  3100       | 5348        | 1.1         | 72.48       |  3.1        | 56.0        | 139         |   4862      | \n",
       "| Delaware    | DE          |   2057      | 2           |   579       | 4809        | 0.9         | 70.06       |  6.2        | 54.6        | 103         |   1982      | \n",
       "| Florida     | FL          |  58560      | 2           |  8277       | 4815        | 1.3         | 70.66       | 10.7        | 52.6        |  11         |  54090      | \n",
       "| Georgia     | GA          |  58876      | 2           |  4931       | 4091        | 2.0         | 68.54       | 13.9        | 40.6        |  60         |  58073      | \n",
       "\n",
       "\n"
      ],
      "text/plain": [
       "   X           state.abb state.area state.region population income illiteracy\n",
       "1  Alabama     AL         51609     2             3615      3624   2.1       \n",
       "2  Alaska      AK        589757     4              365      6315   1.5       \n",
       "3  Arizona     AZ        113909     4             2212      4530   1.8       \n",
       "4  Arkansas    AR         53104     2             2110      3378   1.9       \n",
       "5  California  CA        158693     4            21198      5114   1.1       \n",
       "6  Colorado    CO        104247     4             2541      4884   0.7       \n",
       "7  Connecticut CT          5009     1             3100      5348   1.1       \n",
       "8  Delaware    DE          2057     2              579      4809   0.9       \n",
       "9  Florida     FL         58560     2             8277      4815   1.3       \n",
       "10 Georgia     GA         58876     2             4931      4091   2.0       \n",
       "   life.exp murder highSchoolGrad frost area  \n",
       "1  69.05    15.1   41.3            20    50708\n",
       "2  69.31    11.3   66.7           152   566432\n",
       "3  70.55     7.8   58.1            15   113417\n",
       "4  70.66    10.1   39.9            65    51945\n",
       "5  71.71    10.3   62.6            20   156361\n",
       "6  72.06     6.8   63.9           166   103766\n",
       "7  72.48     3.1   56.0           139     4862\n",
       "8  70.06     6.2   54.6           103     1982\n",
       "9  70.66    10.7   52.6            11    54090\n",
       "10 68.54    13.9   40.6            60    58073"
      ]
     },
     "metadata": {},
     "output_type": "display_data"
    }
   ],
   "source": [
    "head(state_info, 10) # Default is 6"
   ]
  },
  {
   "cell_type": "code",
   "execution_count": 9,
   "metadata": {},
   "outputs": [
    {
     "data": {
      "text/html": [
       "<table>\n",
       "<thead><tr><th></th><th scope=col>X</th><th scope=col>state.abb</th><th scope=col>state.area</th><th scope=col>state.region</th><th scope=col>population</th><th scope=col>income</th><th scope=col>illiteracy</th><th scope=col>life.exp</th><th scope=col>murder</th><th scope=col>highSchoolGrad</th><th scope=col>frost</th><th scope=col>area</th></tr></thead>\n",
       "<tbody>\n",
       "\t<tr><th scope=row>45</th><td>Vermont      </td><td>VT           </td><td> 9609        </td><td>1            </td><td> 472         </td><td>3907         </td><td>0.6          </td><td>71.64        </td><td>5.5          </td><td>57.1         </td><td>168          </td><td> 9267        </td></tr>\n",
       "\t<tr><th scope=row>46</th><td>Virginia     </td><td>VA           </td><td>40815        </td><td>2            </td><td>4981         </td><td>4701         </td><td>1.4          </td><td>70.08        </td><td>9.5          </td><td>47.8         </td><td> 85          </td><td>39780        </td></tr>\n",
       "\t<tr><th scope=row>47</th><td>Washington   </td><td>WA           </td><td>68192        </td><td>4            </td><td>3559         </td><td>4864         </td><td>0.6          </td><td>71.72        </td><td>4.3          </td><td>63.5         </td><td> 32          </td><td>66570        </td></tr>\n",
       "\t<tr><th scope=row>48</th><td>West Virginia</td><td>WV           </td><td>24181        </td><td>2            </td><td>1799         </td><td>3617         </td><td>1.4          </td><td>69.48        </td><td>6.7          </td><td>41.6         </td><td>100          </td><td>24070        </td></tr>\n",
       "\t<tr><th scope=row>49</th><td>Wisconsin    </td><td>WI           </td><td>56154        </td><td>3            </td><td>4589         </td><td>4468         </td><td>0.7          </td><td>72.48        </td><td>3.0          </td><td>54.5         </td><td>149          </td><td>54464        </td></tr>\n",
       "\t<tr><th scope=row>50</th><td>Wyoming      </td><td>WY           </td><td>97914        </td><td>4            </td><td> 376         </td><td>4566         </td><td>0.6          </td><td>70.29        </td><td>6.9          </td><td>62.9         </td><td>173          </td><td>97203        </td></tr>\n",
       "</tbody>\n",
       "</table>\n"
      ],
      "text/latex": [
       "\\begin{tabular}{r|llllllllllll}\n",
       "  & X & state.abb & state.area & state.region & population & income & illiteracy & life.exp & murder & highSchoolGrad & frost & area\\\\\n",
       "\\hline\n",
       "\t45 & Vermont       & VT            &  9609         & 1             &  472          & 3907          & 0.6           & 71.64         & 5.5           & 57.1          & 168           &  9267        \\\\\n",
       "\t46 & Virginia      & VA            & 40815         & 2             & 4981          & 4701          & 1.4           & 70.08         & 9.5           & 47.8          &  85           & 39780        \\\\\n",
       "\t47 & Washington    & WA            & 68192         & 4             & 3559          & 4864          & 0.6           & 71.72         & 4.3           & 63.5          &  32           & 66570        \\\\\n",
       "\t48 & West Virginia & WV            & 24181         & 2             & 1799          & 3617          & 1.4           & 69.48         & 6.7           & 41.6          & 100           & 24070        \\\\\n",
       "\t49 & Wisconsin     & WI            & 56154         & 3             & 4589          & 4468          & 0.7           & 72.48         & 3.0           & 54.5          & 149           & 54464        \\\\\n",
       "\t50 & Wyoming       & WY            & 97914         & 4             &  376          & 4566          & 0.6           & 70.29         & 6.9           & 62.9          & 173           & 97203        \\\\\n",
       "\\end{tabular}\n"
      ],
      "text/markdown": [
       "\n",
       "| <!--/--> | X | state.abb | state.area | state.region | population | income | illiteracy | life.exp | murder | highSchoolGrad | frost | area | \n",
       "|---|---|---|---|---|---|\n",
       "| 45 | Vermont       | VT            |  9609         | 1             |  472          | 3907          | 0.6           | 71.64         | 5.5           | 57.1          | 168           |  9267         | \n",
       "| 46 | Virginia      | VA            | 40815         | 2             | 4981          | 4701          | 1.4           | 70.08         | 9.5           | 47.8          |  85           | 39780         | \n",
       "| 47 | Washington    | WA            | 68192         | 4             | 3559          | 4864          | 0.6           | 71.72         | 4.3           | 63.5          |  32           | 66570         | \n",
       "| 48 | West Virginia | WV            | 24181         | 2             | 1799          | 3617          | 1.4           | 69.48         | 6.7           | 41.6          | 100           | 24070         | \n",
       "| 49 | Wisconsin     | WI            | 56154         | 3             | 4589          | 4468          | 0.7           | 72.48         | 3.0           | 54.5          | 149           | 54464         | \n",
       "| 50 | Wyoming       | WY            | 97914         | 4             |  376          | 4566          | 0.6           | 70.29         | 6.9           | 62.9          | 173           | 97203         | \n",
       "\n",
       "\n"
      ],
      "text/plain": [
       "   X             state.abb state.area state.region population income illiteracy\n",
       "45 Vermont       VT         9609      1             472       3907   0.6       \n",
       "46 Virginia      VA        40815      2            4981       4701   1.4       \n",
       "47 Washington    WA        68192      4            3559       4864   0.6       \n",
       "48 West Virginia WV        24181      2            1799       3617   1.4       \n",
       "49 Wisconsin     WI        56154      3            4589       4468   0.7       \n",
       "50 Wyoming       WY        97914      4             376       4566   0.6       \n",
       "   life.exp murder highSchoolGrad frost area \n",
       "45 71.64    5.5    57.1           168    9267\n",
       "46 70.08    9.5    47.8            85   39780\n",
       "47 71.72    4.3    63.5            32   66570\n",
       "48 69.48    6.7    41.6           100   24070\n",
       "49 72.48    3.0    54.5           149   54464\n",
       "50 70.29    6.9    62.9           173   97203"
      ]
     },
     "metadata": {},
     "output_type": "display_data"
    }
   ],
   "source": [
    "tail(state_info, )"
   ]
  },
  {
   "cell_type": "code",
   "execution_count": 10,
   "metadata": {},
   "outputs": [
    {
     "data": {
      "text/html": [
       "<ol class=list-inline>\n",
       "\t<li>'X'</li>\n",
       "\t<li>'state.abb'</li>\n",
       "\t<li>'state.area'</li>\n",
       "\t<li>'state.region'</li>\n",
       "\t<li>'population'</li>\n",
       "\t<li>'income'</li>\n",
       "\t<li>'illiteracy'</li>\n",
       "\t<li>'life.exp'</li>\n",
       "\t<li>'murder'</li>\n",
       "\t<li>'highSchoolGrad'</li>\n",
       "\t<li>'frost'</li>\n",
       "\t<li>'area'</li>\n",
       "</ol>\n"
      ],
      "text/latex": [
       "\\begin{enumerate*}\n",
       "\\item 'X'\n",
       "\\item 'state.abb'\n",
       "\\item 'state.area'\n",
       "\\item 'state.region'\n",
       "\\item 'population'\n",
       "\\item 'income'\n",
       "\\item 'illiteracy'\n",
       "\\item 'life.exp'\n",
       "\\item 'murder'\n",
       "\\item 'highSchoolGrad'\n",
       "\\item 'frost'\n",
       "\\item 'area'\n",
       "\\end{enumerate*}\n"
      ],
      "text/markdown": [
       "1. 'X'\n",
       "2. 'state.abb'\n",
       "3. 'state.area'\n",
       "4. 'state.region'\n",
       "5. 'population'\n",
       "6. 'income'\n",
       "7. 'illiteracy'\n",
       "8. 'life.exp'\n",
       "9. 'murder'\n",
       "10. 'highSchoolGrad'\n",
       "11. 'frost'\n",
       "12. 'area'\n",
       "\n",
       "\n"
      ],
      "text/plain": [
       " [1] \"X\"              \"state.abb\"      \"state.area\"     \"state.region\"  \n",
       " [5] \"population\"     \"income\"         \"illiteracy\"     \"life.exp\"      \n",
       " [9] \"murder\"         \"highSchoolGrad\" \"frost\"          \"area\"          "
      ]
     },
     "metadata": {},
     "output_type": "display_data"
    }
   ],
   "source": [
    "names(state_info)"
   ]
  },
  {
   "cell_type": "code",
   "execution_count": 11,
   "metadata": {
    "scrolled": true
   },
   "outputs": [
    {
     "name": "stdout",
     "output_type": "stream",
     "text": [
      "'data.frame':\t50 obs. of  12 variables:\n",
      " $ X             : Factor w/ 50 levels \"Alabama\",\"Alaska\",..: 1 2 3 4 5 6 7 8 9 10 ...\n",
      " $ state.abb     : Factor w/ 50 levels \"AK\",\"AL\",\"AR\",..: 2 1 4 3 5 6 7 8 9 10 ...\n",
      " $ state.area    : int  51609 589757 113909 53104 158693 104247 5009 2057 58560 58876 ...\n",
      " $ state.region  : int  2 4 4 2 4 4 1 2 2 2 ...\n",
      " $ population    : int  3615 365 2212 2110 21198 2541 3100 579 8277 4931 ...\n",
      " $ income        : int  3624 6315 4530 3378 5114 4884 5348 4809 4815 4091 ...\n",
      " $ illiteracy    : num  2.1 1.5 1.8 1.9 1.1 0.7 1.1 0.9 1.3 2 ...\n",
      " $ life.exp      : num  69 69.3 70.5 70.7 71.7 ...\n",
      " $ murder        : num  15.1 11.3 7.8 10.1 10.3 6.8 3.1 6.2 10.7 13.9 ...\n",
      " $ highSchoolGrad: num  41.3 66.7 58.1 39.9 62.6 63.9 56 54.6 52.6 40.6 ...\n",
      " $ frost         : int  20 152 15 65 20 166 139 103 11 60 ...\n",
      " $ area          : int  50708 566432 113417 51945 156361 103766 4862 1982 54090 58073 ...\n"
     ]
    }
   ],
   "source": [
    "str(state_info) # Structure"
   ]
  },
  {
   "cell_type": "code",
   "execution_count": 12,
   "metadata": {},
   "outputs": [
    {
     "data": {
      "text/html": [
       "<ol class=list-inline>\n",
       "\t<li>50</li>\n",
       "\t<li>12</li>\n",
       "</ol>\n"
      ],
      "text/latex": [
       "\\begin{enumerate*}\n",
       "\\item 50\n",
       "\\item 12\n",
       "\\end{enumerate*}\n"
      ],
      "text/markdown": [
       "1. 50\n",
       "2. 12\n",
       "\n",
       "\n"
      ],
      "text/plain": [
       "[1] 50 12"
      ]
     },
     "metadata": {},
     "output_type": "display_data"
    }
   ],
   "source": [
    "dim(state_info) # Dimension"
   ]
  },
  {
   "cell_type": "code",
   "execution_count": 13,
   "metadata": {},
   "outputs": [
    {
     "data": {
      "text/plain": [
       "          X        state.abb    state.area      state.region    population   \n",
       " Alabama   : 1   AK     : 1   Min.   :  1214   Min.   :1.00   Min.   :  365  \n",
       " Alaska    : 1   AL     : 1   1st Qu.: 37317   1st Qu.:2.00   1st Qu.: 1080  \n",
       " Arizona   : 1   AR     : 1   Median : 56222   Median :2.50   Median : 2838  \n",
       " Arkansas  : 1   AZ     : 1   Mean   : 72368   Mean   :2.58   Mean   : 4246  \n",
       " California: 1   CA     : 1   3rd Qu.: 83234   3rd Qu.:3.75   3rd Qu.: 4968  \n",
       " Colorado  : 1   CO     : 1   Max.   :589757   Max.   :4.00   Max.   :21198  \n",
       " (Other)   :44   (Other):44                                                  \n",
       "     income       illiteracy       life.exp         murder      \n",
       " Min.   :3098   Min.   :0.500   Min.   :67.96   Min.   : 1.400  \n",
       " 1st Qu.:3993   1st Qu.:0.625   1st Qu.:70.12   1st Qu.: 4.350  \n",
       " Median :4519   Median :0.950   Median :70.67   Median : 6.850  \n",
       " Mean   :4436   Mean   :1.170   Mean   :70.88   Mean   : 7.378  \n",
       " 3rd Qu.:4814   3rd Qu.:1.575   3rd Qu.:71.89   3rd Qu.:10.675  \n",
       " Max.   :6315   Max.   :2.800   Max.   :73.60   Max.   :15.100  \n",
       "                                                                \n",
       " highSchoolGrad      frost             area       \n",
       " Min.   :37.80   Min.   :  0.00   Min.   :  1049  \n",
       " 1st Qu.:48.05   1st Qu.: 66.25   1st Qu.: 36985  \n",
       " Median :53.25   Median :114.50   Median : 54277  \n",
       " Mean   :53.11   Mean   :104.46   Mean   : 70736  \n",
       " 3rd Qu.:59.15   3rd Qu.:139.75   3rd Qu.: 81162  \n",
       " Max.   :67.30   Max.   :188.00   Max.   :566432  \n",
       "                                                  "
      ]
     },
     "metadata": {},
     "output_type": "display_data"
    }
   ],
   "source": [
    "summary(state_info)"
   ]
  },
  {
   "cell_type": "markdown",
   "metadata": {},
   "source": [
    "### Rows"
   ]
  },
  {
   "cell_type": "code",
   "execution_count": 14,
   "metadata": {},
   "outputs": [
    {
     "data": {
      "text/html": [
       "<ol class=list-inline>\n",
       "\t<li>'1'</li>\n",
       "\t<li>'2'</li>\n",
       "\t<li>'3'</li>\n",
       "\t<li>'4'</li>\n",
       "\t<li>'5'</li>\n",
       "\t<li>'6'</li>\n",
       "\t<li>'7'</li>\n",
       "\t<li>'8'</li>\n",
       "\t<li>'9'</li>\n",
       "\t<li>'10'</li>\n",
       "\t<li>'11'</li>\n",
       "\t<li>'12'</li>\n",
       "\t<li>'13'</li>\n",
       "\t<li>'14'</li>\n",
       "\t<li>'15'</li>\n",
       "\t<li>'16'</li>\n",
       "\t<li>'17'</li>\n",
       "\t<li>'18'</li>\n",
       "\t<li>'19'</li>\n",
       "\t<li>'20'</li>\n",
       "\t<li>'21'</li>\n",
       "\t<li>'22'</li>\n",
       "\t<li>'23'</li>\n",
       "\t<li>'24'</li>\n",
       "\t<li>'25'</li>\n",
       "\t<li>'26'</li>\n",
       "\t<li>'27'</li>\n",
       "\t<li>'28'</li>\n",
       "\t<li>'29'</li>\n",
       "\t<li>'30'</li>\n",
       "\t<li>'31'</li>\n",
       "\t<li>'32'</li>\n",
       "\t<li>'33'</li>\n",
       "\t<li>'34'</li>\n",
       "\t<li>'35'</li>\n",
       "\t<li>'36'</li>\n",
       "\t<li>'37'</li>\n",
       "\t<li>'38'</li>\n",
       "\t<li>'39'</li>\n",
       "\t<li>'40'</li>\n",
       "\t<li>'41'</li>\n",
       "\t<li>'42'</li>\n",
       "\t<li>'43'</li>\n",
       "\t<li>'44'</li>\n",
       "\t<li>'45'</li>\n",
       "\t<li>'46'</li>\n",
       "\t<li>'47'</li>\n",
       "\t<li>'48'</li>\n",
       "\t<li>'49'</li>\n",
       "\t<li>'50'</li>\n",
       "</ol>\n"
      ],
      "text/latex": [
       "\\begin{enumerate*}\n",
       "\\item '1'\n",
       "\\item '2'\n",
       "\\item '3'\n",
       "\\item '4'\n",
       "\\item '5'\n",
       "\\item '6'\n",
       "\\item '7'\n",
       "\\item '8'\n",
       "\\item '9'\n",
       "\\item '10'\n",
       "\\item '11'\n",
       "\\item '12'\n",
       "\\item '13'\n",
       "\\item '14'\n",
       "\\item '15'\n",
       "\\item '16'\n",
       "\\item '17'\n",
       "\\item '18'\n",
       "\\item '19'\n",
       "\\item '20'\n",
       "\\item '21'\n",
       "\\item '22'\n",
       "\\item '23'\n",
       "\\item '24'\n",
       "\\item '25'\n",
       "\\item '26'\n",
       "\\item '27'\n",
       "\\item '28'\n",
       "\\item '29'\n",
       "\\item '30'\n",
       "\\item '31'\n",
       "\\item '32'\n",
       "\\item '33'\n",
       "\\item '34'\n",
       "\\item '35'\n",
       "\\item '36'\n",
       "\\item '37'\n",
       "\\item '38'\n",
       "\\item '39'\n",
       "\\item '40'\n",
       "\\item '41'\n",
       "\\item '42'\n",
       "\\item '43'\n",
       "\\item '44'\n",
       "\\item '45'\n",
       "\\item '46'\n",
       "\\item '47'\n",
       "\\item '48'\n",
       "\\item '49'\n",
       "\\item '50'\n",
       "\\end{enumerate*}\n"
      ],
      "text/markdown": [
       "1. '1'\n",
       "2. '2'\n",
       "3. '3'\n",
       "4. '4'\n",
       "5. '5'\n",
       "6. '6'\n",
       "7. '7'\n",
       "8. '8'\n",
       "9. '9'\n",
       "10. '10'\n",
       "11. '11'\n",
       "12. '12'\n",
       "13. '13'\n",
       "14. '14'\n",
       "15. '15'\n",
       "16. '16'\n",
       "17. '17'\n",
       "18. '18'\n",
       "19. '19'\n",
       "20. '20'\n",
       "21. '21'\n",
       "22. '22'\n",
       "23. '23'\n",
       "24. '24'\n",
       "25. '25'\n",
       "26. '26'\n",
       "27. '27'\n",
       "28. '28'\n",
       "29. '29'\n",
       "30. '30'\n",
       "31. '31'\n",
       "32. '32'\n",
       "33. '33'\n",
       "34. '34'\n",
       "35. '35'\n",
       "36. '36'\n",
       "37. '37'\n",
       "38. '38'\n",
       "39. '39'\n",
       "40. '40'\n",
       "41. '41'\n",
       "42. '42'\n",
       "43. '43'\n",
       "44. '44'\n",
       "45. '45'\n",
       "46. '46'\n",
       "47. '47'\n",
       "48. '48'\n",
       "49. '49'\n",
       "50. '50'\n",
       "\n",
       "\n"
      ],
      "text/plain": [
       " [1] \"1\"  \"2\"  \"3\"  \"4\"  \"5\"  \"6\"  \"7\"  \"8\"  \"9\"  \"10\" \"11\" \"12\" \"13\" \"14\" \"15\"\n",
       "[16] \"16\" \"17\" \"18\" \"19\" \"20\" \"21\" \"22\" \"23\" \"24\" \"25\" \"26\" \"27\" \"28\" \"29\" \"30\"\n",
       "[31] \"31\" \"32\" \"33\" \"34\" \"35\" \"36\" \"37\" \"38\" \"39\" \"40\" \"41\" \"42\" \"43\" \"44\" \"45\"\n",
       "[46] \"46\" \"47\" \"48\" \"49\" \"50\""
      ]
     },
     "metadata": {},
     "output_type": "display_data"
    }
   ],
   "source": [
    "row.names(state_info)"
   ]
  },
  {
   "cell_type": "code",
   "execution_count": 15,
   "metadata": {
    "scrolled": true
   },
   "outputs": [
    {
     "data": {
      "text/html": [
       "<table>\n",
       "<thead><tr><th></th><th scope=col>X</th><th scope=col>state.abb</th><th scope=col>state.area</th><th scope=col>state.region</th><th scope=col>population</th><th scope=col>income</th><th scope=col>illiteracy</th><th scope=col>life.exp</th><th scope=col>murder</th><th scope=col>highSchoolGrad</th><th scope=col>frost</th><th scope=col>area</th></tr></thead>\n",
       "<tbody>\n",
       "\t<tr><th scope=row>11</th><td>Alabama       </td><td>AL            </td><td> 51609        </td><td>2             </td><td> 3615         </td><td>3624          </td><td>2.1           </td><td>69.05         </td><td>15.1          </td><td>41.3          </td><td> 20           </td><td> 50708        </td></tr>\n",
       "\t<tr><th scope=row>12</th><td>Alaska        </td><td>AK            </td><td>589757        </td><td>4             </td><td>  365         </td><td>6315          </td><td>1.5           </td><td>69.31         </td><td>11.3          </td><td>66.7          </td><td>152           </td><td>566432        </td></tr>\n",
       "\t<tr><th scope=row>13</th><td>Arizona       </td><td>AZ            </td><td>113909        </td><td>4             </td><td> 2212         </td><td>4530          </td><td>1.8           </td><td>70.55         </td><td> 7.8          </td><td>58.1          </td><td> 15           </td><td>113417        </td></tr>\n",
       "\t<tr><th scope=row>14</th><td>Arkansas      </td><td>AR            </td><td> 53104        </td><td>2             </td><td> 2110         </td><td>3378          </td><td>1.9           </td><td>70.66         </td><td>10.1          </td><td>39.9          </td><td> 65           </td><td> 51945        </td></tr>\n",
       "\t<tr><th scope=row>15</th><td>California    </td><td>CA            </td><td>158693        </td><td>4             </td><td>21198         </td><td>5114          </td><td>1.1           </td><td>71.71         </td><td>10.3          </td><td>62.6          </td><td> 20           </td><td>156361        </td></tr>\n",
       "\t<tr><th scope=row>16</th><td>Colorado      </td><td>CO            </td><td>104247        </td><td>4             </td><td> 2541         </td><td>4884          </td><td>0.7           </td><td>72.06         </td><td> 6.8          </td><td>63.9          </td><td>166           </td><td>103766        </td></tr>\n",
       "\t<tr><th scope=row>17</th><td>Connecticut   </td><td>CT            </td><td>  5009        </td><td>1             </td><td> 3100         </td><td>5348          </td><td>1.1           </td><td>72.48         </td><td> 3.1          </td><td>56.0          </td><td>139           </td><td>  4862        </td></tr>\n",
       "\t<tr><th scope=row>18</th><td>Delaware      </td><td>DE            </td><td>  2057        </td><td>2             </td><td>  579         </td><td>4809          </td><td>0.9           </td><td>70.06         </td><td> 6.2          </td><td>54.6          </td><td>103           </td><td>  1982        </td></tr>\n",
       "\t<tr><th scope=row>19</th><td>Florida       </td><td>FL            </td><td> 58560        </td><td>2             </td><td> 8277         </td><td>4815          </td><td>1.3           </td><td>70.66         </td><td>10.7          </td><td>52.6          </td><td> 11           </td><td> 54090        </td></tr>\n",
       "\t<tr><th scope=row>20</th><td>Georgia       </td><td>GA            </td><td> 58876        </td><td>2             </td><td> 4931         </td><td>4091          </td><td>2.0           </td><td>68.54         </td><td>13.9          </td><td>40.6          </td><td> 60           </td><td> 58073        </td></tr>\n",
       "\t<tr><th scope=row>21</th><td>Hawaii        </td><td>HI            </td><td>  6450        </td><td>4             </td><td>  868         </td><td>4963          </td><td>1.9           </td><td>73.60         </td><td> 6.2          </td><td>61.9          </td><td>  0           </td><td>  6425        </td></tr>\n",
       "\t<tr><th scope=row>22</th><td>Idaho         </td><td>ID            </td><td> 83557        </td><td>4             </td><td>  813         </td><td>4119          </td><td>0.6           </td><td>71.87         </td><td> 5.3          </td><td>59.5          </td><td>126           </td><td> 82677        </td></tr>\n",
       "\t<tr><th scope=row>23</th><td>Illinois      </td><td>IL            </td><td> 56400        </td><td>3             </td><td>11197         </td><td>5107          </td><td>0.9           </td><td>70.14         </td><td>10.3          </td><td>52.6          </td><td>127           </td><td> 55748        </td></tr>\n",
       "\t<tr><th scope=row>24</th><td>Indiana       </td><td>IN            </td><td> 36291        </td><td>3             </td><td> 5313         </td><td>4458          </td><td>0.7           </td><td>70.88         </td><td> 7.1          </td><td>52.9          </td><td>122           </td><td> 36097        </td></tr>\n",
       "\t<tr><th scope=row>25</th><td>Iowa          </td><td>IA            </td><td> 56290        </td><td>3             </td><td> 2861         </td><td>4628          </td><td>0.5           </td><td>72.56         </td><td> 2.3          </td><td>59.0          </td><td>140           </td><td> 55941        </td></tr>\n",
       "\t<tr><th scope=row>26</th><td>Kansas        </td><td>KS            </td><td> 82264        </td><td>3             </td><td> 2280         </td><td>4669          </td><td>0.6           </td><td>72.58         </td><td> 4.5          </td><td>59.9          </td><td>114           </td><td> 81787        </td></tr>\n",
       "\t<tr><th scope=row>27</th><td>Kentucky      </td><td>KY            </td><td> 40395        </td><td>2             </td><td> 3387         </td><td>3712          </td><td>1.6           </td><td>70.10         </td><td>10.6          </td><td>38.5          </td><td> 95           </td><td> 39650        </td></tr>\n",
       "\t<tr><th scope=row>28</th><td>Louisiana     </td><td>LA            </td><td> 48523        </td><td>2             </td><td> 3806         </td><td>3545          </td><td>2.8           </td><td>68.76         </td><td>13.2          </td><td>42.2          </td><td> 12           </td><td> 44930        </td></tr>\n",
       "\t<tr><th scope=row>29</th><td>Maine         </td><td>ME            </td><td> 33215        </td><td>1             </td><td> 1058         </td><td>3694          </td><td>0.7           </td><td>70.39         </td><td> 2.7          </td><td>54.7          </td><td>161           </td><td> 30920        </td></tr>\n",
       "\t<tr><th scope=row>30</th><td>Maryland      </td><td>MD            </td><td> 10577        </td><td>2             </td><td> 4122         </td><td>5299          </td><td>0.9           </td><td>70.22         </td><td> 8.5          </td><td>52.3          </td><td>101           </td><td>  9891        </td></tr>\n",
       "\t<tr><th scope=row>31</th><td>Massachusetts </td><td>MA            </td><td>  8257        </td><td>1             </td><td> 5814         </td><td>4755          </td><td>1.1           </td><td>71.83         </td><td> 3.3          </td><td>58.5          </td><td>103           </td><td>  7826        </td></tr>\n",
       "\t<tr><th scope=row>32</th><td>Michigan      </td><td>MI            </td><td> 58216        </td><td>3             </td><td> 9111         </td><td>4751          </td><td>0.9           </td><td>70.63         </td><td>11.1          </td><td>52.8          </td><td>125           </td><td> 56817        </td></tr>\n",
       "\t<tr><th scope=row>33</th><td>Minnesota     </td><td>MN            </td><td> 84068        </td><td>3             </td><td> 3921         </td><td>4675          </td><td>0.6           </td><td>72.96         </td><td> 2.3          </td><td>57.6          </td><td>160           </td><td> 79289        </td></tr>\n",
       "\t<tr><th scope=row>34</th><td>Mississippi   </td><td>MS            </td><td> 47716        </td><td>2             </td><td> 2341         </td><td>3098          </td><td>2.4           </td><td>68.09         </td><td>12.5          </td><td>41.0          </td><td> 50           </td><td> 47296        </td></tr>\n",
       "\t<tr><th scope=row>35</th><td>Missouri      </td><td>MO            </td><td> 69686        </td><td>3             </td><td> 4767         </td><td>4254          </td><td>0.8           </td><td>70.69         </td><td> 9.3          </td><td>48.8          </td><td>108           </td><td> 68995        </td></tr>\n",
       "\t<tr><th scope=row>36</th><td>Montana       </td><td>MT            </td><td>147138        </td><td>4             </td><td>  746         </td><td>4347          </td><td>0.6           </td><td>70.56         </td><td> 5.0          </td><td>59.2          </td><td>155           </td><td>145587        </td></tr>\n",
       "\t<tr><th scope=row>37</th><td>Nebraska      </td><td>NE            </td><td> 77227        </td><td>3             </td><td> 1544         </td><td>4508          </td><td>0.6           </td><td>72.60         </td><td> 2.9          </td><td>59.3          </td><td>139           </td><td> 76483        </td></tr>\n",
       "\t<tr><th scope=row>38</th><td>Nevada        </td><td>NV            </td><td>110540        </td><td>4             </td><td>  590         </td><td>5149          </td><td>0.5           </td><td>69.03         </td><td>11.5          </td><td>65.2          </td><td>188           </td><td>109889        </td></tr>\n",
       "\t<tr><th scope=row>39</th><td>New Hampshire </td><td>NH            </td><td>  9304        </td><td>1             </td><td>  812         </td><td>4281          </td><td>0.7           </td><td>71.23         </td><td> 3.3          </td><td>57.6          </td><td>174           </td><td>  9027        </td></tr>\n",
       "\t<tr><th scope=row>40</th><td>New Jersey    </td><td>NJ            </td><td>  7836        </td><td>1             </td><td> 7333         </td><td>5237          </td><td>1.1           </td><td>70.93         </td><td> 5.2          </td><td>52.5          </td><td>115           </td><td>  7521        </td></tr>\n",
       "\t<tr><th scope=row>41</th><td>New Mexico    </td><td>NM            </td><td>121666        </td><td>4             </td><td> 1144         </td><td>3601          </td><td>2.2           </td><td>70.32         </td><td> 9.7          </td><td>55.2          </td><td>120           </td><td>121412        </td></tr>\n",
       "\t<tr><th scope=row>42</th><td>New York      </td><td>NY            </td><td> 49576        </td><td>1             </td><td>18076         </td><td>4903          </td><td>1.4           </td><td>70.55         </td><td>10.9          </td><td>52.7          </td><td> 82           </td><td> 47831        </td></tr>\n",
       "\t<tr><th scope=row>43</th><td>North Carolina</td><td>NC            </td><td> 52586        </td><td>2             </td><td> 5441         </td><td>3875          </td><td>1.8           </td><td>69.21         </td><td>11.1          </td><td>38.5          </td><td> 80           </td><td> 48798        </td></tr>\n",
       "\t<tr><th scope=row>44</th><td>North Dakota  </td><td>ND            </td><td> 70665        </td><td>3             </td><td>  637         </td><td>5087          </td><td>0.8           </td><td>72.78         </td><td> 1.4          </td><td>50.3          </td><td>186           </td><td> 69273        </td></tr>\n",
       "\t<tr><th scope=row>45</th><td>Ohio          </td><td>OH            </td><td> 41222        </td><td>3             </td><td>10735         </td><td>4561          </td><td>0.8           </td><td>70.82         </td><td> 7.4          </td><td>53.2          </td><td>124           </td><td> 40975        </td></tr>\n",
       "\t<tr><th scope=row>46</th><td>Oklahoma      </td><td>OK            </td><td> 69919        </td><td>2             </td><td> 2715         </td><td>3983          </td><td>1.1           </td><td>71.42         </td><td> 6.4          </td><td>51.6          </td><td> 82           </td><td> 68782        </td></tr>\n",
       "\t<tr><th scope=row>47</th><td>Oregon        </td><td>OR            </td><td> 96981        </td><td>4             </td><td> 2284         </td><td>4660          </td><td>0.6           </td><td>72.13         </td><td> 4.2          </td><td>60.0          </td><td> 44           </td><td> 96184        </td></tr>\n",
       "\t<tr><th scope=row>48</th><td>Pennsylvania  </td><td>PA            </td><td> 45333        </td><td>1             </td><td>11860         </td><td>4449          </td><td>1.0           </td><td>70.43         </td><td> 6.1          </td><td>50.2          </td><td>126           </td><td> 44966        </td></tr>\n",
       "\t<tr><th scope=row>49</th><td>Rhode Island  </td><td>RI            </td><td>  1214        </td><td>1             </td><td>  931         </td><td>4558          </td><td>1.3           </td><td>71.90         </td><td> 2.4          </td><td>46.4          </td><td>127           </td><td>  1049        </td></tr>\n",
       "\t<tr><th scope=row>50</th><td>South Carolina</td><td>SC            </td><td> 31055        </td><td>2             </td><td> 2816         </td><td>3635          </td><td>2.3           </td><td>67.96         </td><td>11.6          </td><td>37.8          </td><td> 65           </td><td> 30225        </td></tr>\n",
       "\t<tr><th scope=row>51</th><td>South Dakota  </td><td>SD            </td><td> 77047        </td><td>3             </td><td>  681         </td><td>4167          </td><td>0.5           </td><td>72.08         </td><td> 1.7          </td><td>53.3          </td><td>172           </td><td> 75955        </td></tr>\n",
       "\t<tr><th scope=row>52</th><td>Tennessee     </td><td>TN            </td><td> 42244        </td><td>2             </td><td> 4173         </td><td>3821          </td><td>1.7           </td><td>70.11         </td><td>11.0          </td><td>41.8          </td><td> 70           </td><td> 41328        </td></tr>\n",
       "\t<tr><th scope=row>53</th><td>Texas         </td><td>TX            </td><td>267339        </td><td>2             </td><td>12237         </td><td>4188          </td><td>2.2           </td><td>70.90         </td><td>12.2          </td><td>47.4          </td><td> 35           </td><td>262134        </td></tr>\n",
       "\t<tr><th scope=row>54</th><td>Utah          </td><td>UT            </td><td> 84916        </td><td>4             </td><td> 1203         </td><td>4022          </td><td>0.6           </td><td>72.90         </td><td> 4.5          </td><td>67.3          </td><td>137           </td><td> 82096        </td></tr>\n",
       "\t<tr><th scope=row>55</th><td>Vermont       </td><td>VT            </td><td>  9609        </td><td>1             </td><td>  472         </td><td>3907          </td><td>0.6           </td><td>71.64         </td><td> 5.5          </td><td>57.1          </td><td>168           </td><td>  9267        </td></tr>\n",
       "\t<tr><th scope=row>56</th><td>Virginia      </td><td>VA            </td><td> 40815        </td><td>2             </td><td> 4981         </td><td>4701          </td><td>1.4           </td><td>70.08         </td><td> 9.5          </td><td>47.8          </td><td> 85           </td><td> 39780        </td></tr>\n",
       "\t<tr><th scope=row>57</th><td>Washington    </td><td>WA            </td><td> 68192        </td><td>4             </td><td> 3559         </td><td>4864          </td><td>0.6           </td><td>71.72         </td><td> 4.3          </td><td>63.5          </td><td> 32           </td><td> 66570        </td></tr>\n",
       "\t<tr><th scope=row>58</th><td>West Virginia </td><td>WV            </td><td> 24181        </td><td>2             </td><td> 1799         </td><td>3617          </td><td>1.4           </td><td>69.48         </td><td> 6.7          </td><td>41.6          </td><td>100           </td><td> 24070        </td></tr>\n",
       "\t<tr><th scope=row>59</th><td>Wisconsin     </td><td>WI            </td><td> 56154        </td><td>3             </td><td> 4589         </td><td>4468          </td><td>0.7           </td><td>72.48         </td><td> 3.0          </td><td>54.5          </td><td>149           </td><td> 54464        </td></tr>\n",
       "\t<tr><th scope=row>60</th><td>Wyoming       </td><td>WY            </td><td> 97914        </td><td>4             </td><td>  376         </td><td>4566          </td><td>0.6           </td><td>70.29         </td><td> 6.9          </td><td>62.9          </td><td>173           </td><td> 97203        </td></tr>\n",
       "</tbody>\n",
       "</table>\n"
      ],
      "text/latex": [
       "\\begin{tabular}{r|llllllllllll}\n",
       "  & X & state.abb & state.area & state.region & population & income & illiteracy & life.exp & murder & highSchoolGrad & frost & area\\\\\n",
       "\\hline\n",
       "\t11 & Alabama        & AL             &  51609         & 2              &  3615          & 3624           & 2.1            & 69.05          & 15.1           & 41.3           &  20            &  50708        \\\\\n",
       "\t12 & Alaska         & AK             & 589757         & 4              &   365          & 6315           & 1.5            & 69.31          & 11.3           & 66.7           & 152            & 566432        \\\\\n",
       "\t13 & Arizona        & AZ             & 113909         & 4              &  2212          & 4530           & 1.8            & 70.55          &  7.8           & 58.1           &  15            & 113417        \\\\\n",
       "\t14 & Arkansas       & AR             &  53104         & 2              &  2110          & 3378           & 1.9            & 70.66          & 10.1           & 39.9           &  65            &  51945        \\\\\n",
       "\t15 & California     & CA             & 158693         & 4              & 21198          & 5114           & 1.1            & 71.71          & 10.3           & 62.6           &  20            & 156361        \\\\\n",
       "\t16 & Colorado       & CO             & 104247         & 4              &  2541          & 4884           & 0.7            & 72.06          &  6.8           & 63.9           & 166            & 103766        \\\\\n",
       "\t17 & Connecticut    & CT             &   5009         & 1              &  3100          & 5348           & 1.1            & 72.48          &  3.1           & 56.0           & 139            &   4862        \\\\\n",
       "\t18 & Delaware       & DE             &   2057         & 2              &   579          & 4809           & 0.9            & 70.06          &  6.2           & 54.6           & 103            &   1982        \\\\\n",
       "\t19 & Florida        & FL             &  58560         & 2              &  8277          & 4815           & 1.3            & 70.66          & 10.7           & 52.6           &  11            &  54090        \\\\\n",
       "\t20 & Georgia        & GA             &  58876         & 2              &  4931          & 4091           & 2.0            & 68.54          & 13.9           & 40.6           &  60            &  58073        \\\\\n",
       "\t21 & Hawaii         & HI             &   6450         & 4              &   868          & 4963           & 1.9            & 73.60          &  6.2           & 61.9           &   0            &   6425        \\\\\n",
       "\t22 & Idaho          & ID             &  83557         & 4              &   813          & 4119           & 0.6            & 71.87          &  5.3           & 59.5           & 126            &  82677        \\\\\n",
       "\t23 & Illinois       & IL             &  56400         & 3              & 11197          & 5107           & 0.9            & 70.14          & 10.3           & 52.6           & 127            &  55748        \\\\\n",
       "\t24 & Indiana        & IN             &  36291         & 3              &  5313          & 4458           & 0.7            & 70.88          &  7.1           & 52.9           & 122            &  36097        \\\\\n",
       "\t25 & Iowa           & IA             &  56290         & 3              &  2861          & 4628           & 0.5            & 72.56          &  2.3           & 59.0           & 140            &  55941        \\\\\n",
       "\t26 & Kansas         & KS             &  82264         & 3              &  2280          & 4669           & 0.6            & 72.58          &  4.5           & 59.9           & 114            &  81787        \\\\\n",
       "\t27 & Kentucky       & KY             &  40395         & 2              &  3387          & 3712           & 1.6            & 70.10          & 10.6           & 38.5           &  95            &  39650        \\\\\n",
       "\t28 & Louisiana      & LA             &  48523         & 2              &  3806          & 3545           & 2.8            & 68.76          & 13.2           & 42.2           &  12            &  44930        \\\\\n",
       "\t29 & Maine          & ME             &  33215         & 1              &  1058          & 3694           & 0.7            & 70.39          &  2.7           & 54.7           & 161            &  30920        \\\\\n",
       "\t30 & Maryland       & MD             &  10577         & 2              &  4122          & 5299           & 0.9            & 70.22          &  8.5           & 52.3           & 101            &   9891        \\\\\n",
       "\t31 & Massachusetts  & MA             &   8257         & 1              &  5814          & 4755           & 1.1            & 71.83          &  3.3           & 58.5           & 103            &   7826        \\\\\n",
       "\t32 & Michigan       & MI             &  58216         & 3              &  9111          & 4751           & 0.9            & 70.63          & 11.1           & 52.8           & 125            &  56817        \\\\\n",
       "\t33 & Minnesota      & MN             &  84068         & 3              &  3921          & 4675           & 0.6            & 72.96          &  2.3           & 57.6           & 160            &  79289        \\\\\n",
       "\t34 & Mississippi    & MS             &  47716         & 2              &  2341          & 3098           & 2.4            & 68.09          & 12.5           & 41.0           &  50            &  47296        \\\\\n",
       "\t35 & Missouri       & MO             &  69686         & 3              &  4767          & 4254           & 0.8            & 70.69          &  9.3           & 48.8           & 108            &  68995        \\\\\n",
       "\t36 & Montana        & MT             & 147138         & 4              &   746          & 4347           & 0.6            & 70.56          &  5.0           & 59.2           & 155            & 145587        \\\\\n",
       "\t37 & Nebraska       & NE             &  77227         & 3              &  1544          & 4508           & 0.6            & 72.60          &  2.9           & 59.3           & 139            &  76483        \\\\\n",
       "\t38 & Nevada         & NV             & 110540         & 4              &   590          & 5149           & 0.5            & 69.03          & 11.5           & 65.2           & 188            & 109889        \\\\\n",
       "\t39 & New Hampshire  & NH             &   9304         & 1              &   812          & 4281           & 0.7            & 71.23          &  3.3           & 57.6           & 174            &   9027        \\\\\n",
       "\t40 & New Jersey     & NJ             &   7836         & 1              &  7333          & 5237           & 1.1            & 70.93          &  5.2           & 52.5           & 115            &   7521        \\\\\n",
       "\t41 & New Mexico     & NM             & 121666         & 4              &  1144          & 3601           & 2.2            & 70.32          &  9.7           & 55.2           & 120            & 121412        \\\\\n",
       "\t42 & New York       & NY             &  49576         & 1              & 18076          & 4903           & 1.4            & 70.55          & 10.9           & 52.7           &  82            &  47831        \\\\\n",
       "\t43 & North Carolina & NC             &  52586         & 2              &  5441          & 3875           & 1.8            & 69.21          & 11.1           & 38.5           &  80            &  48798        \\\\\n",
       "\t44 & North Dakota   & ND             &  70665         & 3              &   637          & 5087           & 0.8            & 72.78          &  1.4           & 50.3           & 186            &  69273        \\\\\n",
       "\t45 & Ohio           & OH             &  41222         & 3              & 10735          & 4561           & 0.8            & 70.82          &  7.4           & 53.2           & 124            &  40975        \\\\\n",
       "\t46 & Oklahoma       & OK             &  69919         & 2              &  2715          & 3983           & 1.1            & 71.42          &  6.4           & 51.6           &  82            &  68782        \\\\\n",
       "\t47 & Oregon         & OR             &  96981         & 4              &  2284          & 4660           & 0.6            & 72.13          &  4.2           & 60.0           &  44            &  96184        \\\\\n",
       "\t48 & Pennsylvania   & PA             &  45333         & 1              & 11860          & 4449           & 1.0            & 70.43          &  6.1           & 50.2           & 126            &  44966        \\\\\n",
       "\t49 & Rhode Island   & RI             &   1214         & 1              &   931          & 4558           & 1.3            & 71.90          &  2.4           & 46.4           & 127            &   1049        \\\\\n",
       "\t50 & South Carolina & SC             &  31055         & 2              &  2816          & 3635           & 2.3            & 67.96          & 11.6           & 37.8           &  65            &  30225        \\\\\n",
       "\t51 & South Dakota   & SD             &  77047         & 3              &   681          & 4167           & 0.5            & 72.08          &  1.7           & 53.3           & 172            &  75955        \\\\\n",
       "\t52 & Tennessee      & TN             &  42244         & 2              &  4173          & 3821           & 1.7            & 70.11          & 11.0           & 41.8           &  70            &  41328        \\\\\n",
       "\t53 & Texas          & TX             & 267339         & 2              & 12237          & 4188           & 2.2            & 70.90          & 12.2           & 47.4           &  35            & 262134        \\\\\n",
       "\t54 & Utah           & UT             &  84916         & 4              &  1203          & 4022           & 0.6            & 72.90          &  4.5           & 67.3           & 137            &  82096        \\\\\n",
       "\t55 & Vermont        & VT             &   9609         & 1              &   472          & 3907           & 0.6            & 71.64          &  5.5           & 57.1           & 168            &   9267        \\\\\n",
       "\t56 & Virginia       & VA             &  40815         & 2              &  4981          & 4701           & 1.4            & 70.08          &  9.5           & 47.8           &  85            &  39780        \\\\\n",
       "\t57 & Washington     & WA             &  68192         & 4              &  3559          & 4864           & 0.6            & 71.72          &  4.3           & 63.5           &  32            &  66570        \\\\\n",
       "\t58 & West Virginia  & WV             &  24181         & 2              &  1799          & 3617           & 1.4            & 69.48          &  6.7           & 41.6           & 100            &  24070        \\\\\n",
       "\t59 & Wisconsin      & WI             &  56154         & 3              &  4589          & 4468           & 0.7            & 72.48          &  3.0           & 54.5           & 149            &  54464        \\\\\n",
       "\t60 & Wyoming        & WY             &  97914         & 4              &   376          & 4566           & 0.6            & 70.29          &  6.9           & 62.9           & 173            &  97203        \\\\\n",
       "\\end{tabular}\n"
      ],
      "text/markdown": [
       "\n",
       "| <!--/--> | X | state.abb | state.area | state.region | population | income | illiteracy | life.exp | murder | highSchoolGrad | frost | area | \n",
       "|---|---|---|---|---|---|---|---|---|---|---|---|---|---|---|---|---|---|---|---|---|---|---|---|---|---|---|---|---|---|---|---|---|---|---|---|---|---|---|---|---|---|---|---|---|---|---|---|---|---|\n",
       "| 11 | Alabama        | AL             |  51609         | 2              |  3615          | 3624           | 2.1            | 69.05          | 15.1           | 41.3           |  20            |  50708         | \n",
       "| 12 | Alaska         | AK             | 589757         | 4              |   365          | 6315           | 1.5            | 69.31          | 11.3           | 66.7           | 152            | 566432         | \n",
       "| 13 | Arizona        | AZ             | 113909         | 4              |  2212          | 4530           | 1.8            | 70.55          |  7.8           | 58.1           |  15            | 113417         | \n",
       "| 14 | Arkansas       | AR             |  53104         | 2              |  2110          | 3378           | 1.9            | 70.66          | 10.1           | 39.9           |  65            |  51945         | \n",
       "| 15 | California     | CA             | 158693         | 4              | 21198          | 5114           | 1.1            | 71.71          | 10.3           | 62.6           |  20            | 156361         | \n",
       "| 16 | Colorado       | CO             | 104247         | 4              |  2541          | 4884           | 0.7            | 72.06          |  6.8           | 63.9           | 166            | 103766         | \n",
       "| 17 | Connecticut    | CT             |   5009         | 1              |  3100          | 5348           | 1.1            | 72.48          |  3.1           | 56.0           | 139            |   4862         | \n",
       "| 18 | Delaware       | DE             |   2057         | 2              |   579          | 4809           | 0.9            | 70.06          |  6.2           | 54.6           | 103            |   1982         | \n",
       "| 19 | Florida        | FL             |  58560         | 2              |  8277          | 4815           | 1.3            | 70.66          | 10.7           | 52.6           |  11            |  54090         | \n",
       "| 20 | Georgia        | GA             |  58876         | 2              |  4931          | 4091           | 2.0            | 68.54          | 13.9           | 40.6           |  60            |  58073         | \n",
       "| 21 | Hawaii         | HI             |   6450         | 4              |   868          | 4963           | 1.9            | 73.60          |  6.2           | 61.9           |   0            |   6425         | \n",
       "| 22 | Idaho          | ID             |  83557         | 4              |   813          | 4119           | 0.6            | 71.87          |  5.3           | 59.5           | 126            |  82677         | \n",
       "| 23 | Illinois       | IL             |  56400         | 3              | 11197          | 5107           | 0.9            | 70.14          | 10.3           | 52.6           | 127            |  55748         | \n",
       "| 24 | Indiana        | IN             |  36291         | 3              |  5313          | 4458           | 0.7            | 70.88          |  7.1           | 52.9           | 122            |  36097         | \n",
       "| 25 | Iowa           | IA             |  56290         | 3              |  2861          | 4628           | 0.5            | 72.56          |  2.3           | 59.0           | 140            |  55941         | \n",
       "| 26 | Kansas         | KS             |  82264         | 3              |  2280          | 4669           | 0.6            | 72.58          |  4.5           | 59.9           | 114            |  81787         | \n",
       "| 27 | Kentucky       | KY             |  40395         | 2              |  3387          | 3712           | 1.6            | 70.10          | 10.6           | 38.5           |  95            |  39650         | \n",
       "| 28 | Louisiana      | LA             |  48523         | 2              |  3806          | 3545           | 2.8            | 68.76          | 13.2           | 42.2           |  12            |  44930         | \n",
       "| 29 | Maine          | ME             |  33215         | 1              |  1058          | 3694           | 0.7            | 70.39          |  2.7           | 54.7           | 161            |  30920         | \n",
       "| 30 | Maryland       | MD             |  10577         | 2              |  4122          | 5299           | 0.9            | 70.22          |  8.5           | 52.3           | 101            |   9891         | \n",
       "| 31 | Massachusetts  | MA             |   8257         | 1              |  5814          | 4755           | 1.1            | 71.83          |  3.3           | 58.5           | 103            |   7826         | \n",
       "| 32 | Michigan       | MI             |  58216         | 3              |  9111          | 4751           | 0.9            | 70.63          | 11.1           | 52.8           | 125            |  56817         | \n",
       "| 33 | Minnesota      | MN             |  84068         | 3              |  3921          | 4675           | 0.6            | 72.96          |  2.3           | 57.6           | 160            |  79289         | \n",
       "| 34 | Mississippi    | MS             |  47716         | 2              |  2341          | 3098           | 2.4            | 68.09          | 12.5           | 41.0           |  50            |  47296         | \n",
       "| 35 | Missouri       | MO             |  69686         | 3              |  4767          | 4254           | 0.8            | 70.69          |  9.3           | 48.8           | 108            |  68995         | \n",
       "| 36 | Montana        | MT             | 147138         | 4              |   746          | 4347           | 0.6            | 70.56          |  5.0           | 59.2           | 155            | 145587         | \n",
       "| 37 | Nebraska       | NE             |  77227         | 3              |  1544          | 4508           | 0.6            | 72.60          |  2.9           | 59.3           | 139            |  76483         | \n",
       "| 38 | Nevada         | NV             | 110540         | 4              |   590          | 5149           | 0.5            | 69.03          | 11.5           | 65.2           | 188            | 109889         | \n",
       "| 39 | New Hampshire  | NH             |   9304         | 1              |   812          | 4281           | 0.7            | 71.23          |  3.3           | 57.6           | 174            |   9027         | \n",
       "| 40 | New Jersey     | NJ             |   7836         | 1              |  7333          | 5237           | 1.1            | 70.93          |  5.2           | 52.5           | 115            |   7521         | \n",
       "| 41 | New Mexico     | NM             | 121666         | 4              |  1144          | 3601           | 2.2            | 70.32          |  9.7           | 55.2           | 120            | 121412         | \n",
       "| 42 | New York       | NY             |  49576         | 1              | 18076          | 4903           | 1.4            | 70.55          | 10.9           | 52.7           |  82            |  47831         | \n",
       "| 43 | North Carolina | NC             |  52586         | 2              |  5441          | 3875           | 1.8            | 69.21          | 11.1           | 38.5           |  80            |  48798         | \n",
       "| 44 | North Dakota   | ND             |  70665         | 3              |   637          | 5087           | 0.8            | 72.78          |  1.4           | 50.3           | 186            |  69273         | \n",
       "| 45 | Ohio           | OH             |  41222         | 3              | 10735          | 4561           | 0.8            | 70.82          |  7.4           | 53.2           | 124            |  40975         | \n",
       "| 46 | Oklahoma       | OK             |  69919         | 2              |  2715          | 3983           | 1.1            | 71.42          |  6.4           | 51.6           |  82            |  68782         | \n",
       "| 47 | Oregon         | OR             |  96981         | 4              |  2284          | 4660           | 0.6            | 72.13          |  4.2           | 60.0           |  44            |  96184         | \n",
       "| 48 | Pennsylvania   | PA             |  45333         | 1              | 11860          | 4449           | 1.0            | 70.43          |  6.1           | 50.2           | 126            |  44966         | \n",
       "| 49 | Rhode Island   | RI             |   1214         | 1              |   931          | 4558           | 1.3            | 71.90          |  2.4           | 46.4           | 127            |   1049         | \n",
       "| 50 | South Carolina | SC             |  31055         | 2              |  2816          | 3635           | 2.3            | 67.96          | 11.6           | 37.8           |  65            |  30225         | \n",
       "| 51 | South Dakota   | SD             |  77047         | 3              |   681          | 4167           | 0.5            | 72.08          |  1.7           | 53.3           | 172            |  75955         | \n",
       "| 52 | Tennessee      | TN             |  42244         | 2              |  4173          | 3821           | 1.7            | 70.11          | 11.0           | 41.8           |  70            |  41328         | \n",
       "| 53 | Texas          | TX             | 267339         | 2              | 12237          | 4188           | 2.2            | 70.90          | 12.2           | 47.4           |  35            | 262134         | \n",
       "| 54 | Utah           | UT             |  84916         | 4              |  1203          | 4022           | 0.6            | 72.90          |  4.5           | 67.3           | 137            |  82096         | \n",
       "| 55 | Vermont        | VT             |   9609         | 1              |   472          | 3907           | 0.6            | 71.64          |  5.5           | 57.1           | 168            |   9267         | \n",
       "| 56 | Virginia       | VA             |  40815         | 2              |  4981          | 4701           | 1.4            | 70.08          |  9.5           | 47.8           |  85            |  39780         | \n",
       "| 57 | Washington     | WA             |  68192         | 4              |  3559          | 4864           | 0.6            | 71.72          |  4.3           | 63.5           |  32            |  66570         | \n",
       "| 58 | West Virginia  | WV             |  24181         | 2              |  1799          | 3617           | 1.4            | 69.48          |  6.7           | 41.6           | 100            |  24070         | \n",
       "| 59 | Wisconsin      | WI             |  56154         | 3              |  4589          | 4468           | 0.7            | 72.48          |  3.0           | 54.5           | 149            |  54464         | \n",
       "| 60 | Wyoming        | WY             |  97914         | 4              |   376          | 4566           | 0.6            | 70.29          |  6.9           | 62.9           | 173            |  97203         | \n",
       "\n",
       "\n"
      ],
      "text/plain": [
       "   X              state.abb state.area state.region population income\n",
       "11 Alabama        AL         51609     2             3615      3624  \n",
       "12 Alaska         AK        589757     4              365      6315  \n",
       "13 Arizona        AZ        113909     4             2212      4530  \n",
       "14 Arkansas       AR         53104     2             2110      3378  \n",
       "15 California     CA        158693     4            21198      5114  \n",
       "16 Colorado       CO        104247     4             2541      4884  \n",
       "17 Connecticut    CT          5009     1             3100      5348  \n",
       "18 Delaware       DE          2057     2              579      4809  \n",
       "19 Florida        FL         58560     2             8277      4815  \n",
       "20 Georgia        GA         58876     2             4931      4091  \n",
       "21 Hawaii         HI          6450     4              868      4963  \n",
       "22 Idaho          ID         83557     4              813      4119  \n",
       "23 Illinois       IL         56400     3            11197      5107  \n",
       "24 Indiana        IN         36291     3             5313      4458  \n",
       "25 Iowa           IA         56290     3             2861      4628  \n",
       "26 Kansas         KS         82264     3             2280      4669  \n",
       "27 Kentucky       KY         40395     2             3387      3712  \n",
       "28 Louisiana      LA         48523     2             3806      3545  \n",
       "29 Maine          ME         33215     1             1058      3694  \n",
       "30 Maryland       MD         10577     2             4122      5299  \n",
       "31 Massachusetts  MA          8257     1             5814      4755  \n",
       "32 Michigan       MI         58216     3             9111      4751  \n",
       "33 Minnesota      MN         84068     3             3921      4675  \n",
       "34 Mississippi    MS         47716     2             2341      3098  \n",
       "35 Missouri       MO         69686     3             4767      4254  \n",
       "36 Montana        MT        147138     4              746      4347  \n",
       "37 Nebraska       NE         77227     3             1544      4508  \n",
       "38 Nevada         NV        110540     4              590      5149  \n",
       "39 New Hampshire  NH          9304     1              812      4281  \n",
       "40 New Jersey     NJ          7836     1             7333      5237  \n",
       "41 New Mexico     NM        121666     4             1144      3601  \n",
       "42 New York       NY         49576     1            18076      4903  \n",
       "43 North Carolina NC         52586     2             5441      3875  \n",
       "44 North Dakota   ND         70665     3              637      5087  \n",
       "45 Ohio           OH         41222     3            10735      4561  \n",
       "46 Oklahoma       OK         69919     2             2715      3983  \n",
       "47 Oregon         OR         96981     4             2284      4660  \n",
       "48 Pennsylvania   PA         45333     1            11860      4449  \n",
       "49 Rhode Island   RI          1214     1              931      4558  \n",
       "50 South Carolina SC         31055     2             2816      3635  \n",
       "51 South Dakota   SD         77047     3              681      4167  \n",
       "52 Tennessee      TN         42244     2             4173      3821  \n",
       "53 Texas          TX        267339     2            12237      4188  \n",
       "54 Utah           UT         84916     4             1203      4022  \n",
       "55 Vermont        VT          9609     1              472      3907  \n",
       "56 Virginia       VA         40815     2             4981      4701  \n",
       "57 Washington     WA         68192     4             3559      4864  \n",
       "58 West Virginia  WV         24181     2             1799      3617  \n",
       "59 Wisconsin      WI         56154     3             4589      4468  \n",
       "60 Wyoming        WY         97914     4              376      4566  \n",
       "   illiteracy life.exp murder highSchoolGrad frost area  \n",
       "11 2.1        69.05    15.1   41.3            20    50708\n",
       "12 1.5        69.31    11.3   66.7           152   566432\n",
       "13 1.8        70.55     7.8   58.1            15   113417\n",
       "14 1.9        70.66    10.1   39.9            65    51945\n",
       "15 1.1        71.71    10.3   62.6            20   156361\n",
       "16 0.7        72.06     6.8   63.9           166   103766\n",
       "17 1.1        72.48     3.1   56.0           139     4862\n",
       "18 0.9        70.06     6.2   54.6           103     1982\n",
       "19 1.3        70.66    10.7   52.6            11    54090\n",
       "20 2.0        68.54    13.9   40.6            60    58073\n",
       "21 1.9        73.60     6.2   61.9             0     6425\n",
       "22 0.6        71.87     5.3   59.5           126    82677\n",
       "23 0.9        70.14    10.3   52.6           127    55748\n",
       "24 0.7        70.88     7.1   52.9           122    36097\n",
       "25 0.5        72.56     2.3   59.0           140    55941\n",
       "26 0.6        72.58     4.5   59.9           114    81787\n",
       "27 1.6        70.10    10.6   38.5            95    39650\n",
       "28 2.8        68.76    13.2   42.2            12    44930\n",
       "29 0.7        70.39     2.7   54.7           161    30920\n",
       "30 0.9        70.22     8.5   52.3           101     9891\n",
       "31 1.1        71.83     3.3   58.5           103     7826\n",
       "32 0.9        70.63    11.1   52.8           125    56817\n",
       "33 0.6        72.96     2.3   57.6           160    79289\n",
       "34 2.4        68.09    12.5   41.0            50    47296\n",
       "35 0.8        70.69     9.3   48.8           108    68995\n",
       "36 0.6        70.56     5.0   59.2           155   145587\n",
       "37 0.6        72.60     2.9   59.3           139    76483\n",
       "38 0.5        69.03    11.5   65.2           188   109889\n",
       "39 0.7        71.23     3.3   57.6           174     9027\n",
       "40 1.1        70.93     5.2   52.5           115     7521\n",
       "41 2.2        70.32     9.7   55.2           120   121412\n",
       "42 1.4        70.55    10.9   52.7            82    47831\n",
       "43 1.8        69.21    11.1   38.5            80    48798\n",
       "44 0.8        72.78     1.4   50.3           186    69273\n",
       "45 0.8        70.82     7.4   53.2           124    40975\n",
       "46 1.1        71.42     6.4   51.6            82    68782\n",
       "47 0.6        72.13     4.2   60.0            44    96184\n",
       "48 1.0        70.43     6.1   50.2           126    44966\n",
       "49 1.3        71.90     2.4   46.4           127     1049\n",
       "50 2.3        67.96    11.6   37.8            65    30225\n",
       "51 0.5        72.08     1.7   53.3           172    75955\n",
       "52 1.7        70.11    11.0   41.8            70    41328\n",
       "53 2.2        70.90    12.2   47.4            35   262134\n",
       "54 0.6        72.90     4.5   67.3           137    82096\n",
       "55 0.6        71.64     5.5   57.1           168     9267\n",
       "56 1.4        70.08     9.5   47.8            85    39780\n",
       "57 0.6        71.72     4.3   63.5            32    66570\n",
       "58 1.4        69.48     6.7   41.6           100    24070\n",
       "59 0.7        72.48     3.0   54.5           149    54464\n",
       "60 0.6        70.29     6.9   62.9           173    97203"
      ]
     },
     "metadata": {},
     "output_type": "display_data"
    }
   ],
   "source": [
    "row.names(state_info) <- c(11:60)\n",
    "state_info"
   ]
  },
  {
   "cell_type": "markdown",
   "metadata": {},
   "source": [
    "### Columns"
   ]
  },
  {
   "cell_type": "code",
   "execution_count": 16,
   "metadata": {},
   "outputs": [
    {
     "data": {
      "text/html": [
       "<ol class=list-inline>\n",
       "\t<li>AL</li>\n",
       "\t<li>AK</li>\n",
       "\t<li>AZ</li>\n",
       "\t<li>AR</li>\n",
       "\t<li>CA</li>\n",
       "\t<li>CO</li>\n",
       "\t<li>CT</li>\n",
       "\t<li>DE</li>\n",
       "\t<li>FL</li>\n",
       "\t<li>GA</li>\n",
       "\t<li>HI</li>\n",
       "\t<li>ID</li>\n",
       "\t<li>IL</li>\n",
       "\t<li>IN</li>\n",
       "\t<li>IA</li>\n",
       "\t<li>KS</li>\n",
       "\t<li>KY</li>\n",
       "\t<li>LA</li>\n",
       "\t<li>ME</li>\n",
       "\t<li>MD</li>\n",
       "\t<li>MA</li>\n",
       "\t<li>MI</li>\n",
       "\t<li>MN</li>\n",
       "\t<li>MS</li>\n",
       "\t<li>MO</li>\n",
       "\t<li>MT</li>\n",
       "\t<li>NE</li>\n",
       "\t<li>NV</li>\n",
       "\t<li>NH</li>\n",
       "\t<li>NJ</li>\n",
       "\t<li>NM</li>\n",
       "\t<li>NY</li>\n",
       "\t<li>NC</li>\n",
       "\t<li>ND</li>\n",
       "\t<li>OH</li>\n",
       "\t<li>OK</li>\n",
       "\t<li>OR</li>\n",
       "\t<li>PA</li>\n",
       "\t<li>RI</li>\n",
       "\t<li>SC</li>\n",
       "\t<li>SD</li>\n",
       "\t<li>TN</li>\n",
       "\t<li>TX</li>\n",
       "\t<li>UT</li>\n",
       "\t<li>VT</li>\n",
       "\t<li>VA</li>\n",
       "\t<li>WA</li>\n",
       "\t<li>WV</li>\n",
       "\t<li>WI</li>\n",
       "\t<li>WY</li>\n",
       "</ol>\n"
      ],
      "text/latex": [
       "\\begin{enumerate*}\n",
       "\\item AL\n",
       "\\item AK\n",
       "\\item AZ\n",
       "\\item AR\n",
       "\\item CA\n",
       "\\item CO\n",
       "\\item CT\n",
       "\\item DE\n",
       "\\item FL\n",
       "\\item GA\n",
       "\\item HI\n",
       "\\item ID\n",
       "\\item IL\n",
       "\\item IN\n",
       "\\item IA\n",
       "\\item KS\n",
       "\\item KY\n",
       "\\item LA\n",
       "\\item ME\n",
       "\\item MD\n",
       "\\item MA\n",
       "\\item MI\n",
       "\\item MN\n",
       "\\item MS\n",
       "\\item MO\n",
       "\\item MT\n",
       "\\item NE\n",
       "\\item NV\n",
       "\\item NH\n",
       "\\item NJ\n",
       "\\item NM\n",
       "\\item NY\n",
       "\\item NC\n",
       "\\item ND\n",
       "\\item OH\n",
       "\\item OK\n",
       "\\item OR\n",
       "\\item PA\n",
       "\\item RI\n",
       "\\item SC\n",
       "\\item SD\n",
       "\\item TN\n",
       "\\item TX\n",
       "\\item UT\n",
       "\\item VT\n",
       "\\item VA\n",
       "\\item WA\n",
       "\\item WV\n",
       "\\item WI\n",
       "\\item WY\n",
       "\\end{enumerate*}\n"
      ],
      "text/markdown": [
       "1. AL\n",
       "2. AK\n",
       "3. AZ\n",
       "4. AR\n",
       "5. CA\n",
       "6. CO\n",
       "7. CT\n",
       "8. DE\n",
       "9. FL\n",
       "10. GA\n",
       "11. HI\n",
       "12. ID\n",
       "13. IL\n",
       "14. IN\n",
       "15. IA\n",
       "16. KS\n",
       "17. KY\n",
       "18. LA\n",
       "19. ME\n",
       "20. MD\n",
       "21. MA\n",
       "22. MI\n",
       "23. MN\n",
       "24. MS\n",
       "25. MO\n",
       "26. MT\n",
       "27. NE\n",
       "28. NV\n",
       "29. NH\n",
       "30. NJ\n",
       "31. NM\n",
       "32. NY\n",
       "33. NC\n",
       "34. ND\n",
       "35. OH\n",
       "36. OK\n",
       "37. OR\n",
       "38. PA\n",
       "39. RI\n",
       "40. SC\n",
       "41. SD\n",
       "42. TN\n",
       "43. TX\n",
       "44. UT\n",
       "45. VT\n",
       "46. VA\n",
       "47. WA\n",
       "48. WV\n",
       "49. WI\n",
       "50. WY\n",
       "\n",
       "\n"
      ],
      "text/plain": [
       " [1] AL AK AZ AR CA CO CT DE FL GA HI ID IL IN IA KS KY LA ME MD MA MI MN MS MO\n",
       "[26] MT NE NV NH NJ NM NY NC ND OH OK OR PA RI SC SD TN TX UT VT VA WA WV WI WY\n",
       "50 Levels: AK AL AR AZ CA CO CT DE FL GA HI IA ID IL IN KS KY LA MA MD ... WY"
      ]
     },
     "metadata": {},
     "output_type": "display_data"
    }
   ],
   "source": [
    "state_info$state.abb"
   ]
  },
  {
   "cell_type": "code",
   "execution_count": 17,
   "metadata": {},
   "outputs": [
    {
     "data": {
      "text/html": [
       "<ol class=list-inline>\n",
       "\t<li>3615</li>\n",
       "\t<li>365</li>\n",
       "\t<li>2212</li>\n",
       "\t<li>2110</li>\n",
       "\t<li>21198</li>\n",
       "\t<li>2541</li>\n",
       "\t<li>3100</li>\n",
       "\t<li>579</li>\n",
       "\t<li>8277</li>\n",
       "\t<li>4931</li>\n",
       "\t<li>868</li>\n",
       "\t<li>813</li>\n",
       "\t<li>11197</li>\n",
       "\t<li>5313</li>\n",
       "\t<li>2861</li>\n",
       "\t<li>2280</li>\n",
       "\t<li>3387</li>\n",
       "\t<li>3806</li>\n",
       "\t<li>1058</li>\n",
       "\t<li>4122</li>\n",
       "\t<li>5814</li>\n",
       "\t<li>9111</li>\n",
       "\t<li>3921</li>\n",
       "\t<li>2341</li>\n",
       "\t<li>4767</li>\n",
       "\t<li>746</li>\n",
       "\t<li>1544</li>\n",
       "\t<li>590</li>\n",
       "\t<li>812</li>\n",
       "\t<li>7333</li>\n",
       "\t<li>1144</li>\n",
       "\t<li>18076</li>\n",
       "\t<li>5441</li>\n",
       "\t<li>637</li>\n",
       "\t<li>10735</li>\n",
       "\t<li>2715</li>\n",
       "\t<li>2284</li>\n",
       "\t<li>11860</li>\n",
       "\t<li>931</li>\n",
       "\t<li>2816</li>\n",
       "\t<li>681</li>\n",
       "\t<li>4173</li>\n",
       "\t<li>12237</li>\n",
       "\t<li>1203</li>\n",
       "\t<li>472</li>\n",
       "\t<li>4981</li>\n",
       "\t<li>3559</li>\n",
       "\t<li>1799</li>\n",
       "\t<li>4589</li>\n",
       "\t<li>376</li>\n",
       "</ol>\n"
      ],
      "text/latex": [
       "\\begin{enumerate*}\n",
       "\\item 3615\n",
       "\\item 365\n",
       "\\item 2212\n",
       "\\item 2110\n",
       "\\item 21198\n",
       "\\item 2541\n",
       "\\item 3100\n",
       "\\item 579\n",
       "\\item 8277\n",
       "\\item 4931\n",
       "\\item 868\n",
       "\\item 813\n",
       "\\item 11197\n",
       "\\item 5313\n",
       "\\item 2861\n",
       "\\item 2280\n",
       "\\item 3387\n",
       "\\item 3806\n",
       "\\item 1058\n",
       "\\item 4122\n",
       "\\item 5814\n",
       "\\item 9111\n",
       "\\item 3921\n",
       "\\item 2341\n",
       "\\item 4767\n",
       "\\item 746\n",
       "\\item 1544\n",
       "\\item 590\n",
       "\\item 812\n",
       "\\item 7333\n",
       "\\item 1144\n",
       "\\item 18076\n",
       "\\item 5441\n",
       "\\item 637\n",
       "\\item 10735\n",
       "\\item 2715\n",
       "\\item 2284\n",
       "\\item 11860\n",
       "\\item 931\n",
       "\\item 2816\n",
       "\\item 681\n",
       "\\item 4173\n",
       "\\item 12237\n",
       "\\item 1203\n",
       "\\item 472\n",
       "\\item 4981\n",
       "\\item 3559\n",
       "\\item 1799\n",
       "\\item 4589\n",
       "\\item 376\n",
       "\\end{enumerate*}\n"
      ],
      "text/markdown": [
       "1. 3615\n",
       "2. 365\n",
       "3. 2212\n",
       "4. 2110\n",
       "5. 21198\n",
       "6. 2541\n",
       "7. 3100\n",
       "8. 579\n",
       "9. 8277\n",
       "10. 4931\n",
       "11. 868\n",
       "12. 813\n",
       "13. 11197\n",
       "14. 5313\n",
       "15. 2861\n",
       "16. 2280\n",
       "17. 3387\n",
       "18. 3806\n",
       "19. 1058\n",
       "20. 4122\n",
       "21. 5814\n",
       "22. 9111\n",
       "23. 3921\n",
       "24. 2341\n",
       "25. 4767\n",
       "26. 746\n",
       "27. 1544\n",
       "28. 590\n",
       "29. 812\n",
       "30. 7333\n",
       "31. 1144\n",
       "32. 18076\n",
       "33. 5441\n",
       "34. 637\n",
       "35. 10735\n",
       "36. 2715\n",
       "37. 2284\n",
       "38. 11860\n",
       "39. 931\n",
       "40. 2816\n",
       "41. 681\n",
       "42. 4173\n",
       "43. 12237\n",
       "44. 1203\n",
       "45. 472\n",
       "46. 4981\n",
       "47. 3559\n",
       "48. 1799\n",
       "49. 4589\n",
       "50. 376\n",
       "\n",
       "\n"
      ],
      "text/plain": [
       " [1]  3615   365  2212  2110 21198  2541  3100   579  8277  4931   868   813\n",
       "[13] 11197  5313  2861  2280  3387  3806  1058  4122  5814  9111  3921  2341\n",
       "[25]  4767   746  1544   590   812  7333  1144 18076  5441   637 10735  2715\n",
       "[37]  2284 11860   931  2816   681  4173 12237  1203   472  4981  3559  1799\n",
       "[49]  4589   376"
      ]
     },
     "metadata": {},
     "output_type": "display_data"
    }
   ],
   "source": [
    "state_info$population"
   ]
  },
  {
   "cell_type": "markdown",
   "metadata": {},
   "source": [
    "You can add new column and assign value to that column."
   ]
  },
  {
   "cell_type": "code",
   "execution_count": 18,
   "metadata": {},
   "outputs": [
    {
     "data": {
      "text/html": [
       "<table>\n",
       "<thead><tr><th></th><th scope=col>X</th><th scope=col>state.abb</th><th scope=col>state.area</th><th scope=col>state.region</th><th scope=col>population</th><th scope=col>income</th><th scope=col>illiteracy</th><th scope=col>life.exp</th><th scope=col>murder</th><th scope=col>highSchoolGrad</th><th scope=col>frost</th><th scope=col>area</th><th scope=col>college</th></tr></thead>\n",
       "<tbody>\n",
       "\t<tr><th scope=row>11</th><td>Alabama   </td><td>AL        </td><td> 51609    </td><td>2         </td><td> 3615     </td><td>3624      </td><td>2.1       </td><td>69.05     </td><td>15.1      </td><td>41.3      </td><td> 20       </td><td> 50708    </td><td>1         </td></tr>\n",
       "\t<tr><th scope=row>12</th><td>Alaska    </td><td>AK        </td><td>589757    </td><td>4         </td><td>  365     </td><td>6315      </td><td>1.5       </td><td>69.31     </td><td>11.3      </td><td>66.7      </td><td>152       </td><td>566432    </td><td>2         </td></tr>\n",
       "\t<tr><th scope=row>13</th><td>Arizona   </td><td>AZ        </td><td>113909    </td><td>4         </td><td> 2212     </td><td>4530      </td><td>1.8       </td><td>70.55     </td><td> 7.8      </td><td>58.1      </td><td> 15       </td><td>113417    </td><td>1         </td></tr>\n",
       "\t<tr><th scope=row>14</th><td>Arkansas  </td><td>AR        </td><td> 53104    </td><td>2         </td><td> 2110     </td><td>3378      </td><td>1.9       </td><td>70.66     </td><td>10.1      </td><td>39.9      </td><td> 65       </td><td> 51945    </td><td>2         </td></tr>\n",
       "\t<tr><th scope=row>15</th><td>California</td><td>CA        </td><td>158693    </td><td>4         </td><td>21198     </td><td>5114      </td><td>1.1       </td><td>71.71     </td><td>10.3      </td><td>62.6      </td><td> 20       </td><td>156361    </td><td>1         </td></tr>\n",
       "\t<tr><th scope=row>16</th><td>Colorado  </td><td>CO        </td><td>104247    </td><td>4         </td><td> 2541     </td><td>4884      </td><td>0.7       </td><td>72.06     </td><td> 6.8      </td><td>63.9      </td><td>166       </td><td>103766    </td><td>2         </td></tr>\n",
       "</tbody>\n",
       "</table>\n"
      ],
      "text/latex": [
       "\\begin{tabular}{r|lllllllllllll}\n",
       "  & X & state.abb & state.area & state.region & population & income & illiteracy & life.exp & murder & highSchoolGrad & frost & area & college\\\\\n",
       "\\hline\n",
       "\t11 & Alabama    & AL         &  51609     & 2          &  3615      & 3624       & 2.1        & 69.05      & 15.1       & 41.3       &  20        &  50708     & 1         \\\\\n",
       "\t12 & Alaska     & AK         & 589757     & 4          &   365      & 6315       & 1.5        & 69.31      & 11.3       & 66.7       & 152        & 566432     & 2         \\\\\n",
       "\t13 & Arizona    & AZ         & 113909     & 4          &  2212      & 4530       & 1.8        & 70.55      &  7.8       & 58.1       &  15        & 113417     & 1         \\\\\n",
       "\t14 & Arkansas   & AR         &  53104     & 2          &  2110      & 3378       & 1.9        & 70.66      & 10.1       & 39.9       &  65        &  51945     & 2         \\\\\n",
       "\t15 & California & CA         & 158693     & 4          & 21198      & 5114       & 1.1        & 71.71      & 10.3       & 62.6       &  20        & 156361     & 1         \\\\\n",
       "\t16 & Colorado   & CO         & 104247     & 4          &  2541      & 4884       & 0.7        & 72.06      &  6.8       & 63.9       & 166        & 103766     & 2         \\\\\n",
       "\\end{tabular}\n"
      ],
      "text/markdown": [
       "\n",
       "| <!--/--> | X | state.abb | state.area | state.region | population | income | illiteracy | life.exp | murder | highSchoolGrad | frost | area | college | \n",
       "|---|---|---|---|---|---|\n",
       "| 11 | Alabama    | AL         |  51609     | 2          |  3615      | 3624       | 2.1        | 69.05      | 15.1       | 41.3       |  20        |  50708     | 1          | \n",
       "| 12 | Alaska     | AK         | 589757     | 4          |   365      | 6315       | 1.5        | 69.31      | 11.3       | 66.7       | 152        | 566432     | 2          | \n",
       "| 13 | Arizona    | AZ         | 113909     | 4          |  2212      | 4530       | 1.8        | 70.55      |  7.8       | 58.1       |  15        | 113417     | 1          | \n",
       "| 14 | Arkansas   | AR         |  53104     | 2          |  2110      | 3378       | 1.9        | 70.66      | 10.1       | 39.9       |  65        |  51945     | 2          | \n",
       "| 15 | California | CA         | 158693     | 4          | 21198      | 5114       | 1.1        | 71.71      | 10.3       | 62.6       |  20        | 156361     | 1          | \n",
       "| 16 | Colorado   | CO         | 104247     | 4          |  2541      | 4884       | 0.7        | 72.06      |  6.8       | 63.9       | 166        | 103766     | 2          | \n",
       "\n",
       "\n"
      ],
      "text/plain": [
       "   X          state.abb state.area state.region population income illiteracy\n",
       "11 Alabama    AL         51609     2             3615      3624   2.1       \n",
       "12 Alaska     AK        589757     4              365      6315   1.5       \n",
       "13 Arizona    AZ        113909     4             2212      4530   1.8       \n",
       "14 Arkansas   AR         53104     2             2110      3378   1.9       \n",
       "15 California CA        158693     4            21198      5114   1.1       \n",
       "16 Colorado   CO        104247     4             2541      4884   0.7       \n",
       "   life.exp murder highSchoolGrad frost area   college\n",
       "11 69.05    15.1   41.3            20    50708 1      \n",
       "12 69.31    11.3   66.7           152   566432 2      \n",
       "13 70.55     7.8   58.1            15   113417 1      \n",
       "14 70.66    10.1   39.9            65    51945 2      \n",
       "15 71.71    10.3   62.6            20   156361 1      \n",
       "16 72.06     6.8   63.9           166   103766 2      "
      ]
     },
     "metadata": {},
     "output_type": "display_data"
    }
   ],
   "source": [
    "state_info$college <- c(1, 2)\n",
    "head(state_info)"
   ]
  },
  {
   "cell_type": "markdown",
   "metadata": {},
   "source": [
    "You can drop a column as well."
   ]
  },
  {
   "cell_type": "code",
   "execution_count": 19,
   "metadata": {},
   "outputs": [
    {
     "data": {
      "text/html": [
       "<table>\n",
       "<thead><tr><th></th><th scope=col>X</th><th scope=col>state.abb</th><th scope=col>state.area</th><th scope=col>state.region</th><th scope=col>population</th><th scope=col>income</th><th scope=col>illiteracy</th><th scope=col>life.exp</th><th scope=col>murder</th><th scope=col>highSchoolGrad</th><th scope=col>frost</th><th scope=col>area</th></tr></thead>\n",
       "<tbody>\n",
       "\t<tr><th scope=row>11</th><td>Alabama   </td><td>AL        </td><td> 51609    </td><td>2         </td><td> 3615     </td><td>3624      </td><td>2.1       </td><td>69.05     </td><td>15.1      </td><td>41.3      </td><td> 20       </td><td> 50708    </td></tr>\n",
       "\t<tr><th scope=row>12</th><td>Alaska    </td><td>AK        </td><td>589757    </td><td>4         </td><td>  365     </td><td>6315      </td><td>1.5       </td><td>69.31     </td><td>11.3      </td><td>66.7      </td><td>152       </td><td>566432    </td></tr>\n",
       "\t<tr><th scope=row>13</th><td>Arizona   </td><td>AZ        </td><td>113909    </td><td>4         </td><td> 2212     </td><td>4530      </td><td>1.8       </td><td>70.55     </td><td> 7.8      </td><td>58.1      </td><td> 15       </td><td>113417    </td></tr>\n",
       "\t<tr><th scope=row>14</th><td>Arkansas  </td><td>AR        </td><td> 53104    </td><td>2         </td><td> 2110     </td><td>3378      </td><td>1.9       </td><td>70.66     </td><td>10.1      </td><td>39.9      </td><td> 65       </td><td> 51945    </td></tr>\n",
       "\t<tr><th scope=row>15</th><td>California</td><td>CA        </td><td>158693    </td><td>4         </td><td>21198     </td><td>5114      </td><td>1.1       </td><td>71.71     </td><td>10.3      </td><td>62.6      </td><td> 20       </td><td>156361    </td></tr>\n",
       "\t<tr><th scope=row>16</th><td>Colorado  </td><td>CO        </td><td>104247    </td><td>4         </td><td> 2541     </td><td>4884      </td><td>0.7       </td><td>72.06     </td><td> 6.8      </td><td>63.9      </td><td>166       </td><td>103766    </td></tr>\n",
       "</tbody>\n",
       "</table>\n"
      ],
      "text/latex": [
       "\\begin{tabular}{r|llllllllllll}\n",
       "  & X & state.abb & state.area & state.region & population & income & illiteracy & life.exp & murder & highSchoolGrad & frost & area\\\\\n",
       "\\hline\n",
       "\t11 & Alabama    & AL         &  51609     & 2          &  3615      & 3624       & 2.1        & 69.05      & 15.1       & 41.3       &  20        &  50708    \\\\\n",
       "\t12 & Alaska     & AK         & 589757     & 4          &   365      & 6315       & 1.5        & 69.31      & 11.3       & 66.7       & 152        & 566432    \\\\\n",
       "\t13 & Arizona    & AZ         & 113909     & 4          &  2212      & 4530       & 1.8        & 70.55      &  7.8       & 58.1       &  15        & 113417    \\\\\n",
       "\t14 & Arkansas   & AR         &  53104     & 2          &  2110      & 3378       & 1.9        & 70.66      & 10.1       & 39.9       &  65        &  51945    \\\\\n",
       "\t15 & California & CA         & 158693     & 4          & 21198      & 5114       & 1.1        & 71.71      & 10.3       & 62.6       &  20        & 156361    \\\\\n",
       "\t16 & Colorado   & CO         & 104247     & 4          &  2541      & 4884       & 0.7        & 72.06      &  6.8       & 63.9       & 166        & 103766    \\\\\n",
       "\\end{tabular}\n"
      ],
      "text/markdown": [
       "\n",
       "| <!--/--> | X | state.abb | state.area | state.region | population | income | illiteracy | life.exp | murder | highSchoolGrad | frost | area | \n",
       "|---|---|---|---|---|---|\n",
       "| 11 | Alabama    | AL         |  51609     | 2          |  3615      | 3624       | 2.1        | 69.05      | 15.1       | 41.3       |  20        |  50708     | \n",
       "| 12 | Alaska     | AK         | 589757     | 4          |   365      | 6315       | 1.5        | 69.31      | 11.3       | 66.7       | 152        | 566432     | \n",
       "| 13 | Arizona    | AZ         | 113909     | 4          |  2212      | 4530       | 1.8        | 70.55      |  7.8       | 58.1       |  15        | 113417     | \n",
       "| 14 | Arkansas   | AR         |  53104     | 2          |  2110      | 3378       | 1.9        | 70.66      | 10.1       | 39.9       |  65        |  51945     | \n",
       "| 15 | California | CA         | 158693     | 4          | 21198      | 5114       | 1.1        | 71.71      | 10.3       | 62.6       |  20        | 156361     | \n",
       "| 16 | Colorado   | CO         | 104247     | 4          |  2541      | 4884       | 0.7        | 72.06      |  6.8       | 63.9       | 166        | 103766     | \n",
       "\n",
       "\n"
      ],
      "text/plain": [
       "   X          state.abb state.area state.region population income illiteracy\n",
       "11 Alabama    AL         51609     2             3615      3624   2.1       \n",
       "12 Alaska     AK        589757     4              365      6315   1.5       \n",
       "13 Arizona    AZ        113909     4             2212      4530   1.8       \n",
       "14 Arkansas   AR         53104     2             2110      3378   1.9       \n",
       "15 California CA        158693     4            21198      5114   1.1       \n",
       "16 Colorado   CO        104247     4             2541      4884   0.7       \n",
       "   life.exp murder highSchoolGrad frost area  \n",
       "11 69.05    15.1   41.3            20    50708\n",
       "12 69.31    11.3   66.7           152   566432\n",
       "13 70.55     7.8   58.1            15   113417\n",
       "14 70.66    10.1   39.9            65    51945\n",
       "15 71.71    10.3   62.6            20   156361\n",
       "16 72.06     6.8   63.9           166   103766"
      ]
     },
     "metadata": {},
     "output_type": "display_data"
    }
   ],
   "source": [
    "state_info <- subset(state_info, select = -college)\n",
    "head(state_info)"
   ]
  },
  {
   "cell_type": "markdown",
   "metadata": {},
   "source": [
    "### Get subset of a Data Frame"
   ]
  },
  {
   "cell_type": "markdown",
   "metadata": {},
   "source": [
    "Sometimes, it is not enough to only get rows or columns. You may want to get a subset of a Data Frame as well. There are two ways to achieve it:\n",
    "\n",
    "* subset(dataframe, condition)\n",
    "* dataframe[rows, columns]"
   ]
  },
  {
   "cell_type": "code",
   "execution_count": 32,
   "metadata": {},
   "outputs": [
    {
     "data": {
      "text/html": [
       "<table>\n",
       "<thead><tr><th></th><th scope=col>state.abb</th><th scope=col>state.area</th><th scope=col>state.region</th><th scope=col>population</th></tr></thead>\n",
       "<tbody>\n",
       "\t<tr><th scope=row>15</th><td>CA    </td><td>158693</td><td>4     </td><td>21198 </td></tr>\n",
       "\t<tr><th scope=row>23</th><td>IL    </td><td> 56400</td><td>3     </td><td>11197 </td></tr>\n",
       "</tbody>\n",
       "</table>\n"
      ],
      "text/latex": [
       "\\begin{tabular}{r|llll}\n",
       "  & state.abb & state.area & state.region & population\\\\\n",
       "\\hline\n",
       "\t15 & CA     & 158693 & 4      & 21198 \\\\\n",
       "\t23 & IL     &  56400 & 3      & 11197 \\\\\n",
       "\\end{tabular}\n"
      ],
      "text/markdown": [
       "\n",
       "| <!--/--> | state.abb | state.area | state.region | population | \n",
       "|---|---|\n",
       "| 15 | CA     | 158693 | 4      | 21198  | \n",
       "| 23 | IL     |  56400 | 3      | 11197  | \n",
       "\n",
       "\n"
      ],
      "text/plain": [
       "   state.abb state.area state.region population\n",
       "15 CA        158693     4            21198     \n",
       "23 IL         56400     3            11197     "
      ]
     },
     "metadata": {},
     "output_type": "display_data"
    }
   ],
   "source": [
    "subset(state_info, income > 5000 & population > 10000, 2:5)"
   ]
  },
  {
   "cell_type": "code",
   "execution_count": 33,
   "metadata": {},
   "outputs": [
    {
     "data": {
      "text/html": [
       "<table>\n",
       "<thead><tr><th></th><th scope=col>X</th><th scope=col>state.abb</th><th scope=col>state.area</th><th scope=col>state.region</th><th scope=col>population</th><th scope=col>income</th><th scope=col>illiteracy</th><th scope=col>life.exp</th><th scope=col>murder</th><th scope=col>highSchoolGrad</th><th scope=col>frost</th><th scope=col>area</th></tr></thead>\n",
       "<tbody>\n",
       "\t<tr><th scope=row>15</th><td>California  </td><td>CA          </td><td>158693      </td><td>4           </td><td>21198       </td><td>5114        </td><td>1.1         </td><td>71.71       </td><td>10.3        </td><td>62.6        </td><td> 20         </td><td>156361      </td></tr>\n",
       "\t<tr><th scope=row>23</th><td>Illinois    </td><td>IL          </td><td> 56400      </td><td>3           </td><td>11197       </td><td>5107        </td><td>0.9         </td><td>70.14       </td><td>10.3        </td><td>52.6        </td><td>127         </td><td> 55748      </td></tr>\n",
       "\t<tr><th scope=row>42</th><td>New York    </td><td>NY          </td><td> 49576      </td><td>1           </td><td>18076       </td><td>4903        </td><td>1.4         </td><td>70.55       </td><td>10.9        </td><td>52.7        </td><td> 82         </td><td> 47831      </td></tr>\n",
       "\t<tr><th scope=row>45</th><td>Ohio        </td><td>OH          </td><td> 41222      </td><td>3           </td><td>10735       </td><td>4561        </td><td>0.8         </td><td>70.82       </td><td> 7.4        </td><td>53.2        </td><td>124         </td><td> 40975      </td></tr>\n",
       "\t<tr><th scope=row>48</th><td>Pennsylvania</td><td>PA          </td><td> 45333      </td><td>1           </td><td>11860       </td><td>4449        </td><td>1.0         </td><td>70.43       </td><td> 6.1        </td><td>50.2        </td><td>126         </td><td> 44966      </td></tr>\n",
       "\t<tr><th scope=row>53</th><td>Texas       </td><td>TX          </td><td>267339      </td><td>2           </td><td>12237       </td><td>4188        </td><td>2.2         </td><td>70.90       </td><td>12.2        </td><td>47.4        </td><td> 35         </td><td>262134      </td></tr>\n",
       "</tbody>\n",
       "</table>\n"
      ],
      "text/latex": [
       "\\begin{tabular}{r|llllllllllll}\n",
       "  & X & state.abb & state.area & state.region & population & income & illiteracy & life.exp & murder & highSchoolGrad & frost & area\\\\\n",
       "\\hline\n",
       "\t15 & California   & CA           & 158693       & 4            & 21198        & 5114         & 1.1          & 71.71        & 10.3         & 62.6         &  20          & 156361      \\\\\n",
       "\t23 & Illinois     & IL           &  56400       & 3            & 11197        & 5107         & 0.9          & 70.14        & 10.3         & 52.6         & 127          &  55748      \\\\\n",
       "\t42 & New York     & NY           &  49576       & 1            & 18076        & 4903         & 1.4          & 70.55        & 10.9         & 52.7         &  82          &  47831      \\\\\n",
       "\t45 & Ohio         & OH           &  41222       & 3            & 10735        & 4561         & 0.8          & 70.82        &  7.4         & 53.2         & 124          &  40975      \\\\\n",
       "\t48 & Pennsylvania & PA           &  45333       & 1            & 11860        & 4449         & 1.0          & 70.43        &  6.1         & 50.2         & 126          &  44966      \\\\\n",
       "\t53 & Texas        & TX           & 267339       & 2            & 12237        & 4188         & 2.2          & 70.90        & 12.2         & 47.4         &  35          & 262134      \\\\\n",
       "\\end{tabular}\n"
      ],
      "text/markdown": [
       "\n",
       "| <!--/--> | X | state.abb | state.area | state.region | population | income | illiteracy | life.exp | murder | highSchoolGrad | frost | area | \n",
       "|---|---|---|---|---|---|\n",
       "| 15 | California   | CA           | 158693       | 4            | 21198        | 5114         | 1.1          | 71.71        | 10.3         | 62.6         |  20          | 156361       | \n",
       "| 23 | Illinois     | IL           |  56400       | 3            | 11197        | 5107         | 0.9          | 70.14        | 10.3         | 52.6         | 127          |  55748       | \n",
       "| 42 | New York     | NY           |  49576       | 1            | 18076        | 4903         | 1.4          | 70.55        | 10.9         | 52.7         |  82          |  47831       | \n",
       "| 45 | Ohio         | OH           |  41222       | 3            | 10735        | 4561         | 0.8          | 70.82        |  7.4         | 53.2         | 124          |  40975       | \n",
       "| 48 | Pennsylvania | PA           |  45333       | 1            | 11860        | 4449         | 1.0          | 70.43        |  6.1         | 50.2         | 126          |  44966       | \n",
       "| 53 | Texas        | TX           | 267339       | 2            | 12237        | 4188         | 2.2          | 70.90        | 12.2         | 47.4         |  35          | 262134       | \n",
       "\n",
       "\n"
      ],
      "text/plain": [
       "   X            state.abb state.area state.region population income illiteracy\n",
       "15 California   CA        158693     4            21198      5114   1.1       \n",
       "23 Illinois     IL         56400     3            11197      5107   0.9       \n",
       "42 New York     NY         49576     1            18076      4903   1.4       \n",
       "45 Ohio         OH         41222     3            10735      4561   0.8       \n",
       "48 Pennsylvania PA         45333     1            11860      4449   1.0       \n",
       "53 Texas        TX        267339     2            12237      4188   2.2       \n",
       "   life.exp murder highSchoolGrad frost area  \n",
       "15 71.71    10.3   62.6            20   156361\n",
       "23 70.14    10.3   52.6           127    55748\n",
       "42 70.55    10.9   52.7            82    47831\n",
       "45 70.82     7.4   53.2           124    40975\n",
       "48 70.43     6.1   50.2           126    44966\n",
       "53 70.90    12.2   47.4            35   262134"
      ]
     },
     "metadata": {},
     "output_type": "display_data"
    }
   ],
   "source": [
    "state_info[state_info$population > 10000, ]"
   ]
  },
  {
   "cell_type": "markdown",
   "metadata": {},
   "source": [
    "---"
   ]
  },
  {
   "cell_type": "markdown",
   "metadata": {
    "collapsed": true
   },
   "source": [
    "<a id = 'lists'></a>\n",
    "## Lists"
   ]
  },
  {
   "cell_type": "markdown",
   "metadata": {
    "collapsed": true
   },
   "source": [
    "Similar to Python lists, lists in R are an ordered collections of objects. It can contains various data type."
   ]
  },
  {
   "cell_type": "code",
   "execution_count": 34,
   "metadata": {},
   "outputs": [
    {
     "data": {
      "text/html": [
       "<dl>\n",
       "\t<dt>$name</dt>\n",
       "\t\t<dd>'Fred'</dd>\n",
       "\t<dt>$mynumbers</dt>\n",
       "\t\t<dd><ol class=list-inline>\n",
       "\t<li>1</li>\n",
       "\t<li>2</li>\n",
       "\t<li>5.3</li>\n",
       "\t<li>6</li>\n",
       "\t<li>-2</li>\n",
       "\t<li>4</li>\n",
       "</ol>\n",
       "</dd>\n",
       "\t<dt>$mymatrix</dt>\n",
       "\t\t<dd><table>\n",
       "<tbody>\n",
       "\t<tr><td>1 </td><td> 6</td><td>11</td><td>16</td></tr>\n",
       "\t<tr><td>2 </td><td> 7</td><td>12</td><td>17</td></tr>\n",
       "\t<tr><td>3 </td><td> 8</td><td>13</td><td>18</td></tr>\n",
       "\t<tr><td>4 </td><td> 9</td><td>14</td><td>19</td></tr>\n",
       "\t<tr><td>5 </td><td>10</td><td>15</td><td>20</td></tr>\n",
       "</tbody>\n",
       "</table>\n",
       "</dd>\n",
       "\t<dt>$age</dt>\n",
       "\t\t<dd>5.3</dd>\n",
       "</dl>\n"
      ],
      "text/latex": [
       "\\begin{description}\n",
       "\\item[\\$name] 'Fred'\n",
       "\\item[\\$mynumbers] \\begin{enumerate*}\n",
       "\\item 1\n",
       "\\item 2\n",
       "\\item 5.3\n",
       "\\item 6\n",
       "\\item -2\n",
       "\\item 4\n",
       "\\end{enumerate*}\n",
       "\n",
       "\\item[\\$mymatrix] \\begin{tabular}{llll}\n",
       "\t 1  &  6 & 11 & 16\\\\\n",
       "\t 2  &  7 & 12 & 17\\\\\n",
       "\t 3  &  8 & 13 & 18\\\\\n",
       "\t 4  &  9 & 14 & 19\\\\\n",
       "\t 5  & 10 & 15 & 20\\\\\n",
       "\\end{tabular}\n",
       "\n",
       "\\item[\\$age] 5.3\n",
       "\\end{description}\n"
      ],
      "text/markdown": [
       "$name\n",
       ":   'Fred'\n",
       "$mynumbers\n",
       ":   1. 1\n",
       "2. 2\n",
       "3. 5.3\n",
       "4. 6\n",
       "5. -2\n",
       "6. 4\n",
       "\n",
       "\n",
       "\n",
       "$mymatrix\n",
       ":   \n",
       "| 1  |  6 | 11 | 16 | \n",
       "| 2  |  7 | 12 | 17 | \n",
       "| 3  |  8 | 13 | 18 | \n",
       "| 4  |  9 | 14 | 19 | \n",
       "| 5  | 10 | 15 | 20 | \n",
       "\n",
       "\n",
       "\n",
       "$age\n",
       ":   5.3\n",
       "\n",
       "\n"
      ],
      "text/plain": [
       "$name\n",
       "[1] \"Fred\"\n",
       "\n",
       "$mynumbers\n",
       "[1]  1.0  2.0  5.3  6.0 -2.0  4.0\n",
       "\n",
       "$mymatrix\n",
       "     [,1] [,2] [,3] [,4]\n",
       "[1,]    1    6   11   16\n",
       "[2,]    2    7   12   17\n",
       "[3,]    3    8   13   18\n",
       "[4,]    4    9   14   19\n",
       "[5,]    5   10   15   20\n",
       "\n",
       "$age\n",
       "[1] 5.3\n"
      ]
     },
     "metadata": {},
     "output_type": "display_data"
    }
   ],
   "source": [
    "a <- c(1, 2, 5.3, 6, -2, 4)\n",
    "y <- matrix(1:20, nrow=5, ncol=4)\n",
    "\n",
    "li <- list(name='Fred', mynumbers=a, mymatrix=y, age=5.3)\n",
    "li"
   ]
  },
  {
   "cell_type": "markdown",
   "metadata": {
    "collapsed": true
   },
   "source": [
    "You can identify elements of a list using the `[[]]` convention."
   ]
  },
  {
   "cell_type": "code",
   "execution_count": 35,
   "metadata": {},
   "outputs": [
    {
     "data": {
      "text/html": [
       "<ol class=list-inline>\n",
       "\t<li>1</li>\n",
       "\t<li>2</li>\n",
       "\t<li>5.3</li>\n",
       "\t<li>6</li>\n",
       "\t<li>-2</li>\n",
       "\t<li>4</li>\n",
       "</ol>\n"
      ],
      "text/latex": [
       "\\begin{enumerate*}\n",
       "\\item 1\n",
       "\\item 2\n",
       "\\item 5.3\n",
       "\\item 6\n",
       "\\item -2\n",
       "\\item 4\n",
       "\\end{enumerate*}\n"
      ],
      "text/markdown": [
       "1. 1\n",
       "2. 2\n",
       "3. 5.3\n",
       "4. 6\n",
       "5. -2\n",
       "6. 4\n",
       "\n",
       "\n"
      ],
      "text/plain": [
       "[1]  1.0  2.0  5.3  6.0 -2.0  4.0"
      ]
     },
     "metadata": {},
     "output_type": "display_data"
    }
   ],
   "source": [
    "li[[2]]"
   ]
  },
  {
   "cell_type": "code",
   "execution_count": 36,
   "metadata": {},
   "outputs": [
    {
     "data": {
      "text/html": [
       "5.3"
      ],
      "text/latex": [
       "5.3"
      ],
      "text/markdown": [
       "5.3"
      ],
      "text/plain": [
       "[1] 5.3"
      ]
     },
     "metadata": {},
     "output_type": "display_data"
    }
   ],
   "source": [
    "li[['age']]"
   ]
  },
  {
   "cell_type": "markdown",
   "metadata": {},
   "source": [
    "<a id = 'factors'></a>\n",
    "## Factors"
   ]
  },
  {
   "cell_type": "markdown",
   "metadata": {},
   "source": [
    "When making a variable a factor, you tell R that the variable is nominal. The factor stores the nominal values as a vector of integers in range [1, k], and an internal vector of character strings mapped to these integers."
   ]
  },
  {
   "cell_type": "code",
   "execution_count": 37,
   "metadata": {},
   "outputs": [
    {
     "data": {
      "text/html": [
       "<ol class=list-inline>\n",
       "\t<li>'male'</li>\n",
       "\t<li>'male'</li>\n",
       "\t<li>'male'</li>\n",
       "\t<li>'male'</li>\n",
       "\t<li>'male'</li>\n",
       "\t<li>'male'</li>\n",
       "\t<li>'male'</li>\n",
       "\t<li>'male'</li>\n",
       "\t<li>'male'</li>\n",
       "\t<li>'male'</li>\n",
       "\t<li>'male'</li>\n",
       "\t<li>'male'</li>\n",
       "\t<li>'male'</li>\n",
       "\t<li>'male'</li>\n",
       "\t<li>'male'</li>\n",
       "\t<li>'male'</li>\n",
       "\t<li>'male'</li>\n",
       "\t<li>'male'</li>\n",
       "\t<li>'male'</li>\n",
       "\t<li>'male'</li>\n",
       "\t<li>'female'</li>\n",
       "\t<li>'female'</li>\n",
       "\t<li>'female'</li>\n",
       "\t<li>'female'</li>\n",
       "\t<li>'female'</li>\n",
       "\t<li>'female'</li>\n",
       "\t<li>'female'</li>\n",
       "\t<li>'female'</li>\n",
       "\t<li>'female'</li>\n",
       "\t<li>'female'</li>\n",
       "\t<li>'female'</li>\n",
       "\t<li>'female'</li>\n",
       "\t<li>'female'</li>\n",
       "\t<li>'female'</li>\n",
       "\t<li>'female'</li>\n",
       "\t<li>'female'</li>\n",
       "\t<li>'female'</li>\n",
       "\t<li>'female'</li>\n",
       "\t<li>'female'</li>\n",
       "\t<li>'female'</li>\n",
       "\t<li>'female'</li>\n",
       "\t<li>'female'</li>\n",
       "\t<li>'female'</li>\n",
       "\t<li>'female'</li>\n",
       "\t<li>'female'</li>\n",
       "\t<li>'female'</li>\n",
       "\t<li>'female'</li>\n",
       "\t<li>'female'</li>\n",
       "\t<li>'female'</li>\n",
       "\t<li>'female'</li>\n",
       "</ol>\n"
      ],
      "text/latex": [
       "\\begin{enumerate*}\n",
       "\\item 'male'\n",
       "\\item 'male'\n",
       "\\item 'male'\n",
       "\\item 'male'\n",
       "\\item 'male'\n",
       "\\item 'male'\n",
       "\\item 'male'\n",
       "\\item 'male'\n",
       "\\item 'male'\n",
       "\\item 'male'\n",
       "\\item 'male'\n",
       "\\item 'male'\n",
       "\\item 'male'\n",
       "\\item 'male'\n",
       "\\item 'male'\n",
       "\\item 'male'\n",
       "\\item 'male'\n",
       "\\item 'male'\n",
       "\\item 'male'\n",
       "\\item 'male'\n",
       "\\item 'female'\n",
       "\\item 'female'\n",
       "\\item 'female'\n",
       "\\item 'female'\n",
       "\\item 'female'\n",
       "\\item 'female'\n",
       "\\item 'female'\n",
       "\\item 'female'\n",
       "\\item 'female'\n",
       "\\item 'female'\n",
       "\\item 'female'\n",
       "\\item 'female'\n",
       "\\item 'female'\n",
       "\\item 'female'\n",
       "\\item 'female'\n",
       "\\item 'female'\n",
       "\\item 'female'\n",
       "\\item 'female'\n",
       "\\item 'female'\n",
       "\\item 'female'\n",
       "\\item 'female'\n",
       "\\item 'female'\n",
       "\\item 'female'\n",
       "\\item 'female'\n",
       "\\item 'female'\n",
       "\\item 'female'\n",
       "\\item 'female'\n",
       "\\item 'female'\n",
       "\\item 'female'\n",
       "\\item 'female'\n",
       "\\end{enumerate*}\n"
      ],
      "text/markdown": [
       "1. 'male'\n",
       "2. 'male'\n",
       "3. 'male'\n",
       "4. 'male'\n",
       "5. 'male'\n",
       "6. 'male'\n",
       "7. 'male'\n",
       "8. 'male'\n",
       "9. 'male'\n",
       "10. 'male'\n",
       "11. 'male'\n",
       "12. 'male'\n",
       "13. 'male'\n",
       "14. 'male'\n",
       "15. 'male'\n",
       "16. 'male'\n",
       "17. 'male'\n",
       "18. 'male'\n",
       "19. 'male'\n",
       "20. 'male'\n",
       "21. 'female'\n",
       "22. 'female'\n",
       "23. 'female'\n",
       "24. 'female'\n",
       "25. 'female'\n",
       "26. 'female'\n",
       "27. 'female'\n",
       "28. 'female'\n",
       "29. 'female'\n",
       "30. 'female'\n",
       "31. 'female'\n",
       "32. 'female'\n",
       "33. 'female'\n",
       "34. 'female'\n",
       "35. 'female'\n",
       "36. 'female'\n",
       "37. 'female'\n",
       "38. 'female'\n",
       "39. 'female'\n",
       "40. 'female'\n",
       "41. 'female'\n",
       "42. 'female'\n",
       "43. 'female'\n",
       "44. 'female'\n",
       "45. 'female'\n",
       "46. 'female'\n",
       "47. 'female'\n",
       "48. 'female'\n",
       "49. 'female'\n",
       "50. 'female'\n",
       "\n",
       "\n"
      ],
      "text/plain": [
       " [1] \"male\"   \"male\"   \"male\"   \"male\"   \"male\"   \"male\"   \"male\"   \"male\"  \n",
       " [9] \"male\"   \"male\"   \"male\"   \"male\"   \"male\"   \"male\"   \"male\"   \"male\"  \n",
       "[17] \"male\"   \"male\"   \"male\"   \"male\"   \"female\" \"female\" \"female\" \"female\"\n",
       "[25] \"female\" \"female\" \"female\" \"female\" \"female\" \"female\" \"female\" \"female\"\n",
       "[33] \"female\" \"female\" \"female\" \"female\" \"female\" \"female\" \"female\" \"female\"\n",
       "[41] \"female\" \"female\" \"female\" \"female\" \"female\" \"female\" \"female\" \"female\"\n",
       "[49] \"female\" \"female\""
      ]
     },
     "metadata": {},
     "output_type": "display_data"
    }
   ],
   "source": [
    "gender <- c(rep('male', 20), rep('female', 30))\n",
    "gender"
   ]
  },
  {
   "cell_type": "code",
   "execution_count": 38,
   "metadata": {},
   "outputs": [
    {
     "data": {
      "text/html": [
       "<ol class=list-inline>\n",
       "\t<li>male</li>\n",
       "\t<li>male</li>\n",
       "\t<li>male</li>\n",
       "\t<li>male</li>\n",
       "\t<li>male</li>\n",
       "\t<li>male</li>\n",
       "\t<li>male</li>\n",
       "\t<li>male</li>\n",
       "\t<li>male</li>\n",
       "\t<li>male</li>\n",
       "\t<li>male</li>\n",
       "\t<li>male</li>\n",
       "\t<li>male</li>\n",
       "\t<li>male</li>\n",
       "\t<li>male</li>\n",
       "\t<li>male</li>\n",
       "\t<li>male</li>\n",
       "\t<li>male</li>\n",
       "\t<li>male</li>\n",
       "\t<li>male</li>\n",
       "\t<li>female</li>\n",
       "\t<li>female</li>\n",
       "\t<li>female</li>\n",
       "\t<li>female</li>\n",
       "\t<li>female</li>\n",
       "\t<li>female</li>\n",
       "\t<li>female</li>\n",
       "\t<li>female</li>\n",
       "\t<li>female</li>\n",
       "\t<li>female</li>\n",
       "\t<li>female</li>\n",
       "\t<li>female</li>\n",
       "\t<li>female</li>\n",
       "\t<li>female</li>\n",
       "\t<li>female</li>\n",
       "\t<li>female</li>\n",
       "\t<li>female</li>\n",
       "\t<li>female</li>\n",
       "\t<li>female</li>\n",
       "\t<li>female</li>\n",
       "\t<li>female</li>\n",
       "\t<li>female</li>\n",
       "\t<li>female</li>\n",
       "\t<li>female</li>\n",
       "\t<li>female</li>\n",
       "\t<li>female</li>\n",
       "\t<li>female</li>\n",
       "\t<li>female</li>\n",
       "\t<li>female</li>\n",
       "\t<li>female</li>\n",
       "</ol>\n"
      ],
      "text/latex": [
       "\\begin{enumerate*}\n",
       "\\item male\n",
       "\\item male\n",
       "\\item male\n",
       "\\item male\n",
       "\\item male\n",
       "\\item male\n",
       "\\item male\n",
       "\\item male\n",
       "\\item male\n",
       "\\item male\n",
       "\\item male\n",
       "\\item male\n",
       "\\item male\n",
       "\\item male\n",
       "\\item male\n",
       "\\item male\n",
       "\\item male\n",
       "\\item male\n",
       "\\item male\n",
       "\\item male\n",
       "\\item female\n",
       "\\item female\n",
       "\\item female\n",
       "\\item female\n",
       "\\item female\n",
       "\\item female\n",
       "\\item female\n",
       "\\item female\n",
       "\\item female\n",
       "\\item female\n",
       "\\item female\n",
       "\\item female\n",
       "\\item female\n",
       "\\item female\n",
       "\\item female\n",
       "\\item female\n",
       "\\item female\n",
       "\\item female\n",
       "\\item female\n",
       "\\item female\n",
       "\\item female\n",
       "\\item female\n",
       "\\item female\n",
       "\\item female\n",
       "\\item female\n",
       "\\item female\n",
       "\\item female\n",
       "\\item female\n",
       "\\item female\n",
       "\\item female\n",
       "\\end{enumerate*}\n"
      ],
      "text/markdown": [
       "1. male\n",
       "2. male\n",
       "3. male\n",
       "4. male\n",
       "5. male\n",
       "6. male\n",
       "7. male\n",
       "8. male\n",
       "9. male\n",
       "10. male\n",
       "11. male\n",
       "12. male\n",
       "13. male\n",
       "14. male\n",
       "15. male\n",
       "16. male\n",
       "17. male\n",
       "18. male\n",
       "19. male\n",
       "20. male\n",
       "21. female\n",
       "22. female\n",
       "23. female\n",
       "24. female\n",
       "25. female\n",
       "26. female\n",
       "27. female\n",
       "28. female\n",
       "29. female\n",
       "30. female\n",
       "31. female\n",
       "32. female\n",
       "33. female\n",
       "34. female\n",
       "35. female\n",
       "36. female\n",
       "37. female\n",
       "38. female\n",
       "39. female\n",
       "40. female\n",
       "41. female\n",
       "42. female\n",
       "43. female\n",
       "44. female\n",
       "45. female\n",
       "46. female\n",
       "47. female\n",
       "48. female\n",
       "49. female\n",
       "50. female\n",
       "\n",
       "\n"
      ],
      "text/plain": [
       " [1] male   male   male   male   male   male   male   male   male   male  \n",
       "[11] male   male   male   male   male   male   male   male   male   male  \n",
       "[21] female female female female female female female female female female\n",
       "[31] female female female female female female female female female female\n",
       "[41] female female female female female female female female female female\n",
       "Levels: female male"
      ]
     },
     "metadata": {},
     "output_type": "display_data"
    }
   ],
   "source": [
    "gender <- factor(gender)\n",
    "gender"
   ]
  },
  {
   "cell_type": "markdown",
   "metadata": {},
   "source": [
    "There is no obvious differences other than the remove of \"''\", but internally, R stores gender as 20 1s and 30 2s and associates 1=female, 2=male (alphabetically). R now treats gender as a nominal variable."
   ]
  },
  {
   "cell_type": "markdown",
   "metadata": {},
   "source": [
    "An ordered factor is used to represent an ordinal variable. R will treat factors as nominal variables and ordered factors as ordinal variables in statistical proceedures and graphical analyses. You can use options in the factor() and ordered() functions to control the mapping of integers to strings (overiding the alphabetical ordering). You can also use factors to create value labels."
   ]
  },
  {
   "cell_type": "markdown",
   "metadata": {},
   "source": [
    "To illustrate, I am going to use 'reddit.csv' as an example. It contains the survey results from reddit.com."
   ]
  },
  {
   "cell_type": "code",
   "execution_count": 22,
   "metadata": {},
   "outputs": [
    {
     "data": {
      "text/html": [
       "<table>\n",
       "<thead><tr><th scope=col>id</th><th scope=col>gender</th><th scope=col>age.range</th><th scope=col>marital.status</th><th scope=col>employment.status</th><th scope=col>military.service</th><th scope=col>children</th><th scope=col>education</th><th scope=col>country</th><th scope=col>state</th><th scope=col>income.range</th><th scope=col>fav.reddit</th><th scope=col>dog.cat</th><th scope=col>cheese</th></tr></thead>\n",
       "<tbody>\n",
       "\t<tr><td>1                                       </td><td>0                                       </td><td>25-34                                   </td><td>NA                                      </td><td>Employed full time                      </td><td>NA                                      </td><td>No                                      </td><td>Bachelor's degree                       </td><td>United States                           </td><td>New York                                </td><td>$150,000 or more                        </td><td>getmotivated                            </td><td>NA                                      </td><td>NA                                      </td></tr>\n",
       "\t<tr><td>2                                       </td><td>0                                       </td><td>25-34                                   </td><td>NA                                      </td><td>Employed full time                      </td><td>NA                                      </td><td>No                                      </td><td>Bachelor's degree                       </td><td>United States                           </td><td>New York                                </td><td>$150,000 or more                        </td><td>gaming                                  </td><td>NA                                      </td><td>NA                                      </td></tr>\n",
       "\t<tr><td>3                                       </td><td>1                                       </td><td>18-24                                   </td><td>NA                                      </td><td>Freelance                               </td><td>NA                                      </td><td>No                                      </td><td>Some college                            </td><td>United States                           </td><td>Virginia                                </td><td>Under $20,000                           </td><td>snackexchange                           </td><td>NA                                      </td><td>NA                                      </td></tr>\n",
       "\t<tr><td>4                                       </td><td>0                                       </td><td>25-34                                   </td><td>NA                                      </td><td>Freelance                               </td><td>NA                                      </td><td>No                                      </td><td>Bachelor's degree                       </td><td>United States                           </td><td>New York                                </td><td>$150,000 or more                        </td><td>spacedicks                              </td><td>NA                                      </td><td>NA                                      </td></tr>\n",
       "\t<tr><td>5                                       </td><td>1                                       </td><td>25-34                                   </td><td>NA                                      </td><td>Employed full time                      </td><td>NA                                      </td><td>No                                      </td><td>Bachelor's degree                       </td><td>United States                           </td><td>California                              </td><td>$70,000 - $99,999                       </td><td>aww                                     </td><td>NA                                      </td><td>NA                                      </td></tr>\n",
       "\t<tr><td>6                                       </td><td>0                                       </td><td>25-34                                   </td><td>Married/civil union/domestic partnership</td><td>Employed full time                      </td><td>No                                      </td><td>No                                      </td><td>Bachelor's degree                       </td><td>United States                           </td><td>New York                                </td><td>$150,000 or more                        </td><td>gaming                                  </td><td>I like dogs.                            </td><td>Cheddar                                 </td></tr>\n",
       "</tbody>\n",
       "</table>\n"
      ],
      "text/latex": [
       "\\begin{tabular}{r|llllllllllllll}\n",
       " id & gender & age.range & marital.status & employment.status & military.service & children & education & country & state & income.range & fav.reddit & dog.cat & cheese\\\\\n",
       "\\hline\n",
       "\t 1                                        & 0                                        & 25-34                                    & NA                                       & Employed full time                       & NA                                       & No                                       & Bachelor's degree                        & United States                            & New York                                 & \\$150,000 or more                       & getmotivated                             & NA                                       & NA                                      \\\\\n",
       "\t 2                                        & 0                                        & 25-34                                    & NA                                       & Employed full time                       & NA                                       & No                                       & Bachelor's degree                        & United States                            & New York                                 & \\$150,000 or more                       & gaming                                   & NA                                       & NA                                      \\\\\n",
       "\t 3                                        & 1                                        & 18-24                                    & NA                                       & Freelance                                & NA                                       & No                                       & Some college                             & United States                            & Virginia                                 & Under \\$20,000                          & snackexchange                            & NA                                       & NA                                      \\\\\n",
       "\t 4                                        & 0                                        & 25-34                                    & NA                                       & Freelance                                & NA                                       & No                                       & Bachelor's degree                        & United States                            & New York                                 & \\$150,000 or more                       & spacedicks                               & NA                                       & NA                                      \\\\\n",
       "\t 5                                        & 1                                        & 25-34                                    & NA                                       & Employed full time                       & NA                                       & No                                       & Bachelor's degree                        & United States                            & California                               & \\$70,000 - \\$99,999                    & aww                                      & NA                                       & NA                                      \\\\\n",
       "\t 6                                        & 0                                        & 25-34                                    & Married/civil union/domestic partnership & Employed full time                       & No                                       & No                                       & Bachelor's degree                        & United States                            & New York                                 & \\$150,000 or more                       & gaming                                   & I like dogs.                             & Cheddar                                 \\\\\n",
       "\\end{tabular}\n"
      ],
      "text/markdown": [
       "\n",
       "id | gender | age.range | marital.status | employment.status | military.service | children | education | country | state | income.range | fav.reddit | dog.cat | cheese | \n",
       "|---|---|---|---|---|---|\n",
       "| 1                                        | 0                                        | 25-34                                    | NA                                       | Employed full time                       | NA                                       | No                                       | Bachelor's degree                        | United States                            | New York                                 | $150,000 or more                         | getmotivated                             | NA                                       | NA                                       | \n",
       "| 2                                        | 0                                        | 25-34                                    | NA                                       | Employed full time                       | NA                                       | No                                       | Bachelor's degree                        | United States                            | New York                                 | $150,000 or more                         | gaming                                   | NA                                       | NA                                       | \n",
       "| 3                                        | 1                                        | 18-24                                    | NA                                       | Freelance                                | NA                                       | No                                       | Some college                             | United States                            | Virginia                                 | Under $20,000                            | snackexchange                            | NA                                       | NA                                       | \n",
       "| 4                                        | 0                                        | 25-34                                    | NA                                       | Freelance                                | NA                                       | No                                       | Bachelor's degree                        | United States                            | New York                                 | $150,000 or more                         | spacedicks                               | NA                                       | NA                                       | \n",
       "| 5                                        | 1                                        | 25-34                                    | NA                                       | Employed full time                       | NA                                       | No                                       | Bachelor's degree                        | United States                            | California                               | $70,000 - $99,999                        | aww                                      | NA                                       | NA                                       | \n",
       "| 6                                        | 0                                        | 25-34                                    | Married/civil union/domestic partnership | Employed full time                       | No                                       | No                                       | Bachelor's degree                        | United States                            | New York                                 | $150,000 or more                         | gaming                                   | I like dogs.                             | Cheddar                                  | \n",
       "\n",
       "\n"
      ],
      "text/plain": [
       "  id gender age.range marital.status                          \n",
       "1 1  0      25-34     NA                                      \n",
       "2 2  0      25-34     NA                                      \n",
       "3 3  1      18-24     NA                                      \n",
       "4 4  0      25-34     NA                                      \n",
       "5 5  1      25-34     NA                                      \n",
       "6 6  0      25-34     Married/civil union/domestic partnership\n",
       "  employment.status  military.service children education         country      \n",
       "1 Employed full time NA               No       Bachelor's degree United States\n",
       "2 Employed full time NA               No       Bachelor's degree United States\n",
       "3 Freelance          NA               No       Some college      United States\n",
       "4 Freelance          NA               No       Bachelor's degree United States\n",
       "5 Employed full time NA               No       Bachelor's degree United States\n",
       "6 Employed full time No               No       Bachelor's degree United States\n",
       "  state      income.range      fav.reddit    dog.cat      cheese \n",
       "1 New York   $150,000 or more  getmotivated  NA           NA     \n",
       "2 New York   $150,000 or more  gaming        NA           NA     \n",
       "3 Virginia   Under $20,000     snackexchange NA           NA     \n",
       "4 New York   $150,000 or more  spacedicks    NA           NA     \n",
       "5 California $70,000 - $99,999 aww           NA           NA     \n",
       "6 New York   $150,000 or more  gaming        I like dogs. Cheddar"
      ]
     },
     "metadata": {},
     "output_type": "display_data"
    }
   ],
   "source": [
    "reddit <- read.csv('reddit.csv')\n",
    "head(reddit)"
   ]
  },
  {
   "cell_type": "code",
   "execution_count": 24,
   "metadata": {},
   "outputs": [
    {
     "data": {
      "text/plain": [
       "\n",
       "                   Employed full time                             Freelance \n",
       "                                14814                                  1948 \n",
       "Not employed and not looking for work    Not employed, but looking for work \n",
       "                                  682                                  2087 \n",
       "                              Retired                               Student \n",
       "                                   85                                 12987 "
      ]
     },
     "metadata": {},
     "output_type": "display_data"
    }
   ],
   "source": [
    "table(reddit$employment.status) # count each factors"
   ]
  },
  {
   "cell_type": "code",
   "execution_count": 26,
   "metadata": {},
   "outputs": [
    {
     "name": "stdout",
     "output_type": "stream",
     "text": [
      "'data.frame':\t32754 obs. of  14 variables:\n",
      " $ id               : int  1 2 3 4 5 6 7 8 9 10 ...\n",
      " $ gender           : int  0 0 1 0 1 0 0 0 0 0 ...\n",
      " $ age.range        : Factor w/ 7 levels \"18-24\",\"25-34\",..: 2 2 1 2 2 2 2 1 3 2 ...\n",
      " $ marital.status   : Factor w/ 6 levels \"Engaged\",\"Forever Alone\",..: NA NA NA NA NA 4 3 4 4 3 ...\n",
      " $ employment.status: Factor w/ 6 levels \"Employed full time\",..: 1 1 2 2 1 1 1 4 1 2 ...\n",
      " $ military.service : Factor w/ 2 levels \"No\",\"Yes\": NA NA NA NA NA 1 1 1 1 1 ...\n",
      " $ children         : Factor w/ 2 levels \"No\",\"Yes\": 1 1 1 1 1 1 1 1 1 1 ...\n",
      " $ education        : Factor w/ 7 levels \"Associate degree\",..: 2 2 5 2 2 2 5 2 2 5 ...\n",
      " $ country          : Factor w/ 439 levels \" Canada\",\" Canada eh\",..: 394 394 394 394 394 394 125 394 394 125 ...\n",
      " $ state            : Factor w/ 53 levels \"\",\"Alabama\",\"Alaska\",..: 33 33 48 33 6 33 1 6 33 1 ...\n",
      " $ income.range     : Factor w/ 8 levels \"$100,000 - $149,999\",..: 2 2 8 2 7 2 NA 7 2 7 ...\n",
      " $ fav.reddit       : Factor w/ 1834 levels \"\",\"___\",\"-\",\"?\",..: 720 691 1511 1528 188 691 1318 571 1629 1 ...\n",
      " $ dog.cat          : Factor w/ 3 levels \"I like cats.\",..: NA NA NA NA NA 2 2 2 1 1 ...\n",
      " $ cheese           : Factor w/ 11 levels \"American\",\"Brie\",..: NA NA NA NA NA 3 3 1 10 7 ...\n"
     ]
    }
   ],
   "source": [
    "str(reddit)"
   ]
  },
  {
   "cell_type": "code",
   "execution_count": 27,
   "metadata": {},
   "outputs": [
    {
     "data": {
      "text/html": [
       "<ol class=list-inline>\n",
       "\t<li>'18-24'</li>\n",
       "\t<li>'25-34'</li>\n",
       "\t<li>'35-44'</li>\n",
       "\t<li>'45-54'</li>\n",
       "\t<li>'55-64'</li>\n",
       "\t<li>'65 or Above'</li>\n",
       "\t<li>'Under 18'</li>\n",
       "</ol>\n"
      ],
      "text/latex": [
       "\\begin{enumerate*}\n",
       "\\item '18-24'\n",
       "\\item '25-34'\n",
       "\\item '35-44'\n",
       "\\item '45-54'\n",
       "\\item '55-64'\n",
       "\\item '65 or Above'\n",
       "\\item 'Under 18'\n",
       "\\end{enumerate*}\n"
      ],
      "text/markdown": [
       "1. '18-24'\n",
       "2. '25-34'\n",
       "3. '35-44'\n",
       "4. '45-54'\n",
       "5. '55-64'\n",
       "6. '65 or Above'\n",
       "7. 'Under 18'\n",
       "\n",
       "\n"
      ],
      "text/plain": [
       "[1] \"18-24\"       \"25-34\"       \"35-44\"       \"45-54\"       \"55-64\"      \n",
       "[6] \"65 or Above\" \"Under 18\"   "
      ]
     },
     "metadata": {},
     "output_type": "display_data"
    }
   ],
   "source": [
    "levels(reddit$age.range)"
   ]
  },
  {
   "cell_type": "code",
   "execution_count": null,
   "metadata": {
    "collapsed": true
   },
   "outputs": [],
   "source": []
  },
  {
   "cell_type": "code",
   "execution_count": null,
   "metadata": {
    "collapsed": true
   },
   "outputs": [],
   "source": []
  },
  {
   "cell_type": "markdown",
   "metadata": {},
   "source": [
    "---"
   ]
  },
  {
   "cell_type": "markdown",
   "metadata": {},
   "source": [
    "<a id = 'basic-functions'></a>\n",
    "## Basic Functions"
   ]
  },
  {
   "cell_type": "code",
   "execution_count": 39,
   "metadata": {},
   "outputs": [
    {
     "data": {
      "text/html": [
       "50"
      ],
      "text/latex": [
       "50"
      ],
      "text/markdown": [
       "50"
      ],
      "text/plain": [
       "[1] 50"
      ]
     },
     "metadata": {},
     "output_type": "display_data"
    }
   ],
   "source": [
    "length(gender)"
   ]
  },
  {
   "cell_type": "code",
   "execution_count": 40,
   "metadata": {},
   "outputs": [
    {
     "name": "stdout",
     "output_type": "stream",
     "text": [
      " Factor w/ 2 levels \"female\",\"male\": 2 2 2 2 2 2 2 2 2 2 ...\n"
     ]
    }
   ],
   "source": [
    "str(gender)"
   ]
  },
  {
   "cell_type": "code",
   "execution_count": 41,
   "metadata": {},
   "outputs": [
    {
     "data": {
      "text/html": [
       "'factor'"
      ],
      "text/latex": [
       "'factor'"
      ],
      "text/markdown": [
       "'factor'"
      ],
      "text/plain": [
       "[1] \"factor\""
      ]
     },
     "metadata": {},
     "output_type": "display_data"
    }
   ],
   "source": [
    "class(gender)"
   ]
  },
  {
   "cell_type": "code",
   "execution_count": 42,
   "metadata": {},
   "outputs": [
    {
     "data": {
      "text/html": [
       "'data.frame'"
      ],
      "text/latex": [
       "'data.frame'"
      ],
      "text/markdown": [
       "'data.frame'"
      ],
      "text/plain": [
       "[1] \"data.frame\""
      ]
     },
     "metadata": {},
     "output_type": "display_data"
    }
   ],
   "source": [
    "class(state_info)"
   ]
  },
  {
   "cell_type": "code",
   "execution_count": 43,
   "metadata": {},
   "outputs": [
    {
     "data": {
      "text/html": [
       "<ol class=list-inline>\n",
       "\t<li>'X'</li>\n",
       "\t<li>'state.abb'</li>\n",
       "\t<li>'state.area'</li>\n",
       "\t<li>'state.region'</li>\n",
       "\t<li>'population'</li>\n",
       "\t<li>'income'</li>\n",
       "\t<li>'illiteracy'</li>\n",
       "\t<li>'life.exp'</li>\n",
       "\t<li>'murder'</li>\n",
       "\t<li>'highSchoolGrad'</li>\n",
       "\t<li>'frost'</li>\n",
       "\t<li>'area'</li>\n",
       "</ol>\n"
      ],
      "text/latex": [
       "\\begin{enumerate*}\n",
       "\\item 'X'\n",
       "\\item 'state.abb'\n",
       "\\item 'state.area'\n",
       "\\item 'state.region'\n",
       "\\item 'population'\n",
       "\\item 'income'\n",
       "\\item 'illiteracy'\n",
       "\\item 'life.exp'\n",
       "\\item 'murder'\n",
       "\\item 'highSchoolGrad'\n",
       "\\item 'frost'\n",
       "\\item 'area'\n",
       "\\end{enumerate*}\n"
      ],
      "text/markdown": [
       "1. 'X'\n",
       "2. 'state.abb'\n",
       "3. 'state.area'\n",
       "4. 'state.region'\n",
       "5. 'population'\n",
       "6. 'income'\n",
       "7. 'illiteracy'\n",
       "8. 'life.exp'\n",
       "9. 'murder'\n",
       "10. 'highSchoolGrad'\n",
       "11. 'frost'\n",
       "12. 'area'\n",
       "\n",
       "\n"
      ],
      "text/plain": [
       " [1] \"X\"              \"state.abb\"      \"state.area\"     \"state.region\"  \n",
       " [5] \"population\"     \"income\"         \"illiteracy\"     \"life.exp\"      \n",
       " [9] \"murder\"         \"highSchoolGrad\" \"frost\"          \"area\"          "
      ]
     },
     "metadata": {},
     "output_type": "display_data"
    }
   ],
   "source": [
    "names(state_info)"
   ]
  },
  {
   "cell_type": "code",
   "execution_count": 44,
   "metadata": {},
   "outputs": [
    {
     "data": {
      "text/html": [
       "<ol class=list-inline>\n",
       "\t<li>1</li>\n",
       "\t<li>2</li>\n",
       "\t<li>3</li>\n",
       "</ol>\n"
      ],
      "text/latex": [
       "\\begin{enumerate*}\n",
       "\\item 1\n",
       "\\item 2\n",
       "\\item 3\n",
       "\\end{enumerate*}\n"
      ],
      "text/markdown": [
       "1. 1\n",
       "2. 2\n",
       "3. 3\n",
       "\n",
       "\n"
      ],
      "text/plain": [
       "[1] 1 2 3"
      ]
     },
     "metadata": {},
     "output_type": "display_data"
    }
   ],
   "source": [
    "c(1, 2, 3) # vector"
   ]
  },
  {
   "cell_type": "code",
   "execution_count": 45,
   "metadata": {},
   "outputs": [
    {
     "data": {
      "text/html": [
       "<table>\n",
       "<tbody>\n",
       "\t<tr><td>1</td><td>2</td><td>3</td></tr>\n",
       "</tbody>\n",
       "</table>\n"
      ],
      "text/latex": [
       "\\begin{tabular}{lll}\n",
       "\t 1 & 2 & 3\\\\\n",
       "\\end{tabular}\n"
      ],
      "text/markdown": [
       "\n",
       "| 1 | 2 | 3 | \n",
       "\n",
       "\n"
      ],
      "text/plain": [
       "     [,1] [,2] [,3]\n",
       "[1,] 1    2    3   "
      ]
     },
     "metadata": {},
     "output_type": "display_data"
    }
   ],
   "source": [
    "cbind(1, 2, 3) # column"
   ]
  },
  {
   "cell_type": "code",
   "execution_count": 46,
   "metadata": {},
   "outputs": [
    {
     "data": {
      "text/html": [
       "<table>\n",
       "<tbody>\n",
       "\t<tr><td>1</td></tr>\n",
       "\t<tr><td>2</td></tr>\n",
       "\t<tr><td>3</td></tr>\n",
       "</tbody>\n",
       "</table>\n"
      ],
      "text/latex": [
       "\\begin{tabular}{l}\n",
       "\t 1\\\\\n",
       "\t 2\\\\\n",
       "\t 3\\\\\n",
       "\\end{tabular}\n"
      ],
      "text/markdown": [
       "\n",
       "| 1 | \n",
       "| 2 | \n",
       "| 3 | \n",
       "\n",
       "\n"
      ],
      "text/plain": [
       "     [,1]\n",
       "[1,] 1   \n",
       "[2,] 2   \n",
       "[3,] 3   "
      ]
     },
     "metadata": {},
     "output_type": "display_data"
    }
   ],
   "source": [
    "rbind(1, 2, 3) # row"
   ]
  },
  {
   "cell_type": "code",
   "execution_count": 47,
   "metadata": {},
   "outputs": [
    {
     "data": {
      "text/html": [
       "<ol class=list-inline>\n",
       "\t<li>'a'</li>\n",
       "\t<li>'cells'</li>\n",
       "\t<li>'cnames'</li>\n",
       "\t<li>'d'</li>\n",
       "\t<li>'e'</li>\n",
       "\t<li>'f'</li>\n",
       "\t<li>'gender'</li>\n",
       "\t<li>'li'</li>\n",
       "\t<li>'mydata'</li>\n",
       "\t<li>'name'</li>\n",
       "\t<li>'new_matrix'</li>\n",
       "\t<li>'number'</li>\n",
       "\t<li>'rnames'</li>\n",
       "\t<li>'state_info'</li>\n",
       "\t<li>'y'</li>\n",
       "</ol>\n"
      ],
      "text/latex": [
       "\\begin{enumerate*}\n",
       "\\item 'a'\n",
       "\\item 'cells'\n",
       "\\item 'cnames'\n",
       "\\item 'd'\n",
       "\\item 'e'\n",
       "\\item 'f'\n",
       "\\item 'gender'\n",
       "\\item 'li'\n",
       "\\item 'mydata'\n",
       "\\item 'name'\n",
       "\\item 'new\\_matrix'\n",
       "\\item 'number'\n",
       "\\item 'rnames'\n",
       "\\item 'state\\_info'\n",
       "\\item 'y'\n",
       "\\end{enumerate*}\n"
      ],
      "text/markdown": [
       "1. 'a'\n",
       "2. 'cells'\n",
       "3. 'cnames'\n",
       "4. 'd'\n",
       "5. 'e'\n",
       "6. 'f'\n",
       "7. 'gender'\n",
       "8. 'li'\n",
       "9. 'mydata'\n",
       "10. 'name'\n",
       "11. 'new_matrix'\n",
       "12. 'number'\n",
       "13. 'rnames'\n",
       "14. 'state_info'\n",
       "15. 'y'\n",
       "\n",
       "\n"
      ],
      "text/plain": [
       " [1] \"a\"          \"cells\"      \"cnames\"     \"d\"          \"e\"         \n",
       " [6] \"f\"          \"gender\"     \"li\"         \"mydata\"     \"name\"      \n",
       "[11] \"new_matrix\" \"number\"     \"rnames\"     \"state_info\" \"y\"         "
      ]
     },
     "metadata": {},
     "output_type": "display_data"
    }
   ],
   "source": [
    "ls() # list all objects"
   ]
  },
  {
   "cell_type": "code",
   "execution_count": 48,
   "metadata": {},
   "outputs": [],
   "source": [
    "rm(y) # remove an object"
   ]
  },
  {
   "cell_type": "markdown",
   "metadata": {},
   "source": [
    "<a id = 'statistical-calculation'></a>\n",
    "## Statistical Calculation"
   ]
  },
  {
   "cell_type": "code",
   "execution_count": 48,
   "metadata": {},
   "outputs": [
    {
     "data": {
      "text/html": [
       "4246.42"
      ],
      "text/latex": [
       "4246.42"
      ],
      "text/markdown": [
       "4246.42"
      ],
      "text/plain": [
       "[1] 4246.42"
      ]
     },
     "metadata": {},
     "output_type": "display_data"
    }
   ],
   "source": [
    "mean(state_info$population)"
   ]
  },
  {
   "cell_type": "code",
   "execution_count": null,
   "metadata": {
    "collapsed": true
   },
   "outputs": [],
   "source": []
  }
 ],
 "metadata": {
  "kernelspec": {
   "display_name": "R",
   "language": "R",
   "name": "ir"
  },
  "language_info": {
   "codemirror_mode": "r",
   "file_extension": ".r",
   "mimetype": "text/x-r-source",
   "name": "R",
   "pygments_lexer": "r",
   "version": "3.4.1"
  }
 },
 "nbformat": 4,
 "nbformat_minor": 2
}
